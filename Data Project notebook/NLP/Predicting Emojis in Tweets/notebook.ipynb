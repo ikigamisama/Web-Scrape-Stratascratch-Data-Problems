{
 "cells": [
  {
   "cell_type": "markdown",
   "id": "caf9141c",
   "metadata": {},
   "source": [
    "### **Link:** https://platform.stratascratch.com/data-projects/predicting-emojis-tweets"
   ]
  },
  {
   "cell_type": "markdown",
   "id": "fc159b95",
   "metadata": {},
   "source": [
    "### **Difficulty:** Hard"
   ]
  },
  {
   "cell_type": "markdown",
   "id": "bbf4c533",
   "metadata": {},
   "source": [
    "# Predicting Emojis in Tweets"
   ]
  },
  {
   "cell_type": "markdown",
   "id": "c2006ff8",
   "metadata": {},
   "source": [
    "<div><p><em>This data project has been used as a take-home assignment in the recruitment process for the data science positions at Emogi.</em></p>\n",
    "<h2>Assignment</h2>\n",
    "<p>Your task is to build a predictive model of emoji in given a piece of text. Our suggestion is to use standard vectorization methods and machine learning classifiers (of your choice). Prepare a script for conducting the experiment, an instruction to reproduce your experiment results, and a report that includes the following:</p>\n",
    "<ol>\n",
    "<li>Experiment results, including the standard metrics e.g. precisions, accuracies, f-measures, and confusion matrices (if applicable).</li>\n",
    "<li>Your findings and observations are based on the experiments, including limitations and assumptions.</li>\n",
    "<li>How you choose the vectorization method and algorithms.</li>\n",
    "<li>What the experiments may be useful for and how we may improve their utility of it.</li>\n",
    "</ol>\n",
    "<h2>Data Description</h2>\n",
    "<p>Included in this repository are two files:</p>\n",
    "<ol>\n",
    "<li><code>tweets.txt</code>, where each line includes the text of a tweet that included emoji (but the emoji has been removed);</li>\n",
    "<li><code>emoji.txt</code>, where each line includes the name of the emoji for the corresponding text in tweets.txt.</li>\n",
    "</ol>\n",
    "<h2>Practicalities</h2>\n",
    "<p>We expect candidate to demonstrate the following abilities through this assignment:</p>\n",
    "<ol>\n",
    "<li>An ability to write well-organized and easy-to-read code in general programming</li>\n",
    "<li>An ability to design an empirical research experiment</li>\n",
    "<li>An ability to articulate the assumptions and limitations of research</li>\n",
    "<li>An ability to think out of the box and propose alternative paths, improvements, and future work</li>\n",
    "</ol>\n",
    "<p>Of course, everyone is not perfect and you have limited time :-)\n",
    "Our suggestion is to spend a couple of hours completing the task and let your intellectual curiosity guide you from there.</p></div>"
   ]
  },
  {
   "cell_type": "markdown",
   "id": "d45dedf6",
   "metadata": {},
   "source": [
    "## **Data:**"
   ]
  },
  {
   "cell_type": "code",
   "execution_count": null,
   "id": "0b116bac",
   "metadata": {},
   "outputs": [],
   "source": []
  },
  {
   "cell_type": "markdown",
   "id": "38f4f0b2",
   "metadata": {},
   "source": [
    "## **Solution:**"
   ]
  },
  {
   "cell_type": "code",
   "execution_count": null,
   "id": "983037d4",
   "metadata": {},
   "outputs": [],
   "source": []
  }
 ],
 "metadata": {},
 "nbformat": 4,
 "nbformat_minor": 5
}
