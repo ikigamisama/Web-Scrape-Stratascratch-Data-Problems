{
 "cells": [
  {
   "cell_type": "markdown",
   "id": "a6044d87",
   "metadata": {},
   "source": [
    "### **Link:** https://platform.stratascratch.com/data-projects/keyword-detection-websites"
   ]
  },
  {
   "cell_type": "markdown",
   "id": "2b11d18f",
   "metadata": {},
   "source": [
    "### **Difficulty:** Hard"
   ]
  },
  {
   "cell_type": "markdown",
   "id": "bea4f103",
   "metadata": {},
   "source": [
    "# Keyword Detection on Websites"
   ]
  },
  {
   "cell_type": "markdown",
   "id": "d10b510d",
   "metadata": {},
   "source": [
    "<div><p><em>This data project has been used as a take-home assignment in the recruitment process for the data science positions at PeakData.</em></p>\n",
    "<h2>Assignment</h2>\n",
    "<p>Your task is to create an algorithm, that takes html page as input and infers if the page contains the information about <code>cancer tumorboard</code> or not.\n",
    "What is a tumor board? Tumor Board is a consilium of doctors (usually from different disciplines) discussing cancer cases in their departments. If you want to know more please read this <a href=\"https://www.cancer.net/blog/2017-07/what-tumor-board-expert-qa\">article</a>.</p>\n",
    "<p>The expected result is a CSV file for test data with columns [<code>doc_id</code> and <code>prediction</code>].</p>\n",
    "<p><em>Bonus</em>: if you would like to go the extra mile in this task try to identify tumor board types <code>interdisciplinary</code>, <code>breast</code>, and any third type of tumor board up to you.  For these tumor boards please try to identify their schedule: Day (e.g. Friday), frequency (e.g. weekly, bi-weekly, monthly), and time when they start.</p>\n",
    "<h2>Data Description</h2>\n",
    "<p>You have <code>train.csv</code> and <code>test.csv</code> files and folder with corresponding <code>.html</code> files.</p>\n",
    "<p>Files:</p>\n",
    "<ul>\n",
    "<li><code>train.csv</code> contains next columns: <code>url</code>, <code>doc_id</code> and <code>label</code></li>\n",
    "<li><code>test.csv</code> contains next columns: <code>url</code> and <code>doc_id</code></li>\n",
    "<li><code>htmls</code> contains files with names <code>{doc_id}.html</code></li>\n",
    "<li><code>keyword2tumor_type.csv</code> contains useful keywords for types of tumorboards</li>\n",
    "</ul>\n",
    "<p>Description of tumor board labels:</p>\n",
    "<ul>\n",
    "<li>1 (no evidence): tumor boards are not mentioned on the page</li>\n",
    "<li>2 (medium confidence): tumor boards are mentioned, but the page is not completely dedicated to tumor board description</li>\n",
    "<li>3 (high confidence): page is completely dedicated to the description of tumor board types and dates</li>\n",
    "</ul>\n",
    "<p>You are asked to prepare a model using htmls, referred to in <code>train.csv</code>, and make predictions for htmls from <code>test.csv</code></p>\n",
    "<h2>Practicalities</h2>\n",
    "<p>You should prepare a Jupyter Notebook with the code that you used for making the predictions and the following documentation:</p>\n",
    "<ul>\n",
    "<li>How did you decide to handle this amount of data?</li>\n",
    "<li>How did you decide to do feature engineering?</li>\n",
    "<li>How did you decide which models to try (if you decide to train any models)?</li>\n",
    "<li>How did you perform validation of your model?</li>\n",
    "<li>What metrics did you measure?</li>\n",
    "<li>How do you expect your model to perform on test data (in terms of your metrics)?</li>\n",
    "<li>How fast will your algorithm performs and how could you improve its performance if you would have more time?</li>\n",
    "<li>How do you think you would be able to improve your algorithm if you would have more data?</li>\n",
    "<li>What potential issues do you see with your algorithm?</li>\n",
    "</ul>\n",
    "<h3>Tips</h3>\n",
    "<ul>\n",
    "<li>to extract clean text from the page you can use BeautifulSoup module like this</li>\n",
    "</ul>\n",
    "<pre><code class=\"language-python\">from bs import BeautifulSoup\n",
    "\n",
    "content = read_html()\n",
    "soup = BeautifulSoup(content)\n",
    "clean_text = soup.get_text(' ')\n",
    "</code></pre>\n",
    "<ul>\n",
    "<li>If you decide that you don't need, for example, tags <code>&lt;p&gt;</code> in your document, you can do this:</li>\n",
    "</ul>\n",
    "<pre><code class=\"language-python\">from bs import BeautifulSoup\n",
    "\n",
    "content = read_html()\n",
    "soup = BeautifulSoup(content)\n",
    "for tag in soup.find_all('p'):\n",
    "    tag.decompose()\n",
    "\n",
    "</code></pre></div>"
   ]
  },
  {
   "cell_type": "markdown",
   "id": "c8b46443",
   "metadata": {},
   "source": [
    "## **Data:**"
   ]
  },
  {
   "cell_type": "code",
   "execution_count": null,
   "id": "1b65c86c",
   "metadata": {},
   "outputs": [],
   "source": []
  },
  {
   "cell_type": "markdown",
   "id": "7e57176b",
   "metadata": {},
   "source": [
    "## **Solution:**"
   ]
  },
  {
   "cell_type": "code",
   "execution_count": null,
   "id": "ec56f7c0",
   "metadata": {},
   "outputs": [],
   "source": []
  }
 ],
 "metadata": {},
 "nbformat": 4,
 "nbformat_minor": 5
}
