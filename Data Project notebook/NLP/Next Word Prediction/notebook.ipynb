{
 "cells": [
  {
   "cell_type": "markdown",
   "id": "8b46c6b0",
   "metadata": {},
   "source": [
    "### **Link:** https://platform.stratascratch.com/data-projects/next-word-prediction"
   ]
  },
  {
   "cell_type": "markdown",
   "id": "109be7f7",
   "metadata": {},
   "source": [
    "### **Difficulty:** Hard"
   ]
  },
  {
   "cell_type": "markdown",
   "id": "98251675",
   "metadata": {},
   "source": [
    "# Next Word Prediction"
   ]
  },
  {
   "cell_type": "markdown",
   "id": "2fc644fa",
   "metadata": {},
   "source": [
    "<div><p><em>This data project has been used as an assignment during the LGM Data Science Virtual Internship.</em></p>\n",
    "<h2>Assignment</h2>\n",
    "<p>You've certainly heard about the GPT language models that are used by many AI tools such as ChatGPT. What these models do, in simple terms, they try to accurately predict what the most logical next word would be given an input. In this project, you will try to implement a similar model, of course, much less advanced. Select a set of training data with a lot of real-life text (e.g. a book) and use it to train a neural network which, given input with a couple of words, returns the list of the most probable words that would make for a logical continuation.</p>\n",
    "<p><strong>Tips</strong></p>\n",
    "<ol>\n",
    "<li>Start by reading in the text data and splitting the long text into individual words;</li>\n",
    "<li>Feel free to explore, analyze and describe the text using statistics such as you would do with any other dataset; look for the most and least frequently occurring words as well as common combinations of two consecutive words - you can use these findings for testing later;</li>\n",
    "<li>For simplicity, let's select a set length of input X, e.g. 5 words; feel free to experiment with different lengths;</li>\n",
    "<li>Iterate through all words from the dataset and for all possible sets of X consecutive words (input) note what is the word that comes next (output);</li>\n",
    "<li>Encode the input and output words in form of Boolean arrays where each value corresponds to a unique word that appears in the original text; Don't forget to split the data into training, testing, and possibly, validation sets;</li>\n",
    "<li>Train and evaluate a neural network using these input and output sets; Start with a simple model and experiment by adding and tuning layers;</li>\n",
    "<li>Test the final model yourself by specifying a sentence with X words that doesn't necessarily exist in the source text and observe which words will the model suggest as logical continuations;</li>\n",
    "</ol>\n",
    "<h2>Data Description</h2>\n",
    "<p>The file <code>book.txt</code> contains the entire eBook 'The Adventures of Sherlock Holmes' by Arthur Conan Doyle in Plain Text (UTF-8) format. This eBook is for the use of anyone anywhere at no cost and with almost no restrictions whatsoever under the terms of the Project Gutenberg License (<a href=\"https://www.gutenberg.org/\">https://www.gutenberg.org/</a>).</p>\n",
    "<p>However, you can use any other long text or book as input for this project.</p>\n",
    "<h2>Practicalities</h2>\n",
    "<p>Make sure that the solution reflects your entire thought process - it is more important how the code is structured rather than the final results.</p></div>"
   ]
  },
  {
   "cell_type": "markdown",
   "id": "fb4ecca4",
   "metadata": {},
   "source": [
    "## **Data:**"
   ]
  },
  {
   "cell_type": "code",
   "execution_count": null,
   "id": "82edcff0",
   "metadata": {},
   "outputs": [],
   "source": []
  },
  {
   "cell_type": "markdown",
   "id": "eb431597",
   "metadata": {},
   "source": [
    "## **Solution:**"
   ]
  },
  {
   "cell_type": "code",
   "execution_count": null,
   "id": "11e4b5f2",
   "metadata": {},
   "outputs": [],
   "source": []
  }
 ],
 "metadata": {},
 "nbformat": 4,
 "nbformat_minor": 5
}
