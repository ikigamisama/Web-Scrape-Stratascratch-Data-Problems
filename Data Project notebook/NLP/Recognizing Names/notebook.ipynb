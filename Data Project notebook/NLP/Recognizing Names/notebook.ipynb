{
 "cells": [
  {
   "cell_type": "markdown",
   "id": "0a604d62",
   "metadata": {},
   "source": [
    "### **Link:** https://platform.stratascratch.com/data-projects/recognizing-names"
   ]
  },
  {
   "cell_type": "markdown",
   "id": "3f43db22",
   "metadata": {},
   "source": [
    "### **Difficulty:** Hard"
   ]
  },
  {
   "cell_type": "markdown",
   "id": "3f660097",
   "metadata": {},
   "source": [
    "# Recognizing Names"
   ]
  },
  {
   "cell_type": "markdown",
   "id": "92f49e85",
   "metadata": {},
   "source": [
    "<div><p><em>This data project has been used as a take-home assignment in the recruitment process for the data science positions at The SaaS Co.</em></p>\n",
    "<h2>Assignment</h2>\n",
    "<p>Develop a classifier <code>name_classifier</code>, which checks whether a given string of text is a valid person name or not. Here, we suppose the string input is always ASCII characters. This doesn’t mean you don’t need to consider non-English person names. E.g. you need to correctly classify “Jun Wang” (Chinese name) as a valid person name.</p>\n",
    "<p>Objective of this challenge is to check your general knowledge/skills of NLP &amp; ML.</p>\n",
    "<h2>Data Description</h2>\n",
    "<p>Datasets you can use to train your classifier:</p>\n",
    "<ul>\n",
    "<li>We provide you with the list of valid person names from DBpedia. The data are given in a compressed Turtle file, in the <code>ttl.bz2</code> format.</li>\n",
    "<li>There are many other interesting dataset dbpedia provides, which can be useful in the challenge. You are free to download them from <a href=\"http://wiki.dbpedia.org/Downloads2015-10#h10608-1\">here</a>, and use them to improve your classifier.</li>\n",
    "<li>List of common English words can be found <a href=\"http://www.mieliestronk.com/wordlist.html\">here</a>. This is useful for getting samples of strings which are not valid person names</li>\n",
    "</ul>\n",
    "<p>Note that your classifier needs to be able to work on names (or non-name strings) which never appear on the dataset provided above, and will form part of our evaluation of your code.</p>\n",
    "<p>You're free to use any dataset/dictionary from Internet, feel free to form your own dictionaries.</p>\n",
    "<h2>Practicalities</h2>\n",
    "<p>Feel free to choose between Python 2 or Python 3.</p>\n",
    "<p>You are allowed to use any standard Python libraries. Except standard libraries,\n",
    "you're allowed to use following Machine Learning &amp; NLP related libraries:</p>\n",
    "<ul>\n",
    "<li>scikit-learn</li>\n",
    "<li>numpy</li>\n",
    "<li>scipy</li>\n",
    "<li>matplotlib</li>\n",
    "<li>nltk</li>\n",
    "<li>pandas</li>\n",
    "<li>gensim</li>\n",
    "<li>TensorFlow</li>\n",
    "<li>Theano</li>\n",
    "<li>Pylearn2</li>\n",
    "<li>Pattern</li>\n",
    "<li>MITIE</li>\n",
    "<li>Unidecode</li>\n",
    "<li>polyglot</li>\n",
    "</ul>\n",
    "<p>We expect a report about performance of your classifier together with your codes. Please include precision, recall, f1, auc scores together with examples of misclassified strings.</p></div>"
   ]
  },
  {
   "cell_type": "markdown",
   "id": "e5dd94c5",
   "metadata": {},
   "source": [
    "## **Data:**"
   ]
  },
  {
   "cell_type": "code",
   "execution_count": null,
   "id": "99338f2d",
   "metadata": {},
   "outputs": [],
   "source": []
  },
  {
   "cell_type": "markdown",
   "id": "f660e9cc",
   "metadata": {},
   "source": [
    "## **Solution:**"
   ]
  },
  {
   "cell_type": "code",
   "execution_count": null,
   "id": "af20df06",
   "metadata": {},
   "outputs": [],
   "source": []
  }
 ],
 "metadata": {},
 "nbformat": 4,
 "nbformat_minor": 5
}
