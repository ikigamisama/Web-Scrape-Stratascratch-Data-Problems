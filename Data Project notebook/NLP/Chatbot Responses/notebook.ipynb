{
 "cells": [
  {
   "cell_type": "markdown",
   "id": "8dcf476b",
   "metadata": {},
   "source": [
    "### **Link:** https://platform.stratascratch.com/data-projects/chatbot-responses"
   ]
  },
  {
   "cell_type": "markdown",
   "id": "9bbfa7cf",
   "metadata": {},
   "source": [
    "### **Difficulty:** Hard"
   ]
  },
  {
   "cell_type": "markdown",
   "id": "22866cc4",
   "metadata": {},
   "source": [
    "# Chatbot Responses"
   ]
  },
  {
   "cell_type": "markdown",
   "id": "5800d6a5",
   "metadata": {},
   "source": [
    "<div><p><em>This data project has been used as a take-home assignment in the recruitment process for the data science positions at Spectrm.</em></p>\n",
    "<h2>Assignment</h2>\n",
    "<p>Knowing what to say is not always easy - especially if you're a chatbot.</p>\n",
    "<p>Generating answers from scratch is very difficult and would most likely result in nonsense or <a href=\"https://twitter.com/tayandyou\">worse</a> - but definitely not a pleasant user experience. Therefore we're taking one step back and instead provide the correct replies which now \"only\" have to be chosen in the right dialog context.</p>\n",
    "<p>In this challenge you're given a dataset with fictional dialogs (adapted from [1]) from which one reply is missing and additionally a list with all missing replies. Your task is to map all missing replies to the correct conversation.</p>\n",
    "<h2>Data Description</h2>\n",
    "<p>The dataset consists of 4 files:\n",
    "<code>train_dialog.txt</code> and <code>test_dialog.txt</code> each contain the conversations. The format is always <code>c#####</code> indicating the conversation number separated by <code>+++$+++</code> from the reply text. For example one conversation from the training set is the following:</p>\n",
    "<pre><code>c03253 +++$+++ Wow! This is like my dream room! Are these all records!\n",
    "c03253 +++$+++ I have about fifteen hundred 78s at this point. I've tried to pare down my collection to the essential...\n",
    "c03253 +++$+++ God, look at this poster!  I can't believe this room! You're the luckiest guy in the world! I'd kill to have stuff like this!\n",
    "c03253 +++$+++ Please... go ahead and kill me! This stuff doesn't make you happy, believe me.\n",
    "c03253 +++$+++ You think it's healthy to obsessively collect things? You can't connect with other people so you fill your life with stuff...  I'm just like all the rest of these pathetic collector losers.\n",
    "</code></pre>\n",
    "<p>All original conversations are at least four lines long and always the second to last line is missing in the dialogs.</p>\n",
    "<p>The missing replies are found in the files <code>train_missing.txt</code> and <code>test_missing.txt</code> respectively. For the training dialogs, the conversation number is given with the reply as in the dialog files, e.g. the missing line to the above conversation would be</p>\n",
    "<pre><code>c03253 +++$+++ Oh, come on! What are you talking about?\n",
    "</code></pre>\n",
    "<p>The missing lines for the test dialogs always have <code>c00000</code> as the conversation number but are otherwise formatted the same as the training file.\n",
    "While some of the short replies might be the same, every missing reply belongs to exactly one conversation.</p>\n",
    "<h2>Practicalities</h2>\n",
    "<p>Your task is now to take the missing test replies and map them to the corresponding dialogs. More specifically you should write a script which can be called with the path to a file with the incomplete dialogs and the path to the missing replies and then outputs a file <code>test_missing_with_predictions.txt</code> in the same format as <code>test_missing.txt</code> only with actual conversation numbers from <code>test_dialog.txt</code> instead of <code>c00000</code>.</p>\n",
    "<p>You can choose whatever approach you want to solve the task and if you use any external libraries provide a <code>requirements.txt</code> file from which these libraries can be installed with <code>pip install -r requirements.txt</code> (you might want to use a virtual environment and when you're done call <code>pip freeze &gt; requirements.txt</code>).</p>\n",
    "<p>While it is okay to use other resources such as pretrained word embeddings to solve the task, we ask you not to train your algorithm using the original conversations provided with [1] as this would lead to overfitting, i.e. considered cheating.</p>\n",
    "<p>Besides the accuracy of the predicted conversation labels, we will also evaluate your code with respect to efficiency, maintainability, and readability (it might not hurt to have a look at some <a href=\"https://google.github.io/styleguide/pyguide.html\">style guides</a>).</p>\n",
    "<p>In addition to the code which solves the task please turn in a text file or pdf with <strong>answers to the following questions</strong>:</p>\n",
    "<ol>\n",
    "<li>Describe your approach. Which methods did you choose and why?</li>\n",
    "<li>How do you evaluate your performance?</li>\n",
    "<li>Where are the weaknesses of your approach? What has to be considered when applying an approach like this in practice?</li>\n",
    "</ol>\n",
    "<hr/>\n",
    "<p>[1]   <em>Chameleons in imagined conversations: A new approach to understanding coordination of linguistic style in dialogs</em>. Cristian Danescu-Niculescu-Mizil and Lillian Lee. Proceedings of the Workshop on Cognitive Modeling and Computational Linguistics, ACL 2011.</p></div>"
   ]
  },
  {
   "cell_type": "markdown",
   "id": "01ee8e18",
   "metadata": {},
   "source": [
    "## **Data:**"
   ]
  },
  {
   "cell_type": "code",
   "execution_count": null,
   "id": "2acc163a",
   "metadata": {},
   "outputs": [],
   "source": []
  },
  {
   "cell_type": "markdown",
   "id": "c086d083",
   "metadata": {},
   "source": [
    "## **Solution:**"
   ]
  },
  {
   "cell_type": "code",
   "execution_count": null,
   "id": "f41fb3e9",
   "metadata": {},
   "outputs": [],
   "source": []
  }
 ],
 "metadata": {},
 "nbformat": 4,
 "nbformat_minor": 5
}
