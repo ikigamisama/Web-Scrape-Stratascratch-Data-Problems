{
 "cells": [
  {
   "cell_type": "markdown",
   "id": "487e271f",
   "metadata": {},
   "source": [
    "### **Link:** https://platform.stratascratch.com/data-projects/sales-data-analysis"
   ]
  },
  {
   "cell_type": "markdown",
   "id": "bcb8989a",
   "metadata": {},
   "source": [
    "### **Difficulty:** Easy"
   ]
  },
  {
   "cell_type": "markdown",
   "id": "ae171e6f",
   "metadata": {},
   "source": [
    "# Sales Data Analysis"
   ]
  },
  {
   "cell_type": "markdown",
   "id": "881a02a8",
   "metadata": {},
   "source": [
    "<div><p><em>This data project has been used as a take-home assignment in the recruitment process for the data science positions at 23andMe.</em></p>\n",
    "<h2>Assignment</h2>\n",
    "<p>Please answer the questions below based on the data provided:</p>\n",
    "<ol>\n",
    "<li>Plot daily sales for all 50 weeks.</li>\n",
    "<li>It looks like there has been a sudden change in daily sales. What date did it occur?</li>\n",
    "<li>Is the change in daily sales at the date you selected statistically significant? If so, what is the p-value?</li>\n",
    "<li>Does the data suggest that the change in daily sales is due to a shift in the proportion of male-vs-female customers? Please use plots to support your answer (a rigorous statistical analysis is not necessary).</li>\n",
    "<li>Assume a given day is divided into four dayparts:\n",
    "<ul>\n",
    "<li>night (12:00AM - 6:00AM),</li>\n",
    "<li>morning (6:00AM - 12:00PM),</li>\n",
    "<li>afternoon (12:00PM - 6:00PM),</li>\n",
    "<li>evening (6:00PM - 12:00AM).</li>\n",
    "</ul>\n",
    "What is the percentage of sales in each daypart over all 50 weeks?</li>\n",
    "</ol>\n",
    "<h2>Data Description</h2>\n",
    "<p>The <code>datasets/</code> directory contains fifty CSV files (one per week) of timestamped sales data. Each row in a file has two columns:</p>\n",
    "<ul>\n",
    "<li><code>sale_time</code> - The timestamp on which the sale was made e.g. <code>2012-10-01 01:42:22</code></li>\n",
    "<li><code>purchaser_gender</code> - The gender of the person who purchased (male or female)</li>\n",
    "</ul>\n",
    "<h2>Practicalities</h2>\n",
    "<p>Please work on the questions in the displayed order. Make sure that the solution reflects your entire thought process - it is more important how the code is structured rather than the final answers. You are expected to spend no more than 1-2 hours solving this project.</p></div>"
   ]
  },
  {
   "cell_type": "markdown",
   "id": "d39ecba2",
   "metadata": {},
   "source": [
    "## **Data:**"
   ]
  },
  {
   "cell_type": "code",
   "execution_count": null,
   "id": "e9456014",
   "metadata": {},
   "outputs": [],
   "source": []
  },
  {
   "cell_type": "markdown",
   "id": "ebfcec7f",
   "metadata": {},
   "source": [
    "## **Solution:**"
   ]
  },
  {
   "cell_type": "code",
   "execution_count": null,
   "id": "3d129a08",
   "metadata": {},
   "outputs": [],
   "source": []
  }
 ],
 "metadata": {},
 "nbformat": 4,
 "nbformat_minor": 5
}
