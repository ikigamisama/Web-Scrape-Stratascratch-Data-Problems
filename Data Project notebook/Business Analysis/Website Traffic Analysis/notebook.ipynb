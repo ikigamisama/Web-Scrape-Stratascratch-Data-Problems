{
 "cells": [
  {
   "cell_type": "markdown",
   "id": "68507b1a",
   "metadata": {},
   "source": [
    "### **Link:** https://platform.stratascratch.com/data-projects/website-traffic-analysis"
   ]
  },
  {
   "cell_type": "markdown",
   "id": "be8f0d70",
   "metadata": {},
   "source": [
    "### **Difficulty:** Easy"
   ]
  },
  {
   "cell_type": "markdown",
   "id": "c92bd8bd",
   "metadata": {},
   "source": [
    "# Website Traffic Analysis"
   ]
  },
  {
   "cell_type": "markdown",
   "id": "69bd961d",
   "metadata": {},
   "source": [
    "<div><p><em>This data project has been used as a take-home assignment in the recruitment process for the data science positions at Linkfire.</em></p>\n",
    "<h2>Assignment</h2>\n",
    "<p>The goal of this project is to understand this traffic better, in particular the volume and distribution of events, and to develop ideas how to increase the links' clickrates. With that in mind, please analyze the data using the Python libraries Pandas and SciPy where indicated, providing answers to the presented questions:</p>\n",
    "<ol>\n",
    "<li>[Pandas] How many total pageview events did the links in the provided dataset receive in the full period, how many per day?</li>\n",
    "<li>[Pandas] What about the other recorded events?</li>\n",
    "<li>[Pandas] Which countries did the pageviews come from?</li>\n",
    "<li>[Pandas] What was the overall click rate (clicks/pageviews)?</li>\n",
    "<li>[Pandas] How does the clickrate distribute across different links?</li>\n",
    "<li>[Pandas &amp; SciPy] Is there any correlation between clicks and previews on a link? Is it significant? How large is the effect? Make sure to at least test for potential linear as well as categorical (think binary) relationships between both variables.</li>\n",
    "</ol>\n",
    "<h2>Data Description</h2>\n",
    "<p>The data set provided (<code>traffic.csv</code>) contains web traffic data (<code>\"events\"</code>) from a few different pages (<code>\"links\"</code>) over a period of 7 days including various categorical dimensions about the geographic origin of that traffic as well as a page's content: <a href=\"https://isrc.ifpi.org/en/\"><code>isrc</code></a>.</p>\n",
    "<h2>Practicalities</h2>\n",
    "<p>Please work on the questions in the displayed order. Make sure that the solution reflects your entire thought process - it is more important how the code is structured rather than the final answers. You are expected to spend no more than 2-3 hours solving this project.</p></div>"
   ]
  },
  {
   "cell_type": "markdown",
   "id": "d084b818",
   "metadata": {},
   "source": [
    "## **Data:**"
   ]
  },
  {
   "cell_type": "code",
   "execution_count": null,
   "id": "64575456",
   "metadata": {},
   "outputs": [],
   "source": []
  },
  {
   "cell_type": "markdown",
   "id": "c6e338e9",
   "metadata": {},
   "source": [
    "## **Solution:**"
   ]
  },
  {
   "cell_type": "code",
   "execution_count": null,
   "id": "62d1039e",
   "metadata": {},
   "outputs": [],
   "source": []
  }
 ],
 "metadata": {},
 "nbformat": 4,
 "nbformat_minor": 5
}
