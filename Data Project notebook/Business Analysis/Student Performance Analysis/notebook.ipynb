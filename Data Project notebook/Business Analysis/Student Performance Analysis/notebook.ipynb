{
 "cells": [
  {
   "cell_type": "markdown",
   "id": "3f9d9052",
   "metadata": {},
   "source": [
    "### **Link:** https://platform.stratascratch.com/data-projects/student-performance-analysis"
   ]
  },
  {
   "cell_type": "markdown",
   "id": "da926c10",
   "metadata": {},
   "source": [
    "### **Difficulty:** Easy"
   ]
  },
  {
   "cell_type": "markdown",
   "id": "0ab08dc5",
   "metadata": {},
   "source": [
    "# Student Performance Analysis"
   ]
  },
  {
   "cell_type": "markdown",
   "id": "458e08e5",
   "metadata": {},
   "source": [
    "<div>\n",
    "<p><em>This data project analyzes student achievement in Mathematics and Portuguese language, based on data from two Portuguese schools.</em></p>\n",
    "<h2>Assignment</h2>\n",
    "<p>The purpose of this project is to delve into student data to uncover insights that could help understand and predict student success across different academic periods. As a contributor, you will explore the relationship between student grades and a myriad of demographic, social, and school-related factors. Your analysis will directly impact our ability to identify and address key influences on student performance.</p>\n",
    "<h3>Your Tasks:</h3>\n",
    "<ol>\n",
    "<li>\n",
    "<p><strong>Create Data Visualizations:</strong></p>\n",
    "<ul>\n",
    "<li>Generate histograms to observe the distribution of grades (G1, G2, G3) and other numerical factors like age and study time.</li>\n",
    "<li>Construct box plots to spot outliers and understand the spread of the data.</li>\n",
    "<li>Use bar charts to compare the average grades across different categories such as gender, parental education level, and internet access.</li>\n",
    "<li>Your visualizations should help highlight trends and patterns that may influence student performance.</li>\n",
    "</ul>\n",
    "</li>\n",
    "<li>\n",
    "<p><strong>Perform Statistical Tests:</strong></p>\n",
    "<ul>\n",
    "<li>Conduct Chi-Square Tests to investigate the association between categorical variables (e.g., gender, internet access) and student grades. For example, is there a statistical difference in grades between students with different levels of parental education?</li>\n",
    "<li>Apply t-tests to compare the mean grades between two different groups, such as students from urban versus rural areas.</li>\n",
    "<li>Use regression analysis to predict final grades based on various factors like study time and past failures.</li>\n",
    "<li>Document your findings, interpret the p-values, and discuss the statistical significance of your results.</li>\n",
    "</ul>\n",
    "</li>\n",
    "</ol>\n",
    "<h3>Objectives:</h3>\n",
    "<ul>\n",
    "<li><strong>Correlation Analysis:</strong> Determine which factors are most strongly correlated with student grades.</li>\n",
    "<li><strong>Predictive Modeling:</strong> Build a model that can predict a student's final grade based on their background and school-related activities.</li>\n",
    "<li><strong>Insight Generation:</strong> Provide actionable insights for schools to help improve student outcomes based on your findings.</li>\n",
    "</ul>\n",
    "<h3>Tools You Might Need:</h3>\n",
    "<ul>\n",
    "<li><strong>For Visualization:</strong> Matplotlib, Seaborn, or any other Python library that you are comfortable with.</li>\n",
    "<li><strong>For Statistical Analysis:</strong> SciPy for conducting statistical tests, and statsmodels or Scikit-learn for any predictive modeling.</li>\n",
    "</ul>\n",
    "<h2>Data Description</h2>\n",
    "<p>The datasets, <code>student-mat.csv</code> and <code>student-por.csv</code>, include:</p>\n",
    "<ul>\n",
    "<li><strong>School</strong>: The school attended by the student.</li>\n",
    "<li><strong>Sex</strong>: Gender of the student.</li>\n",
    "<li><strong>Age</strong>: Age of the student.</li>\n",
    "<li><strong>Address</strong>: Urban or rural area of residence.</li>\n",
    "<li><strong>Medu &amp; Fedu</strong>: Parents' education level.</li>\n",
    "<li><strong>Studytime</strong>: Weekly study time.</li>\n",
    "<li><strong>Failures</strong>: Number of past class failures.</li>\n",
    "<li><strong>G1, G2, G3</strong>: Grades in the first, second, and final periods.</li>\n",
    "</ul>\n",
    "<h2>Practicalities</h2>\n",
    "<ul>\n",
    "<li>The data covers a wide range of factors, from personal demographics to academic records.</li>\n",
    "<li>Analyze the datasets to understand how these factors correlate with student performance in Mathematics and Portuguese language.</li>\n",
    "</ul></div>"
   ]
  },
  {
   "cell_type": "markdown",
   "id": "532d04fd",
   "metadata": {},
   "source": [
    "## **Data:**"
   ]
  },
  {
   "cell_type": "code",
   "execution_count": null,
   "id": "f0a3176d",
   "metadata": {},
   "outputs": [],
   "source": []
  },
  {
   "cell_type": "markdown",
   "id": "29c85c8b",
   "metadata": {},
   "source": [
    "## **Solution:**"
   ]
  },
  {
   "cell_type": "code",
   "execution_count": null,
   "id": "e3779ed0",
   "metadata": {},
   "outputs": [],
   "source": []
  }
 ],
 "metadata": {
  "kernelspec": {
   "display_name": "Python 3",
   "language": "python",
   "name": "python3"
  },
  "language_info": {
   "name": "python",
   "version": "3.11.4"
  }
 },
 "nbformat": 4,
 "nbformat_minor": 5
}
