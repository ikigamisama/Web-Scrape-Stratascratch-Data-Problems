{
 "cells": [
  {
   "cell_type": "markdown",
   "id": "ba805790",
   "metadata": {},
   "source": [
    "### **Link:** https://platform.stratascratch.com/data-projects/demand-for-electric-bicycles"
   ]
  },
  {
   "cell_type": "markdown",
   "id": "8217770a",
   "metadata": {},
   "source": [
    "### **Difficulty:** Easy"
   ]
  },
  {
   "cell_type": "markdown",
   "id": "5b16fb55",
   "metadata": {},
   "source": [
    "# Demand for Electric Bicycles"
   ]
  },
  {
   "cell_type": "markdown",
   "id": "d67c01db",
   "metadata": {},
   "source": [
    "<div><p><em>This data project has been used as a take-home assignment in the recruitment process for the data science positions at Yulu.</em></p>\n",
    "<p>Yulu is India’s leading micro-mobility service provider, which offers unique vehicles for the daily commute. Starting off as a mission to eliminate traffic congestion in India, Yulu provides the safest commute solution through a user-friendly mobile app to enable shared, solo and sustainable commuting. Yulu zones are located at all the appropriate locations (including metro stations, bus stands, office spaces, residential areas, corporate offices, etc) to make those first and last miles smooth, affordable, and convenient.</p>\n",
    "<h2>Assignment</h2>\n",
    "<p>Yulu has recently suffered considerable dips in its revenues. They have contracted a consulting company to understand the factors on which the demand for these shared electric bicycles depends. Specifically, they want to understand the factors affecting the demand for these shared electric bicycles in the Indian market.</p>\n",
    "<p>The company wants to know:</p>\n",
    "<ul>\n",
    "<li>Which variables are significant in predicting the demand for shared electric bicycles in the Indian market?</li>\n",
    "<li>How well do those variables describe the electric bicycle demand.</li>\n",
    "</ul>\n",
    "<h2>Data Description</h2>\n",
    "<p>The file <code>bike_sharing.csv</code> contains the usage data aggregated by the hour with the following columns:</p>\n",
    "<ul>\n",
    "<li><code>datetime</code> - beginning of an hour for which the data are aggregated;</li>\n",
    "<li><code>season</code>\n",
    "<ul>\n",
    "<li>1: spring,</li>\n",
    "<li>2: summer,</li>\n",
    "<li>3: fall,</li>\n",
    "<li>4: winter;</li>\n",
    "</ul>\n",
    "</li>\n",
    "<li><code>holiday</code> - whether a day is a holiday or not</li>\n",
    "<li><code>workingday</code> - if a day is neither weekend nor holiday is 1, otherwise is 0.</li>\n",
    "<li><code>weather</code>\n",
    "<ul>\n",
    "<li>1: clear, few clouds, scattered clouds</li>\n",
    "<li>2: mist + cloudy, mist + scattered clouds, mist + few clouds, mist</li>\n",
    "<li>3: light snow, light rain + thunderstorm + scattered clouds, light rain + scattered clouds</li>\n",
    "<li>4: heavy rain + ice pallets + thunderstorm + mist, snow + fog</li>\n",
    "</ul>\n",
    "</li>\n",
    "<li><code>temp</code> - air temperature in degrees Celsius</li>\n",
    "<li><code>atemp</code> - feeling temperature in degrees Celsius</li>\n",
    "<li><code>humidity</code> - air humidity in percent</li>\n",
    "<li><code>windspeed</code> - wind speed in km/h</li>\n",
    "<li><code>casual</code> - number of bikes rented by casual users</li>\n",
    "<li><code>registered</code> - number of bikes rented by registered users</li>\n",
    "<li><code>count</code> - total number of rented bikes including both casual and registered users</li>\n",
    "</ul>\n",
    "<h2>Practicalities</h2>\n",
    "<p>Analyze the provided data and provide insights to the best of your abilities. Use statistical tests to support your claims. Include the relevant tables/graphs/visualization to explain what you have learned about the market. Make sure that the solution reflects your entire thought process including the preparation of data - it is more important how the code is structured rather than just the final result or plot.</p></div>"
   ]
  },
  {
   "cell_type": "markdown",
   "id": "5d44b71b",
   "metadata": {},
   "source": [
    "## **Data:**"
   ]
  },
  {
   "cell_type": "code",
   "execution_count": null,
   "id": "e45bfe18",
   "metadata": {},
   "outputs": [],
   "source": []
  },
  {
   "cell_type": "markdown",
   "id": "ae0323ca",
   "metadata": {},
   "source": [
    "## **Solution:**"
   ]
  },
  {
   "cell_type": "code",
   "execution_count": null,
   "id": "d62f09b3",
   "metadata": {},
   "outputs": [],
   "source": []
  }
 ],
 "metadata": {},
 "nbformat": 4,
 "nbformat_minor": 5
}
