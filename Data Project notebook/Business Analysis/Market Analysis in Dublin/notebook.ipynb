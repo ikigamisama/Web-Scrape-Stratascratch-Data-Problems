{
 "cells": [
  {
   "cell_type": "markdown",
   "id": "b4568953",
   "metadata": {},
   "source": [
    "### **Link:** https://platform.stratascratch.com/data-projects/market-analysis-dublin"
   ]
  },
  {
   "cell_type": "markdown",
   "id": "89993c8b",
   "metadata": {},
   "source": [
    "### **Difficulty:** Medium"
   ]
  },
  {
   "cell_type": "markdown",
   "id": "9f2be07f",
   "metadata": {},
   "source": [
    "# Market Analysis in Dublin"
   ]
  },
  {
   "cell_type": "markdown",
   "id": "84167a6c",
   "metadata": {},
   "source": [
    "<div><p><em>This data project has been used as a take-home assignment in the recruitment process for the data science positions at Airbnb.</em></p>\n",
    "<h2>Assignment</h2>\n",
    "<p>A new city manager for Airbnb has started in Dublin and wants to better understand:</p>\n",
    "<ul>\n",
    "<li>what guests are searching for in Dublin,</li>\n",
    "<li>which inquiries hosts tend to accept.</li>\n",
    "</ul>\n",
    "<p>Based on the findings the new city manager will try to boost the number and quality of hosts in Dublin to fit the demands from guests.\n",
    "The goal of this challenge is to <strong>analyze, understand, visualize</strong>, and <strong>communicate</strong> the demand / supply in the market. For example you may want to look at the breakdown of start date day of the week, or number of nights, or room type that is searched for, and how many hosts accepted\n",
    "the reservation. In particular, we are interested in:</p>\n",
    "<ul>\n",
    "<li>what the gaps are between guest demand and host supply that the new city manager could plug to increase the number of bookings in Dublin,</li>\n",
    "<li>what other data would be useful to have to deepen the analysis and understanding.</li>\n",
    "</ul>\n",
    "<h2>Data Description</h2>\n",
    "<p>There are 2 datasets</p>\n",
    "<ol>\n",
    "<li><code>searches.tsv</code> - Contains a row for each set of searches that a user does for Dublin</li>\n",
    "<li><code>contacts.tsv</code> - Contains a row for every time that an assigned visitor makes an inquiry for a stay in a listing in Dublin</li>\n",
    "</ol>\n",
    "<p><code>searches</code> dataset contains the following columns:</p>\n",
    "<ul>\n",
    "<li><code>ds</code> - Date of the search</li>\n",
    "<li><code>id_user</code> - Alphanumeric user_id</li>\n",
    "<li><code>ds_checkin</code> - Date stamp of the check-in date of the search</li>\n",
    "<li><code>ds_checkout</code> - Date stamp of the check-out date of the search</li>\n",
    "<li><code>n_searches</code> - Number of searches in the search set</li>\n",
    "<li><code>n_nights</code> - The number of nights the search was for</li>\n",
    "<li><code>n_guests_min</code> - The minimum number of guests selected in a search set</li>\n",
    "<li><code>n_guests_max</code> - The maximum number of guests selected in a search set</li>\n",
    "<li><code>origin_country</code> - The country the search was from</li>\n",
    "<li><code>filter_price_min</code> - The value of the lower bound of the price filter, if the user used it</li>\n",
    "<li><code>filter_price_max</code> - The value of the upper bound of the price filter, if the user used it</li>\n",
    "<li><code>filter_room_types</code> - The room types that the user filtered by, if the user used the room_types filter</li>\n",
    "<li><code>filter_neighborhoods</code> - The neighborhoods types that the user filtered by, if the user used the neighborhoods filter</li>\n",
    "</ul>\n",
    "<p><code>contacts</code> dataset contains the following columns:</p>\n",
    "<ul>\n",
    "<li><code>id_guest</code> - Alphanumeric user_id of the guest making the inquiry</li>\n",
    "<li><code>id_host</code> - Alphanumeric user_id of the host of the listing to which the inquiry is made</li>\n",
    "<li><code>id_listing</code> - Alphanumeric identifier for the listing to which the inquiry is made</li>\n",
    "<li><code>ts_contact_at</code> - UTC timestamp of the moment the inquiry is made.</li>\n",
    "<li><code>ts_reply_at</code> - UTC timestamp of the moment the host replies to the inquiry, if so</li>\n",
    "<li><code>ts_accepted_at</code> - UTC timestamp of the moment the host accepts the inquiry, if so</li>\n",
    "<li><code>ts_booking_at</code> - UTC timestamp of the moment the booking is made, if so</li>\n",
    "<li><code>ds_checkin</code> - Date stamp of the check-in date of the inquiry</li>\n",
    "<li><code>ds_checkout</code> - Date stamp of the check-out date of the inquiry</li>\n",
    "<li><code>n_guests</code> - The number of guests the inquiry is for</li>\n",
    "<li><code>n_messages</code> - The total number of messages that were sent around this inquiry</li>\n",
    "</ul>\n",
    "<h2>Practicalities</h2>\n",
    "<p>Analyze the provided data and answer the questions to the best of your abilities. Include the relevant tables/graphs/visualization to explain what you have learnt about the market. Make sure that the solution reflects your entire thought process including the preparation of data - it is more important how the code is structured rather than just the final result or plot. You are expected to spend no more than 3-6 hours on this project.</p></div>"
   ]
  },
  {
   "cell_type": "markdown",
   "id": "ccffa5e5",
   "metadata": {},
   "source": [
    "## **Data:**"
   ]
  },
  {
   "cell_type": "code",
   "execution_count": null,
   "id": "a1dbc7b9",
   "metadata": {},
   "outputs": [],
   "source": []
  },
  {
   "cell_type": "markdown",
   "id": "316f7de5",
   "metadata": {},
   "source": [
    "## **Solution:**"
   ]
  },
  {
   "cell_type": "code",
   "execution_count": null,
   "id": "f57d23c1",
   "metadata": {},
   "outputs": [],
   "source": []
  }
 ],
 "metadata": {},
 "nbformat": 4,
 "nbformat_minor": 5
}
