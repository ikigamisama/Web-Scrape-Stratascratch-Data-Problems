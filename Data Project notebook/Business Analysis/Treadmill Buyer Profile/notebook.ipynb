{
 "cells": [
  {
   "cell_type": "markdown",
   "id": "c9989ae7",
   "metadata": {},
   "source": [
    "### **Link:** https://platform.stratascratch.com/data-projects/treadmill-buyer-profile"
   ]
  },
  {
   "cell_type": "markdown",
   "id": "29cf1d1f",
   "metadata": {},
   "source": [
    "### **Difficulty:** Easy"
   ]
  },
  {
   "cell_type": "markdown",
   "id": "7b28397c",
   "metadata": {},
   "source": [
    "# Treadmill Buyer Profile"
   ]
  },
  {
   "cell_type": "markdown",
   "id": "e3b44476",
   "metadata": {},
   "source": [
    "<div><p><em>This data project has been used as a take-home assignment in the recruitment process for the data science positions at Aerofit.</em></p>\n",
    "<h2>Assignment</h2>\n",
    "<p>The market research team at AeroFit wants to identify the characteristics of the target audience for each type of treadmill offered by the company, to provide a better recommendation of the treadmills to new customers. The team decides to investigate whether there are differences across the product with respect to customer characteristics.</p>\n",
    "<p>Perform descriptive analytics to create a customer profile for each AeroFit treadmill product by developing appropriate tables and charts. For each AeroFit treadmill product, construct two-way contingency tables and compute all conditional and marginal probabilities along with their insights/impact on the business.</p>\n",
    "<p><strong>Product Portfolio:</strong></p>\n",
    "<ul>\n",
    "<li>The KP281 is an entry-level treadmill that sells for $1,500;</li>\n",
    "<li>The KP481 is for mid-level runners and sells for $1,750;</li>\n",
    "<li>The KP781 treadmill is having advanced features and it sells for $2,500.</li>\n",
    "</ul>\n",
    "<h2>Data Description</h2>\n",
    "<p>The company collected data on individuals who purchased a treadmill from the AeroFit stores during the prior three months. The dataset in <code>aerofit_treadmill_data.csv</code> has the following features:</p>\n",
    "<ul>\n",
    "<li><code>Product</code> - product purchased: KP281, KP481, or KP781</li>\n",
    "<li><code>Age</code> - in years</li>\n",
    "<li><code>Gender</code> - male/female</li>\n",
    "<li><code>Education</code> - in years</li>\n",
    "<li><code>MaritalStatus</code> - single or partnered</li>\n",
    "<li><code>Usage</code> - the average number of times the customer plans to use the treadmill each week</li>\n",
    "<li><code>Fitness</code> - self-rated fitness on a 1-5 scale, where 1 is the poor shape and 5 is the excellent shape</li>\n",
    "<li><code>Income</code> - annual income in US dollars</li>\n",
    "<li><code>Miles</code> - the average number of miles the customer expects to walk/run each week</li>\n",
    "</ul>\n",
    "<h2>Practicalities</h2>\n",
    "<p>Analyze the provided data and provide insights to the best of your abilities. Include the relevant tables/graphs/visualization to explain what you have learned about the market. Make sure that the solution reflects your entire thought process including the preparation of data - it is more important how the code is structured rather than just the final result or plot.</p></div>"
   ]
  },
  {
   "cell_type": "markdown",
   "id": "d8e2ff2e",
   "metadata": {},
   "source": [
    "## **Data:**"
   ]
  },
  {
   "cell_type": "code",
   "execution_count": null,
   "id": "030745fd",
   "metadata": {},
   "outputs": [],
   "source": []
  },
  {
   "cell_type": "markdown",
   "id": "429d1675",
   "metadata": {},
   "source": [
    "## **Solution:**"
   ]
  },
  {
   "cell_type": "code",
   "execution_count": null,
   "id": "9817fcb8",
   "metadata": {},
   "outputs": [],
   "source": []
  }
 ],
 "metadata": {
  "language_info": {
   "name": "python"
  }
 },
 "nbformat": 4,
 "nbformat_minor": 5
}
