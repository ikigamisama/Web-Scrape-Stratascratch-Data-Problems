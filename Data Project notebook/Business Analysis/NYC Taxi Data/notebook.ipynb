{
 "cells": [
  {
   "cell_type": "markdown",
   "id": "d12d8e30",
   "metadata": {},
   "source": [
    "### **Link:** https://platform.stratascratch.com/data-projects/nyc-taxi-data"
   ]
  },
  {
   "cell_type": "markdown",
   "id": "3cd2e504",
   "metadata": {},
   "source": [
    "### **Difficulty:** Medium"
   ]
  },
  {
   "cell_type": "markdown",
   "id": "064c46d2",
   "metadata": {},
   "source": [
    "# NYC Taxi Data"
   ]
  },
  {
   "cell_type": "markdown",
   "id": "9df96ac1",
   "metadata": {},
   "source": [
    "<div><p><em>This data project has been used as a take-home assignment in the recruitment process for the data science positions at Capital One.</em></p>\n",
    "<h2>Assignment</h2>\n",
    "<p>This coding challenge is designed to test your skill and intuition about real world data. For the challenge, we will use data collected by the New York City Taxi and Limousine commission about “Green” Taxis. Green Taxis (as opposed to yellow ones) are taxis that are not allowed to pick up passengers inside of the densely populated areas of Manhattan. We will use the data from September 2015.</p>\n",
    "<h3>Question 1</h3>\n",
    "<ul>\n",
    "<li>Programmatically download and load into your favorite analytical tool the trip data for September 2015</li>\n",
    "<li>Report how many rows and columns of data you have loaded.</li>\n",
    "</ul>\n",
    "<h3>Question 2</h3>\n",
    "<ul>\n",
    "<li>Plot a histogram of the number of the trip distance (“Trip Distance”)</li>\n",
    "<li>Report any structure you find and any hypotheses you have about that structure</li>\n",
    "</ul>\n",
    "<h3>Question 3</h3>\n",
    "<ul>\n",
    "<li>Report mean and median trip distance grouped by hour of day.</li>\n",
    "<li>We’d like to get a rough sense of identifying trips that originate or terminate at one of the NYC area airports. Can you provide a count of how many transactions fit this criteria, the average fair, and any other interesting characteristics of these trips</li>\n",
    "</ul>\n",
    "<h3>Question 4</h3>\n",
    "<ul>\n",
    "<li>Build a derived variable for tip as a percentage of the total fare.</li>\n",
    "<li>Build a predictive model for tip as a percentage of the total fare. Use as much of the data as you like (or all of it). We will validate a sample.</li>\n",
    "</ul>\n",
    "<h3>Question 5</h3>\n",
    "<p>Choose only one of these options to answer for Question 5. There is no preference as to which one you choose. Please select the question that you feel your particular skills and/or expertise are best suited to. If you answer more than one, only the first will be scored.</p>\n",
    "<p><strong>Option A: Distributions</strong></p>\n",
    "<ul>\n",
    "<li>Build a derived variable representing the average speed over the course of a trip.</li>\n",
    "<li>Can you perform a test to determine if the average trip speeds are materially the same in all weeks of September? If you decide they are not the same, can you form a hypothesis regarding why they differ?</li>\n",
    "<li>Can you build up a hypothesis of average trip speed as a function of time of day?</li>\n",
    "</ul>\n",
    "<p><strong>Option B: Visualization</strong></p>\n",
    "<ul>\n",
    "<li>Can you build a visualization (interactive or static) of the trip data that helps us understand intra- vs. inter-borough traffic? What story does it tell about how New Yorkers use their green taxis?</li>\n",
    "</ul>\n",
    "<p><strong>Option C: Search</strong></p>\n",
    "<ul>\n",
    "<li>We’re thinking about promoting ride sharing. Build a function that given point a point P, find the k trip origination points nearest P.</li>\n",
    "<li>For this question, point P would be a taxi ride starting location picked by us at a given LAT-LONG.</li>\n",
    "<li>As an extra layer of complexity, consider the time for pickups, so this could eventually be used for real time ride sharing matching.</li>\n",
    "<li>Please explain not only how this can be computed, but how efficient your approach is (time and space complexity)</li>\n",
    "</ul>\n",
    "<p><strong>Option D: Anomaly Detection</strong></p>\n",
    "<ul>\n",
    "<li>What anomalies can you find in the data? Did taxi traffic or behavior deviate from the norm on a particular day/time or in a particular location?</li>\n",
    "<li>Using time-series analysis, clustering, or some other method, please develop a process/methodology to identify out of the norm behavior and attempt to explain why those anomalies occurred.</li>\n",
    "</ul>\n",
    "<p><strong>Option E: Your own curiosity!</strong>\n",
    "--- If the data leaps out and screams some question of you that we haven’t asked, ask it and answer it! Use this as an opportunity to highlight your special skills and philosophies.</p>\n",
    "<h2>Data Description</h2>\n",
    "<p>The file <code>green_tripdata_2015-09.tar.bz2</code> contains data on 1.5 million trips from September 2015. The data come from the NYC Taxi and Limousine trip records.</p>\n",
    "<h3>Hint</h3>\n",
    "<p>The provided <code>.tar.bz2</code> file is a compressed CSV file. Its contents can be loaded to a Pandas DataFrame using the <code>read_csv()</code> method from the Pandas library as follows:</p>\n",
    "<pre><code>df = pd.read_csv(\"green_tripdata_2015-09.tar.bz2\", compression=\"bz2\")\n",
    "</code></pre>\n",
    "<h2>Practicalities</h2>\n",
    "<p>Please work on the questions in the displayed order. Make sure that the solution reflects your entire thought process - it is more important how the code is structured rather than the final answers. You are expected to spend no more than 2 hours solving this project.</p></div>"
   ]
  },
  {
   "cell_type": "markdown",
   "id": "99c5b8b6",
   "metadata": {},
   "source": [
    "## **Data:**"
   ]
  },
  {
   "cell_type": "code",
   "execution_count": null,
   "id": "39f46d37",
   "metadata": {},
   "outputs": [],
   "source": []
  },
  {
   "cell_type": "markdown",
   "id": "b9ea3916",
   "metadata": {},
   "source": [
    "## **Solution:**"
   ]
  },
  {
   "cell_type": "code",
   "execution_count": null,
   "id": "5f2eae84",
   "metadata": {},
   "outputs": [],
   "source": []
  }
 ],
 "metadata": {},
 "nbformat": 4,
 "nbformat_minor": 5
}
