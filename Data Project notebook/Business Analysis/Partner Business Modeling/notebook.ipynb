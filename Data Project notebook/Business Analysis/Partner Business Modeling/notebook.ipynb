{
 "cells": [
  {
   "cell_type": "markdown",
   "id": "0f180ebc",
   "metadata": {},
   "source": [
    "### **Link:** https://platform.stratascratch.com/data-projects/partner-business-modeling"
   ]
  },
  {
   "cell_type": "markdown",
   "id": "783ac207",
   "metadata": {},
   "source": [
    "### **Difficulty:** Easy"
   ]
  },
  {
   "cell_type": "markdown",
   "id": "1124bfad",
   "metadata": {},
   "source": [
    "# Partner Business Modeling"
   ]
  },
  {
   "cell_type": "markdown",
   "id": "525c3cda",
   "metadata": {},
   "source": [
    "<div><p><em>This data project has been used as a take-home assignment in the recruitment process for the data science positions at Uber.</em></p>\n",
    "<h2>Assignment</h2>\n",
    "<p><em><strong>Scenario 1:</strong></em> <em>It is going to be a huge Saturday and there will need to be many more cars on the road than last week. In order to get drivers to go online, we're assessing the following two bonus options in terms of cost:</em></p>\n",
    "<ul>\n",
    "<li><em>Option 1: $50 for each driver that is online at least 8 hours, accepts 90% of requests, completes 10 trips, and has a rating of 4.7 or better during the time frame;</em></li>\n",
    "<li><em>Option 2: $4/trip for all drivers who complete 12 trips, and have a 4.7 or better rating.</em></li>\n",
    "</ul>\n",
    "<p>Using the dataset provided and given Scenario 1, provide answers to the questions below:</p>\n",
    "<ol>\n",
    "<li>How much would the total bonus payout be with Option 1?</li>\n",
    "<li>How much would the total bonus payout be with Option 2?</li>\n",
    "<li>How many drivers would qualify for a bonus under Option 1 but not under Option 2?</li>\n",
    "<li>What percentages of drivers online completed less than 10 trips, had an acceptance rate of less than 90%, and had a rating of 4.7 or higher?</li>\n",
    "</ol>\n",
    "<p><em><strong>Scenario 2:</strong> A taxi driver currently generates $200 per day in fares (before expenses), works six days a week, takes three weeks off, and has the following expenses:</em></p>\n",
    "<ul>\n",
    "<li><em>Gas - $200 per week</em></li>\n",
    "<li><em>Insurance - $400 per month</em></li>\n",
    "<li><em>Vehicle rent (by the week) - $500</em></li>\n",
    "</ul>\n",
    "<p><em>The driver doesn't pay gas and rent expenses on off weeks.</em></p>\n",
    "<p><em>Now, let's assume that the same driver would buy a Town Car and partner with Uber. If he does, his gas expenses would go up by 5%, his insurance expense would decrease by 20%, and he would no longer be renting a vehicle. However, he would need to buy a car. The driver would still take three weeks off per year.</em></p>\n",
    "<p>Given Scenario 2, provide answers to the questions below:</p>\n",
    "<ol start=\"5\">\n",
    "<li>How much money (after expenses) does the taxi driver make per year without partnering with Uber?</li>\n",
    "<li>You are convincing the same driver above to buy a Town Car and partner with Uber. Assuming the new car is 40,000 USD, how much would the driver's gross fares need to increase per week to fully pay for the car in year 1 and maintain the same yearly profit margin as before?</li>\n",
    "</ol>\n",
    "<h2>Data Description</h2>\n",
    "<p>The dataset is given in the file <code>dataset_2.csv</code>. The data come from rides on a busy Saturday and are aggregated on a driver level. The dataset provides information on the total number of completed trips, the driver's acceptance rate, the total number of hours on duty, and the average rating.</p>\n",
    "<p>Only use this dataset to answer questions 1-4. There is no dataset provided for questions 5 and 6 as these are solely based on a given scenario.</p>\n",
    "<h2>Practicalities</h2>\n",
    "<p>Please work on the questions in the displayed order. Make sure that the solution reflects your entire thought process - it is more important how the code is structured rather than the final answers. You are expected to spend no more than 2 hours solving this project.</p></div>"
   ]
  },
  {
   "cell_type": "markdown",
   "id": "8dbe1e5d",
   "metadata": {},
   "source": [
    "## **Data:**"
   ]
  },
  {
   "cell_type": "code",
   "execution_count": null,
   "id": "c86f79eb",
   "metadata": {},
   "outputs": [],
   "source": []
  },
  {
   "cell_type": "markdown",
   "id": "75d61bfc",
   "metadata": {},
   "source": [
    "## **Solution:**"
   ]
  },
  {
   "cell_type": "code",
   "execution_count": null,
   "id": "76fc2621",
   "metadata": {},
   "outputs": [],
   "source": []
  }
 ],
 "metadata": {},
 "nbformat": 4,
 "nbformat_minor": 5
}
