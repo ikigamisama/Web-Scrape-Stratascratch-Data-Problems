{
 "cells": [
  {
   "cell_type": "markdown",
   "id": "65373461",
   "metadata": {},
   "source": [
    "### **Link:** https://platform.stratascratch.com/data-projects/insights-failed-orders"
   ]
  },
  {
   "cell_type": "markdown",
   "id": "90762cf8",
   "metadata": {},
   "source": [
    "### **Difficulty:** Medium"
   ]
  },
  {
   "cell_type": "markdown",
   "id": "7d3d3764",
   "metadata": {},
   "source": [
    "# Insights from Failed Orders"
   ]
  },
  {
   "cell_type": "markdown",
   "id": "b3bc7bac",
   "metadata": {},
   "source": [
    "<div><p><em>This data project has been used as a take-home assignment in the recruitment process for the data science positions at Gett.</em></p>\n",
    "<p><a href=\"https://gett.com/intl/\">Gett</a>, previously known as GetTaxi, is an Israeli-developed technology platform solely focused on corporate Ground Transportation Management (GTM). They have an application where clients can order taxis, and drivers can accept their rides (offers). At the moment, when the client clicks the <em>Order</em> button in the application, the matching system searches for the most relevant drivers and offers them the order. In this task, we would like to investigate some matching metrics for orders that did not completed successfully, i.e., the customer didn't end up getting a car.</p>\n",
    "<h2>Assignment</h2>\n",
    "<p>Please complete the following tasks.</p>\n",
    "<ol>\n",
    "<li>Build up distribution of orders according to reasons for failure: cancellations before and after driver assignment, and reasons for order rejection. Analyse the resulting plot. Which category has the highest number of orders?</li>\n",
    "<li>Plot the distribution of failed orders by hours. Is there a trend that certain hours have an abnormally high proportion of one category or another? What hours are the biggest fails? How can this be explained?</li>\n",
    "<li>Plot the average time to cancellation with and without driver, by the hour. If there are any outliers in the data, it would be better to remove them. Can we draw any conclusions from this plot?</li>\n",
    "<li>Plot the distribution of average ETA by hours. How can this plot be explained?</li>\n",
    "<li><strong>BONUS</strong> Hexagons. Using the <a href=\"https://github.com/uber/h3-py\">h3</a> and <a href=\"https://python-visualization.github.io/folium/#:~:text=folium%20makes%20it%20easy%20to,as%20markers%20on%20the%20map.\">folium</a> packages, calculate how many sizes <a href=\"https://h3geo.org/#/documentation/core-library/resolution-table\">8 hexes</a> contain 80% of all orders from the original data sets and visualise the hexes, colouring them by the number of fails on the map.</li>\n",
    "</ol>\n",
    "<h2>Data Description</h2>\n",
    "<p>We have two data sets: <code>data_orders</code> and <code>data_offers</code>, both being stored in a CSV format. The <code>data_orders</code> data set contains the following columns:</p>\n",
    "<ul>\n",
    "<li><code>order_datetime</code> - time of the order</li>\n",
    "<li><code>origin_longitude</code> - longitude of the order</li>\n",
    "<li><code>origin_latitude</code> - latitude of the order</li>\n",
    "<li><code>m_order_eta</code> - time before order arrival</li>\n",
    "<li><code>order_gk</code> - order number</li>\n",
    "<li><code>order_status_key</code> - status, an enumeration consisting of the following mapping:\n",
    "<ul>\n",
    "<li><code>4</code> - cancelled by client,</li>\n",
    "<li><code>9</code> - cancelled by system, i.e., a reject</li>\n",
    "</ul>\n",
    "</li>\n",
    "<li><code>is_driver_assigned_key</code> - whether a driver has been assigned</li>\n",
    "<li><code>cancellation_time_in_seconds</code> - how many seconds passed before cancellation</li>\n",
    "</ul>\n",
    "<p>The <code>data_offers</code> data set is a simple map with 2 columns:</p>\n",
    "<ul>\n",
    "<li><code>order_gk</code> - order number, associated with the same column from the <code>orders</code> data set</li>\n",
    "<li><code>offer_id</code> - ID of an offer</li>\n",
    "</ul>\n",
    "<h2>Practicalities</h2>\n",
    "<p>Make sure that the solution reflects your entire thought process including the preparation of data - it is more important how the code is structured rather than just the final result or plot.</p></div>"
   ]
  },
  {
   "cell_type": "markdown",
   "id": "97534e1f",
   "metadata": {},
   "source": [
    "## **Data:**"
   ]
  },
  {
   "cell_type": "code",
   "execution_count": null,
   "id": "5a2fe2c9",
   "metadata": {},
   "outputs": [],
   "source": []
  },
  {
   "cell_type": "markdown",
   "id": "b0a5c1f0",
   "metadata": {},
   "source": [
    "## **Solution:**"
   ]
  },
  {
   "cell_type": "code",
   "execution_count": null,
   "id": "08c17de6",
   "metadata": {},
   "outputs": [],
   "source": []
  }
 ],
 "metadata": {},
 "nbformat": 4,
 "nbformat_minor": 5
}
