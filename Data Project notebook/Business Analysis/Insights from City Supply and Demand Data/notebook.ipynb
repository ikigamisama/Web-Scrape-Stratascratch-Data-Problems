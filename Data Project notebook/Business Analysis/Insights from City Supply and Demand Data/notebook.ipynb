{
 "cells": [
  {
   "cell_type": "markdown",
   "id": "2a947ecc",
   "metadata": {},
   "source": [
    "### **Link:** https://platform.stratascratch.com/data-projects/insights-city-supply-and-demand-data"
   ]
  },
  {
   "cell_type": "markdown",
   "id": "f7e33b6a",
   "metadata": {},
   "source": [
    "### **Difficulty:** Easy"
   ]
  },
  {
   "cell_type": "markdown",
   "id": "b0728856",
   "metadata": {},
   "source": [
    "# Insights from City Supply and Demand Data"
   ]
  },
  {
   "cell_type": "markdown",
   "id": "597fd647",
   "metadata": {},
   "source": [
    "<div><p><em>This data project has been used as a take-home assignment in the recruitment process for the data science positions at Uber.</em></p>\n",
    "<h2>Assignment</h2>\n",
    "<p>Using the provided dataset, answer the following questions:</p>\n",
    "<ol>\n",
    "<li>Which date had the most completed trips during the two week period?</li>\n",
    "<li>What was the highest number of completed trips within a 24 hour period?</li>\n",
    "<li>Which hour of the day had the most requests during the two week period?</li>\n",
    "<li>What percentages of all zeroes during the two week period occurred on weekend (Friday at 5 pm to Sunday at 3 am)?\n",
    "<strong>Tip</strong>: The local time value is the start of the hour (e.g. <code>15</code> is the hour from 3:00pm - 4:00pm)</li>\n",
    "<li>What is the weighted average ratio of completed trips per driver during the two week period?\n",
    "<strong>Tip</strong>: \"Weighted average\" means your answer should account for the total trip volume in each hour to determine the most accurate number in whole period.</li>\n",
    "<li>In drafting a driver schedule in terms of 8 hours shifts, when are the busiest 8 consecutive hours over the two week period in terms of unique requests? A new shift starts in every 8 hours. Assume that a driver will work same shift each day.</li>\n",
    "<li><strong>True or False</strong>:  Driver supply always increases when demand increases during the two week period.\n",
    "<strong>Tip</strong>: Visualize the data to confirm your answer if needed.</li>\n",
    "<li>In which 72 hour period is the ratio of Zeroes to Eyeballs the highest?</li>\n",
    "<li>If you could add 5 drivers to any single hour of every day during the two week period, which hour should you add them to?\n",
    "<strong>Hint</strong>: Consider both rider eyeballs and driver supply when choosing</li>\n",
    "<li><strong>True or False:</strong> There is exactly two weeks of data in this analysis</li>\n",
    "<li>Looking at the data from all two weeks, which time might make the most sense to consider a true \"end day\" instead of midnight? (i.e when are supply and demand at both their natural minimums)\n",
    "<strong>Tip</strong>: Visualize the data to confirm your answer if needed.</li>\n",
    "</ol>\n",
    "<h2>Data Description</h2>\n",
    "<p>To answer the question, use the dataset from the file <code>dataset_1.csv</code>. For example, consider the row 11 from this dataset:</p>\n",
    "<table><thead><tr><th>Date</th><th>Time (Local)</th><th>Eyeballs</th><th>Zeroes</th><th>Completed Trips</th><th>Requests</th><th>Unique Drivers</th></tr></thead><tbody><tr><td>2012-09-10</td><td>16</td><td>11</td><td>2</td><td>3</td><td>4</td><td>6</td></tr></tbody></table>\n",
    "<p>This means that during the hour beginning at 4pm (hour <strong>16</strong>), on September 10th, 2012, <strong>11</strong> people opened the Uber app (Eyeballs). <strong>2</strong> of them did not see any car (Zeroes) and <strong>4</strong> of them requested a car (Requests). Of the 4 requests, only <strong>3</strong> complete trips actually resulted (Completed Trips). During this time, there were a total of 6 drivers who logged in (Unique Drivers).</p>\n",
    "<h2>Practicalities</h2>\n",
    "<p>Please work on the questions in the displayed order. Make sure that the solution reflects your entire thought process - it is more important how the code is structured rather than the final answers. You are expected to spend no more than 2-3 hours solving this project.</p></div>"
   ]
  },
  {
   "cell_type": "markdown",
   "id": "b6ce22a1",
   "metadata": {},
   "source": [
    "## **Data:**"
   ]
  },
  {
   "cell_type": "code",
   "execution_count": null,
   "id": "662783f2",
   "metadata": {},
   "outputs": [],
   "source": []
  },
  {
   "cell_type": "markdown",
   "id": "0b6ff7ec",
   "metadata": {},
   "source": [
    "## **Solution:**"
   ]
  },
  {
   "cell_type": "code",
   "execution_count": null,
   "id": "aed4eca5",
   "metadata": {},
   "outputs": [],
   "source": []
  }
 ],
 "metadata": {},
 "nbformat": 4,
 "nbformat_minor": 5
}
