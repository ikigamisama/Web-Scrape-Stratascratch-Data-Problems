{
 "cells": [
  {
   "cell_type": "markdown",
   "id": "c2923b50",
   "metadata": {},
   "source": [
    "### **Link:** https://platform.stratascratch.com/data-projects/which-customers-target"
   ]
  },
  {
   "cell_type": "markdown",
   "id": "7c766924",
   "metadata": {},
   "source": [
    "### **Difficulty:** Medium"
   ]
  },
  {
   "cell_type": "markdown",
   "id": "d5a1d6ab",
   "metadata": {},
   "source": [
    "# Which Customers to Target"
   ]
  },
  {
   "cell_type": "markdown",
   "id": "c4863364",
   "metadata": {},
   "source": [
    "<div><p><em>This data project has been used as a take-home assignment in the recruitment process for the data science positions at Starbucks.</em></p>\n",
    "<h2>Assignment</h2>\n",
    "<p><strong>Background</strong></p>\n",
    "<p>In the experiment simulated by the data, an advertising promotion was tested to see if it would bring more customers to purchase a specific product priced at $10. Since it costs the company $0.15 to send out each promotion, it would be best to limit that promotion only to those that are most receptive to the promotion.</p>\n",
    "<p><strong>Task</strong></p>\n",
    "<ol>\n",
    "<li>Analyze the results of the experiment and identify the effect of the Treatment on product purchase and Net Incremental Revenue;</li>\n",
    "<li>Build a model to select the best customers to target that maximizes the Incremental Response Rate and Net Incremental Revenue;</li>\n",
    "<li>Score the <code>Test.csv</code> using the model and select the best customers and share the customer ID’s as  csv file;</li>\n",
    "<li>Explain briefly the approach used in a separate document and also share the code that can be executed to reproduce results.</li>\n",
    "</ol>\n",
    "<h2>Data Description</h2>\n",
    "<p>A randomized experiment was conducted and the results are in <code>Training.csv</code>:</p>\n",
    "<ul>\n",
    "<li><code>Treatment</code> – Indicates if the customer was part of treatment or control</li>\n",
    "<li><code>Purchase</code> – Indicates if the customer purchased the product</li>\n",
    "<li><code>ID</code> – Customer ID</li>\n",
    "<li><code>V1</code> to <code>V7</code> – features of the customer</li>\n",
    "</ul>\n",
    "<p>Cost of sending a Promotion: $0.15\n",
    "Revenue from purchase of product: $10 (There is only one product)</p>\n",
    "<h2>Practicalities</h2>\n",
    "<h3>Tips</h3>\n",
    "<ul>\n",
    "<li><strong>Incremental Response Rate (IRR)</strong></li>\n",
    "</ul>\n",
    "<p>IRR depicts how many more customers purchased the product with the promotion, as compared to if they didn't receive the promotion. Mathematically, it's the ratio of the number of purchasers in the promotion group to the total number of customers in the purchasers group (<em>treatment</em>) minus the ratio of the number of purchasers in the non-promotional group to the total number of customers in the non-promotional group (<em>control</em>).</p>\n",
    "<p><span class=\"math math-inline\"><span class=\"katex\"><span class=\"katex-mathml\"><math xmlns=\"http://www.w3.org/1998/Math/MathML\"><semantics><mrow><mi>I</mi><mi>R</mi><mi>R</mi><mo>=</mo><mfrac><mrow><mi>p</mi><mi>u</mi><mi>r</mi><mi>c</mi><msub><mi>h</mi><mrow><mi>t</mi><mi>r</mi><mi>e</mi><mi>a</mi><mi>t</mi></mrow></msub></mrow><mrow><mi>c</mi><mi>u</mi><mi>s</mi><msub><mi>t</mi><mrow><mi>t</mi><mi>r</mi><mi>e</mi><mi>a</mi><mi>t</mi></mrow></msub></mrow></mfrac><mo>−</mo><mfrac><mrow><mi>c</mi><mi>t</mi><mi>r</mi><msub><mi>l</mi><mrow><mi>t</mi><mi>r</mi><mi>e</mi><mi>a</mi><mi>t</mi></mrow></msub></mrow><mrow><mi>c</mi><mi>u</mi><mi>s</mi><msub><mi>t</mi><mrow><mi>c</mi><mi>t</mi><mi>r</mi><mi>l</mi></mrow></msub></mrow></mfrac></mrow><annotation encoding=\"application/x-tex\">IRR = \\frac{purch_{treat}}{cust_{treat}} - \\frac{ctrl_{treat}}{cust_{ctrl}}</annotation></semantics></math></span><span aria-hidden=\"true\" class=\"katex-html\"><span class=\"base\"><span class=\"strut\" style=\"height: 0.6833em;\"></span><span class=\"mord mathnormal\" style=\"margin-right: 0.07847em;\">I</span><span class=\"mord mathnormal\" style=\"margin-right: 0.00773em;\">RR</span><span class=\"mspace\" style=\"margin-right: 0.2778em;\"></span><span class=\"mrel\">=</span><span class=\"mspace\" style=\"margin-right: 0.2778em;\"></span></span><span class=\"base\"><span class=\"strut\" style=\"height: 1.3773em; vertical-align: -0.4451em;\"></span><span class=\"mord\"><span class=\"mopen nulldelimiter\"></span><span class=\"mfrac\"><span class=\"vlist-t vlist-t2\"><span class=\"vlist-r\"><span class=\"vlist\" style=\"height: 0.9322em;\"><span style=\"top: -2.655em;\"><span class=\"pstrut\" style=\"height: 3em;\"></span><span class=\"sizing reset-size6 size3 mtight\"><span class=\"mord mtight\"><span class=\"mord mathnormal mtight\">c</span><span class=\"mord mathnormal mtight\">u</span><span class=\"mord mathnormal mtight\">s</span><span class=\"mord mtight\"><span class=\"mord mathnormal mtight\">t</span><span class=\"msupsub\"><span class=\"vlist-t vlist-t2\"><span class=\"vlist-r\"><span class=\"vlist\" style=\"height: 0.2963em;\"><span style=\"top: -2.357em; margin-left: 0em; margin-right: 0.0714em;\"><span class=\"pstrut\" style=\"height: 2.5em;\"></span><span class=\"sizing reset-size3 size1 mtight\"><span class=\"mord mtight\"><span class=\"mord mathnormal mtight\">t</span><span class=\"mord mathnormal mtight\">re</span><span class=\"mord mathnormal mtight\">a</span><span class=\"mord mathnormal mtight\">t</span></span></span></span></span><span class=\"vlist-s\">​</span></span><span class=\"vlist-r\"><span class=\"vlist\" style=\"height: 0.143em;\"><span></span></span></span></span></span></span></span></span></span><span style=\"top: -3.23em;\"><span class=\"pstrut\" style=\"height: 3em;\"></span><span class=\"frac-line\" style=\"border-bottom-width: 0.04em;\"></span></span><span style=\"top: -3.4461em;\"><span class=\"pstrut\" style=\"height: 3em;\"></span><span class=\"sizing reset-size6 size3 mtight\"><span class=\"mord mtight\"><span class=\"mord mathnormal mtight\">p</span><span class=\"mord mathnormal mtight\">u</span><span class=\"mord mathnormal mtight\">rc</span><span class=\"mord mtight\"><span class=\"mord mathnormal mtight\">h</span><span class=\"msupsub\"><span class=\"vlist-t vlist-t2\"><span class=\"vlist-r\"><span class=\"vlist\" style=\"height: 0.2963em;\"><span style=\"top: -2.357em; margin-left: 0em; margin-right: 0.0714em;\"><span class=\"pstrut\" style=\"height: 2.5em;\"></span><span class=\"sizing reset-size3 size1 mtight\"><span class=\"mord mtight\"><span class=\"mord mathnormal mtight\">t</span><span class=\"mord mathnormal mtight\">re</span><span class=\"mord mathnormal mtight\">a</span><span class=\"mord mathnormal mtight\">t</span></span></span></span></span><span class=\"vlist-s\">​</span></span><span class=\"vlist-r\"><span class=\"vlist\" style=\"height: 0.143em;\"><span></span></span></span></span></span></span></span></span></span></span><span class=\"vlist-s\">​</span></span><span class=\"vlist-r\"><span class=\"vlist\" style=\"height: 0.4451em;\"><span></span></span></span></span></span><span class=\"mclose nulldelimiter\"></span></span><span class=\"mspace\" style=\"margin-right: 0.2222em;\"></span><span class=\"mbin\">−</span><span class=\"mspace\" style=\"margin-right: 0.2222em;\"></span></span><span class=\"base\"><span class=\"strut\" style=\"height: 1.3471em; vertical-align: -0.4509em;\"></span><span class=\"mord\"><span class=\"mopen nulldelimiter\"></span><span class=\"mfrac\"><span class=\"vlist-t vlist-t2\"><span class=\"vlist-r\"><span class=\"vlist\" style=\"height: 0.8962em;\"><span style=\"top: -2.655em;\"><span class=\"pstrut\" style=\"height: 3em;\"></span><span class=\"sizing reset-size6 size3 mtight\"><span class=\"mord mtight\"><span class=\"mord mathnormal mtight\">c</span><span class=\"mord mathnormal mtight\">u</span><span class=\"mord mathnormal mtight\">s</span><span class=\"mord mtight\"><span class=\"mord mathnormal mtight\">t</span><span class=\"msupsub\"><span class=\"vlist-t vlist-t2\"><span class=\"vlist-r\"><span class=\"vlist\" style=\"height: 0.3448em;\"><span style=\"top: -2.3488em; margin-left: 0em; margin-right: 0.0714em;\"><span class=\"pstrut\" style=\"height: 2.5em;\"></span><span class=\"sizing reset-size3 size1 mtight\"><span class=\"mord mtight\"><span class=\"mord mathnormal mtight\">c</span><span class=\"mord mathnormal mtight\">t</span><span class=\"mord mathnormal mtight\" style=\"margin-right: 0.02778em;\">r</span><span class=\"mord mathnormal mtight\" style=\"margin-right: 0.01968em;\">l</span></span></span></span></span><span class=\"vlist-s\">​</span></span><span class=\"vlist-r\"><span class=\"vlist\" style=\"height: 0.1512em;\"><span></span></span></span></span></span></span></span></span></span><span style=\"top: -3.23em;\"><span class=\"pstrut\" style=\"height: 3em;\"></span><span class=\"frac-line\" style=\"border-bottom-width: 0.04em;\"></span></span><span style=\"top: -3.4101em;\"><span class=\"pstrut\" style=\"height: 3em;\"></span><span class=\"sizing reset-size6 size3 mtight\"><span class=\"mord mtight\"><span class=\"mord mathnormal mtight\">c</span><span class=\"mord mathnormal mtight\">t</span><span class=\"mord mathnormal mtight\" style=\"margin-right: 0.02778em;\">r</span><span class=\"mord mtight\"><span class=\"mord mathnormal mtight\" style=\"margin-right: 0.01968em;\">l</span><span class=\"msupsub\"><span class=\"vlist-t vlist-t2\"><span class=\"vlist-r\"><span class=\"vlist\" style=\"height: 0.2963em;\"><span style=\"top: -2.357em; margin-left: -0.0197em; margin-right: 0.0714em;\"><span class=\"pstrut\" style=\"height: 2.5em;\"></span><span class=\"sizing reset-size3 size1 mtight\"><span class=\"mord mtight\"><span class=\"mord mathnormal mtight\">t</span><span class=\"mord mathnormal mtight\">re</span><span class=\"mord mathnormal mtight\">a</span><span class=\"mord mathnormal mtight\">t</span></span></span></span></span><span class=\"vlist-s\">​</span></span><span class=\"vlist-r\"><span class=\"vlist\" style=\"height: 0.143em;\"><span></span></span></span></span></span></span></span></span></span></span><span class=\"vlist-s\">​</span></span><span class=\"vlist-r\"><span class=\"vlist\" style=\"height: 0.4509em;\"><span></span></span></span></span></span><span class=\"mclose nulldelimiter\"></span></span></span></span></span></span></p>\n",
    "<ul>\n",
    "<li><strong>Net Incremental Revenue (NIR)</strong></li>\n",
    "</ul>\n",
    "<p>NIR depicts how much is made (or lost) by sending out the promotion. Mathematically, this is 10 times the total number of purchasers that received the promotion minus 0.15 times the number of promotions sent out, minus 10 times the number of purchasers who were not given the promotion.</p>\n",
    "<p><span class=\"math math-inline\"><span class=\"katex\"><span class=\"katex-mathml\"><math xmlns=\"http://www.w3.org/1998/Math/MathML\"><semantics><mrow><mi>N</mi><mi>I</mi><mi>R</mi><mo>=</mo><mo stretchy=\"false\">(</mo><mn>10</mn><mo>×</mo><mi>p</mi><mi>u</mi><mi>r</mi><mi>c</mi><msub><mi>h</mi><mrow><mi>t</mi><mi>r</mi><mi>e</mi><mi>a</mi><mi>t</mi></mrow></msub><mo>−</mo><mn>0.15</mn><mo>×</mo><mi>c</mi><mi>u</mi><mi>s</mi><msub><mi>t</mi><mrow><mi>t</mi><mi>r</mi><mi>e</mi><mi>a</mi><mi>t</mi></mrow></msub><mo stretchy=\"false\">)</mo><mo>−</mo><mn>10</mn><mo>×</mo><mi>p</mi><mi>u</mi><mi>r</mi><mi>c</mi><msub><mi>h</mi><mrow><mi>c</mi><mi>t</mi><mi>r</mi><mi>l</mi></mrow></msub></mrow><annotation encoding=\"application/x-tex\">NIR = (10 \\times purch_{treat} - 0.15 \\times cust_{treat}) - 10 \\times purch_{ctrl}</annotation></semantics></math></span><span aria-hidden=\"true\" class=\"katex-html\"><span class=\"base\"><span class=\"strut\" style=\"height: 0.6833em;\"></span><span class=\"mord mathnormal\" style=\"margin-right: 0.10903em;\">N</span><span class=\"mord mathnormal\" style=\"margin-right: 0.07847em;\">I</span><span class=\"mord mathnormal\" style=\"margin-right: 0.00773em;\">R</span><span class=\"mspace\" style=\"margin-right: 0.2778em;\"></span><span class=\"mrel\">=</span><span class=\"mspace\" style=\"margin-right: 0.2778em;\"></span></span><span class=\"base\"><span class=\"strut\" style=\"height: 1em; vertical-align: -0.25em;\"></span><span class=\"mopen\">(</span><span class=\"mord\">10</span><span class=\"mspace\" style=\"margin-right: 0.2222em;\"></span><span class=\"mbin\">×</span><span class=\"mspace\" style=\"margin-right: 0.2222em;\"></span></span><span class=\"base\"><span class=\"strut\" style=\"height: 0.8889em; vertical-align: -0.1944em;\"></span><span class=\"mord mathnormal\">p</span><span class=\"mord mathnormal\">u</span><span class=\"mord mathnormal\">rc</span><span class=\"mord\"><span class=\"mord mathnormal\">h</span><span class=\"msupsub\"><span class=\"vlist-t vlist-t2\"><span class=\"vlist-r\"><span class=\"vlist\" style=\"height: 0.2806em;\"><span style=\"top: -2.55em; margin-left: 0em; margin-right: 0.05em;\"><span class=\"pstrut\" style=\"height: 2.7em;\"></span><span class=\"sizing reset-size6 size3 mtight\"><span class=\"mord mtight\"><span class=\"mord mathnormal mtight\">t</span><span class=\"mord mathnormal mtight\">re</span><span class=\"mord mathnormal mtight\">a</span><span class=\"mord mathnormal mtight\">t</span></span></span></span></span><span class=\"vlist-s\">​</span></span><span class=\"vlist-r\"><span class=\"vlist\" style=\"height: 0.15em;\"><span></span></span></span></span></span></span><span class=\"mspace\" style=\"margin-right: 0.2222em;\"></span><span class=\"mbin\">−</span><span class=\"mspace\" style=\"margin-right: 0.2222em;\"></span></span><span class=\"base\"><span class=\"strut\" style=\"height: 0.7278em; vertical-align: -0.0833em;\"></span><span class=\"mord\">0.15</span><span class=\"mspace\" style=\"margin-right: 0.2222em;\"></span><span class=\"mbin\">×</span><span class=\"mspace\" style=\"margin-right: 0.2222em;\"></span></span><span class=\"base\"><span class=\"strut\" style=\"height: 1em; vertical-align: -0.25em;\"></span><span class=\"mord mathnormal\">c</span><span class=\"mord mathnormal\">u</span><span class=\"mord mathnormal\">s</span><span class=\"mord\"><span class=\"mord mathnormal\">t</span><span class=\"msupsub\"><span class=\"vlist-t vlist-t2\"><span class=\"vlist-r\"><span class=\"vlist\" style=\"height: 0.2806em;\"><span style=\"top: -2.55em; margin-left: 0em; margin-right: 0.05em;\"><span class=\"pstrut\" style=\"height: 2.7em;\"></span><span class=\"sizing reset-size6 size3 mtight\"><span class=\"mord mtight\"><span class=\"mord mathnormal mtight\">t</span><span class=\"mord mathnormal mtight\">re</span><span class=\"mord mathnormal mtight\">a</span><span class=\"mord mathnormal mtight\">t</span></span></span></span></span><span class=\"vlist-s\">​</span></span><span class=\"vlist-r\"><span class=\"vlist\" style=\"height: 0.15em;\"><span></span></span></span></span></span></span><span class=\"mclose\">)</span><span class=\"mspace\" style=\"margin-right: 0.2222em;\"></span><span class=\"mbin\">−</span><span class=\"mspace\" style=\"margin-right: 0.2222em;\"></span></span><span class=\"base\"><span class=\"strut\" style=\"height: 0.7278em; vertical-align: -0.0833em;\"></span><span class=\"mord\">10</span><span class=\"mspace\" style=\"margin-right: 0.2222em;\"></span><span class=\"mbin\">×</span><span class=\"mspace\" style=\"margin-right: 0.2222em;\"></span></span><span class=\"base\"><span class=\"strut\" style=\"height: 0.8889em; vertical-align: -0.1944em;\"></span><span class=\"mord mathnormal\">p</span><span class=\"mord mathnormal\">u</span><span class=\"mord mathnormal\">rc</span><span class=\"mord\"><span class=\"mord mathnormal\">h</span><span class=\"msupsub\"><span class=\"vlist-t vlist-t2\"><span class=\"vlist-r\"><span class=\"vlist\" style=\"height: 0.3361em;\"><span style=\"top: -2.55em; margin-left: 0em; margin-right: 0.05em;\"><span class=\"pstrut\" style=\"height: 2.7em;\"></span><span class=\"sizing reset-size6 size3 mtight\"><span class=\"mord mtight\"><span class=\"mord mathnormal mtight\">c</span><span class=\"mord mathnormal mtight\">t</span><span class=\"mord mathnormal mtight\" style=\"margin-right: 0.02778em;\">r</span><span class=\"mord mathnormal mtight\" style=\"margin-right: 0.01968em;\">l</span></span></span></span></span><span class=\"vlist-s\">​</span></span><span class=\"vlist-r\"><span class=\"vlist\" style=\"height: 0.15em;\"><span></span></span></span></span></span></span></span></span></span></span></p>\n",
    "<ul>\n",
    "<li><strong>How To Test Your Strategy?</strong></li>\n",
    "</ul>\n",
    "<p>When you feel like you have an optimization strategy, complete the <code>promotion_strategy</code> function to pass to the <code>test_results</code> function.<br/>\n",
    "From past data, we know there are four possible outomes:</p>\n",
    "<p>Table of actual promotion vs. predicted promotion customers:</p>\n",
    "<pre><code>            Actual\n",
    "Predicted  Yes   No\n",
    "   Yes      I    II\n",
    "   No      III   IV\n",
    "</code></pre>\n",
    "<p>The metrics are only being compared for the individuals we predict should obtain the promotion – that is, quadrants I and II.  Since the first set of individuals that receive the promotion (in the training set) receive it randomly, we can expect that quadrants I and II will have approximately equivalent participants.</p>\n",
    "<p>Comparing quadrant I to II then gives an idea of how well your promotion strategy will work in the future.</p>\n",
    "<p>Get started by reading in the data below.  See how each variable or combination of variables along with a promotion influences the chance of purchasing.  When you feel like you have a strategy for who should receive a promotion, test your strategy against the test dataset used in the final <code>test_results</code> function.</p></div>"
   ]
  },
  {
   "cell_type": "markdown",
   "id": "5f9c09ed",
   "metadata": {},
   "source": [
    "## **Data:**"
   ]
  },
  {
   "cell_type": "code",
   "execution_count": null,
   "id": "495717e5",
   "metadata": {},
   "outputs": [],
   "source": []
  },
  {
   "cell_type": "markdown",
   "id": "2d2819df",
   "metadata": {},
   "source": [
    "## **Solution:**"
   ]
  },
  {
   "cell_type": "code",
   "execution_count": null,
   "id": "6b379814",
   "metadata": {},
   "outputs": [],
   "source": []
  }
 ],
 "metadata": {},
 "nbformat": 4,
 "nbformat_minor": 5
}
