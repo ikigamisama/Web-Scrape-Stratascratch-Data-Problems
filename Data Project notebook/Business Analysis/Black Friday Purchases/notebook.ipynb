{
 "cells": [
  {
   "cell_type": "markdown",
   "id": "d31b2092",
   "metadata": {},
   "source": [
    "### **Link:** https://platform.stratascratch.com/data-projects/black-friday-purchases"
   ]
  },
  {
   "cell_type": "markdown",
   "id": "551b6c65",
   "metadata": {},
   "source": [
    "### **Difficulty:** Medium"
   ]
  },
  {
   "cell_type": "markdown",
   "id": "f1b6138b",
   "metadata": {},
   "source": [
    "# Black Friday Purchases"
   ]
  },
  {
   "cell_type": "markdown",
   "id": "306edd25",
   "metadata": {},
   "source": [
    "<div><p><em>This data project has been used as a take-home assignment in the recruitment process for the data science positions at Walmart.</em></p>\n",
    "<h2>Assignment</h2>\n",
    "<p>The Management team at Walmart Inc. wants to analyze the customer purchase behavior (specifically, purchase amount) against the customer’s gender and the various other factors to help the business make better decisions. They want to understand if the spending habits differ between male and female customers: Do women spend more on Black Friday than men?</p>\n",
    "<h2>Data Description</h2>\n",
    "<p>The company collected the transactional data of customers who purchased products from Walmart Stores during Black Friday. The dataset in <code>walmart_data.csv</code> has the following features:</p>\n",
    "<ul>\n",
    "<li><code>User_ID</code></li>\n",
    "<li><code>Product_ID</code></li>\n",
    "<li><code>Gender</code> - sex of a customer</li>\n",
    "<li><code>Age</code> - age in bins</li>\n",
    "<li><code>Occupation</code> (masked)</li>\n",
    "<li><code>City_Category</code> - category of the city [A, B, C]</li>\n",
    "<li><code>Stay_In_Current_City_Years</code>: number of years a customer stays in their current city</li>\n",
    "<li><code>Marital_Status</code></li>\n",
    "<li><code>Product_Category</code> (masked)</li>\n",
    "<li><code>Purchase</code> - purchase amount</li>\n",
    "</ul>\n",
    "<h2>Practicalities</h2>\n",
    "<p>For simplicity, you may assume that 50% of Walmart`s customer base are Male and the other 50% are Female.</p>\n",
    "<p>Analyze the provided data and provide insights to the best of your abilities. Include the relevant tables/graphs/visualization to explain what you have learned about the market. Make sure that the solution reflects your entire thought process including the preparation of data - it is more important how the code is structured rather than just the final result or plot.</p></div>"
   ]
  },
  {
   "cell_type": "markdown",
   "id": "ebe053db",
   "metadata": {},
   "source": [
    "## **Data:**"
   ]
  },
  {
   "cell_type": "code",
   "execution_count": null,
   "id": "30eed67c",
   "metadata": {},
   "outputs": [],
   "source": []
  },
  {
   "cell_type": "markdown",
   "id": "264caead",
   "metadata": {},
   "source": [
    "## **Solution:**"
   ]
  },
  {
   "cell_type": "code",
   "execution_count": null,
   "id": "3292ab44",
   "metadata": {},
   "outputs": [],
   "source": []
  }
 ],
 "metadata": {
  "language_info": {
   "name": "python"
  }
 },
 "nbformat": 4,
 "nbformat_minor": 5
}
