{
 "cells": [
  {
   "cell_type": "markdown",
   "id": "4e2e607b",
   "metadata": {},
   "source": [
    "### **Link:** https://platform.stratascratch.com/data-projects/arbitrage-algorithm"
   ]
  },
  {
   "cell_type": "markdown",
   "id": "0f3cbbab",
   "metadata": {},
   "source": [
    "### **Difficulty:** Medium"
   ]
  },
  {
   "cell_type": "markdown",
   "id": "bd500986",
   "metadata": {},
   "source": [
    "# Arbitrage Algorithm"
   ]
  },
  {
   "cell_type": "markdown",
   "id": "d692d879",
   "metadata": {},
   "source": [
    "<div><p><em>This data project has been used as a take-home assignment in the recruitment process for the data science positions at United Ideas.</em></p>\n",
    "<h2>Assignment</h2>\n",
    "<p>Based on the data provided from various sources, suggest the most effective arbitrage strategy. We assume that you start with an amount of $1000 on the first day mentioned in the files (April 27). Your goal is to have the highest possible amount at the end (May 28) of the data period.</p>\n",
    "<p>The method of solving this task is arbitrary, you can use absolutely anything.</p>\n",
    "<p><strong>Key terms</strong></p>\n",
    "<ul>\n",
    "<li>Arbitrage - buying in one place cheaper and selling in another, simultaneously; Learn more:\n",
    "<ul>\n",
    "<li><a href=\"https://en.wikipedia.org/wiki/Arbitrage\">https://en.wikipedia.org/wiki/Arbitrage</a></li>\n",
    "<li><a href=\"https://money.howstuffworks.com/personal-finance/financial-planning/arbitrage.htm\">https://money.howstuffworks.com/personal-finance/financial-planning/arbitrage.htm</a></li>\n",
    "<li><a href=\"https://youtu.be/AuCH7fHZsZ4\">https://youtu.be/AuCH7fHZsZ4</a></li>\n",
    "</ul>\n",
    "</li>\n",
    "<li>Bid - this is the price at which sell orders are opened and buy orders are closed;</li>\n",
    "<li>Ask - this is the price at which buy trades are opened and sell trades are closed;</li>\n",
    "<li>Spread - this is the difference between the bid price and the ask price;</li>\n",
    "<li>Long - when we buy something, expecting the price to rise;</li>\n",
    "<li>Short - when we sell something, expecting the price to fall;</li>\n",
    "<li>Short Selling - selling something we don't have - a type of stock market transaction that allows us to make money on a decline. In practice, it consists of the fact that we borrow and bet on a decline; Learn more: <a href=\"https://www.investopedia.com/terms/s/shortselling.asp\">https://www.investopedia.com/terms/s/shortselling.asp</a></li>\n",
    "</ul>\n",
    "<p>Important info: This distinction is of great importance for the settlement of transactions. Note that when buying an instrument (opening a long position), the transaction will be concluded at the Ask (higher) price. The conclusion of a sell transaction is always at the Bid price. Closing a long position is done at the Bid price, while a short position is closed at the Ask price.</p>\n",
    "<p><strong>Algorithm of arbitrage</strong></p>\n",
    "<p>TL;DR: Arbitrage is about buying cheaper and selling more expensive</p>\n",
    "<ol>\n",
    "<li>Suppose we have such an initial state:\n",
    "<ul>\n",
    "<li>$1000 at our disposal,</li>\n",
    "<li>0 kg of apples;</li>\n",
    "</ul>\n",
    "</li>\n",
    "<li>To simplify the subject, we assume that we can do short selling of apples;</li>\n",
    "<li>At some point of observing the rates, we notice that:\n",
    "<ul>\n",
    "<li>At Market 1: Apples have a sell (ask) rate of <span class=\"math math-inline\"><span class=\"katex\"><span class=\"katex-mathml\"><math xmlns=\"http://www.w3.org/1998/Math/MathML\"><semantics><mrow><mn>1.39297</mn><mi>a</mi><mi>n</mi><mi>d</mi><mi>a</mi><mi>b</mi><mi>u</mi><mi>y</mi><mo stretchy=\"false\">(</mo><mi>b</mi><mi>i</mi><mi>d</mi><mo stretchy=\"false\">)</mo><mi>r</mi><mi>a</mi><mi>t</mi><mi>e</mi><mi>o</mi><mi>f</mi></mrow><annotation encoding=\"application/x-tex\">1.39297 and a buy (bid) rate of </annotation></semantics></math></span><span aria-hidden=\"true\" class=\"katex-html\"><span class=\"base\"><span class=\"strut\" style=\"height: 1em; vertical-align: -0.25em;\"></span><span class=\"mord\">1.39297</span><span class=\"mord mathnormal\">an</span><span class=\"mord mathnormal\">d</span><span class=\"mord mathnormal\">ab</span><span class=\"mord mathnormal\">u</span><span class=\"mord mathnormal\" style=\"margin-right: 0.03588em;\">y</span><span class=\"mopen\">(</span><span class=\"mord mathnormal\">bi</span><span class=\"mord mathnormal\">d</span><span class=\"mclose\">)</span><span class=\"mord mathnormal\" style=\"margin-right: 0.02778em;\">r</span><span class=\"mord mathnormal\">a</span><span class=\"mord mathnormal\">t</span><span class=\"mord mathnormal\">eo</span><span class=\"mord mathnormal\" style=\"margin-right: 0.10764em;\">f</span></span></span></span></span>1.39279 (given rates per kilo of apples),</li>\n",
    "<li>At Market 2: Apples have a selling rate (ask) of <span class=\"math math-inline\"><span class=\"katex\"><span class=\"katex-mathml\"><math xmlns=\"http://www.w3.org/1998/Math/MathML\"><semantics><mrow><mn>1.38297</mn><mi>a</mi><mi>n</mi><mi>d</mi><mi>a</mi><mi>b</mi><mi>u</mi><mi>y</mi><mi>i</mi><mi>n</mi><mi>g</mi><mi>r</mi><mi>a</mi><mi>t</mi><mi>e</mi><mo stretchy=\"false\">(</mo><mi>b</mi><mi>i</mi><mi>d</mi><mo stretchy=\"false\">)</mo><mi>o</mi><mi>f</mi></mrow><annotation encoding=\"application/x-tex\">1.38297 and a buying rate (bid) of </annotation></semantics></math></span><span aria-hidden=\"true\" class=\"katex-html\"><span class=\"base\"><span class=\"strut\" style=\"height: 1em; vertical-align: -0.25em;\"></span><span class=\"mord\">1.38297</span><span class=\"mord mathnormal\">an</span><span class=\"mord mathnormal\">d</span><span class=\"mord mathnormal\">ab</span><span class=\"mord mathnormal\">u</span><span class=\"mord mathnormal\" style=\"margin-right: 0.03588em;\">y</span><span class=\"mord mathnormal\">in</span><span class=\"mord mathnormal\" style=\"margin-right: 0.03588em;\">g</span><span class=\"mord mathnormal\" style=\"margin-right: 0.02778em;\">r</span><span class=\"mord mathnormal\">a</span><span class=\"mord mathnormal\">t</span><span class=\"mord mathnormal\">e</span><span class=\"mopen\">(</span><span class=\"mord mathnormal\">bi</span><span class=\"mord mathnormal\">d</span><span class=\"mclose\">)</span><span class=\"mord mathnormal\">o</span><span class=\"mord mathnormal\" style=\"margin-right: 0.10764em;\">f</span></span></span></span></span>1.38279 (given rates per kilo of apples);</li>\n",
    "</ul>\n",
    "</li>\n",
    "<li>It looks like we can buy at Market 2 cheaper and sell at Market 1 more expensive; for simplicity's sake we assume at this point that there is a certain rate difference at which we will open a transaction at all, let's call it X - a smaller \"spread\" than X doesn't interest us, and we won't consider it an opportunity worth stooping for at all;</li>\n",
    "<li>In this case, we open two transactions simultaneously:\n",
    "<ul>\n",
    "<li>We open for the amount of $500 a buy (long) transaction on Market 2,</li>\n",
    "<li>We open for the amount of $500 a sell (short) transaction on Market 1;</li>\n",
    "</ul>\n",
    "</li>\n",
    "<li>At this point, we have theoretically earned, but after opening both transactions:\n",
    "<ul>\n",
    "<li>We have (virtual) apples on Market 2 - as much as we managed to buy for $500,</li>\n",
    "<li>We have (virtual) dollars at Market 1 - here we made a short sale, so we have to \"sell\" as many kilograms of apples as we bought at Market 2 for dollars;</li>\n",
    "</ul>\n",
    "</li>\n",
    "<li>At this point, we are in the process of arbitrage, but we need to return to the initial state, that is, to have dollars again and not contracts for dollars and short contracts for apples;</li>\n",
    "<li>So we wait for the next opportunity until the rates swing again by some reasonable range (because a smaller one would not interest us at all), let's call it Y;</li>\n",
    "<li>We then close transactions on both markets, so we are back with dollars in hand and no apples;</li>\n",
    "<li>Let's assume that we made <span class=\"math math-inline\"><span class=\"katex\"><span class=\"katex-mathml\"><math xmlns=\"http://www.w3.org/1998/Math/MathML\"><semantics><mrow><mn>100</mn><mi>d</mi><mi>o</mi><mi>l</mi><mi>l</mi><mi>a</mi><mi>r</mi><mi>s</mi><mi>o</mi><mi>n</mi><mi>t</mi><mi>h</mi><mi>i</mi><mi>s</mi><mi>t</mi><mi>r</mi><mi>a</mi><mi>n</mi><mi>s</mi><mi>a</mi><mi>c</mi><mi>t</mi><mi>i</mi><mi>o</mi><mi>n</mi><mo stretchy=\"false\">(</mo><mi>s</mi><mi>u</mi><mi>c</mi><mi>h</mi><mi>w</mi><mi>e</mi><mi>r</mi><mi>e</mi><mi>t</mi><mi>h</mi><mi>e</mi><mi>d</mi><mi>i</mi><mi>f</mi><mi>f</mi><mi>e</mi><mi>r</mi><mi>e</mi><mi>n</mi><mi>c</mi><mi>e</mi><mi>s</mi><mo stretchy=\"false\">)</mo><mo separator=\"true\">,</mo><mi>i</mi><mi>n</mi><mi>w</mi><mi>h</mi><mi>i</mi><mi>c</mi><mi>h</mi><mi>c</mi><mi>a</mi><mi>s</mi><mi>e</mi><mi>w</mi><mi>e</mi><mi>h</mi><mi>a</mi><mi>v</mi><mi>e</mi></mrow><annotation encoding=\"application/x-tex\">100 dollars on this transaction (such were the differences), in which case we have </annotation></semantics></math></span><span aria-hidden=\"true\" class=\"katex-html\"><span class=\"base\"><span class=\"strut\" style=\"height: 1em; vertical-align: -0.25em;\"></span><span class=\"mord\">100</span><span class=\"mord mathnormal\">d</span><span class=\"mord mathnormal\">o</span><span class=\"mord mathnormal\" style=\"margin-right: 0.01968em;\">ll</span><span class=\"mord mathnormal\">a</span><span class=\"mord mathnormal\">rso</span><span class=\"mord mathnormal\">n</span><span class=\"mord mathnormal\">t</span><span class=\"mord mathnormal\">hi</span><span class=\"mord mathnormal\">s</span><span class=\"mord mathnormal\">t</span><span class=\"mord mathnormal\" style=\"margin-right: 0.02778em;\">r</span><span class=\"mord mathnormal\">an</span><span class=\"mord mathnormal\">s</span><span class=\"mord mathnormal\">a</span><span class=\"mord mathnormal\">c</span><span class=\"mord mathnormal\">t</span><span class=\"mord mathnormal\">i</span><span class=\"mord mathnormal\">o</span><span class=\"mord mathnormal\">n</span><span class=\"mopen\">(</span><span class=\"mord mathnormal\">s</span><span class=\"mord mathnormal\">u</span><span class=\"mord mathnormal\">c</span><span class=\"mord mathnormal\">h</span><span class=\"mord mathnormal\" style=\"margin-right: 0.02691em;\">w</span><span class=\"mord mathnormal\">ere</span><span class=\"mord mathnormal\">t</span><span class=\"mord mathnormal\">h</span><span class=\"mord mathnormal\">e</span><span class=\"mord mathnormal\">d</span><span class=\"mord mathnormal\">i</span><span class=\"mord mathnormal\" style=\"margin-right: 0.10764em;\">ff</span><span class=\"mord mathnormal\">ere</span><span class=\"mord mathnormal\">n</span><span class=\"mord mathnormal\">ces</span><span class=\"mclose\">)</span><span class=\"mpunct\">,</span><span class=\"mspace\" style=\"margin-right: 0.1667em;\"></span><span class=\"mord mathnormal\">in</span><span class=\"mord mathnormal\" style=\"margin-right: 0.02691em;\">w</span><span class=\"mord mathnormal\">hi</span><span class=\"mord mathnormal\">c</span><span class=\"mord mathnormal\">h</span><span class=\"mord mathnormal\">c</span><span class=\"mord mathnormal\">a</span><span class=\"mord mathnormal\">se</span><span class=\"mord mathnormal\" style=\"margin-right: 0.02691em;\">w</span><span class=\"mord mathnormal\">e</span><span class=\"mord mathnormal\">ha</span><span class=\"mord mathnormal\" style=\"margin-right: 0.03588em;\">v</span><span class=\"mord mathnormal\">e</span></span></span></span></span>1100 in our account;</li>\n",
    "<li>We can wait for the next opportunities</li>\n",
    "</ol>\n",
    "<h2>Data Description</h2>\n",
    "<p>CSV files are attached to this task. They contain apple rates from 7 markets. Each file shows how the bid and ask rates change in time for a specific market.</p>\n",
    "<h2>Practicalities</h2>\n",
    "<ol>\n",
    "<li>Date ranges in files do not always coincide, some markets do not work continuously;</li>\n",
    "<li>You can optimize at least these parameters:\n",
    "<ul>\n",
    "<li>Amount of capital used for buying/selling,</li>\n",
    "<li>Minimum spread for opening transactions,</li>\n",
    "<li>Minimum spread for closing transactions,</li>\n",
    "<li>Maximum time when we have an open transaction - when there is no opportunity for closing, and so we close positions to be able to open further transactions,</li>\n",
    "<li>Allocation of capital between markets - some pairs of them generate larger opportunities among themselves, some smaller,</li>\n",
    "<li>And of course others according to your creativity :-)</li>\n",
    "</ul>\n",
    "</li>\n",
    "<li>Remember that <span class=\"math math-inline\"><span class=\"katex\"><span class=\"katex-mathml\"><math xmlns=\"http://www.w3.org/1998/Math/MathML\"><semantics><mrow><mn>1000</mn><mo stretchy=\"false\">(</mo><mi>o</mi><mi>r</mi><mi>a</mi><mi>n</mi><mi>y</mi><mi>o</mi><mi>t</mi><mi>h</mi><mi>e</mi><mi>r</mi><mi>a</mi><mi>m</mi><mi>o</mi><mi>u</mi><mi>n</mi><mi>t</mi><mi>o</mi><mi>f</mi><mi>c</mi><mi>a</mi><mi>p</mi><mi>i</mi><mi>t</mi><mi>a</mi><mi>l</mi><mi>y</mi><mi>o</mi><mi>u</mi><mi>h</mi><mi>a</mi><mi>v</mi><mi>e</mi><mo stretchy=\"false\">)</mo><mi>m</mi><mi>u</mi><mi>s</mi><mi>t</mi><mi>b</mi><mi>e</mi><mi>d</mi><mi>i</mi><mi>v</mi><mi>i</mi><mi>d</mi><mi>e</mi><mi>d</mi><mi>b</mi><mi>e</mi><mi>t</mi><mi>w</mi><mi>e</mi><mi>e</mi><mi>n</mi><mi>t</mi><mi>h</mi><mi>e</mi><mi>m</mi><mi>a</mi><mi>r</mi><mi>k</mi><mi>e</mi><mi>t</mi><mi>s</mi><mo>−</mo><mi>y</mi><mi>o</mi><mi>u</mi><mi>c</mi><mi>a</mi><msup><mi>n</mi><mo lspace=\"0em\" mathvariant=\"normal\" rspace=\"0em\">′</mo></msup><mi>t</mi><mi>g</mi><mi>o</mi><mi>t</mi><mi>o</mi><mi>t</mi><mi>w</mi><mi>o</mi><mi>m</mi><mi>a</mi><mi>r</mi><mi>k</mi><mi>e</mi><mi>t</mi><mi>s</mi><mi>a</mi><mi>t</mi><mi>t</mi><mi>h</mi><mi>e</mi><mi>s</mi><mi>a</mi><mi>m</mi><mi>e</mi><mi>t</mi><mi>i</mi><mi>m</mi><mi>e</mi><mi>w</mi><mi>i</mi><mi>t</mi><mi>h</mi></mrow><annotation encoding=\"application/x-tex\">1000 (or any other amount of capital you have) must be divided between the markets - you can't go to two markets at the same time with </annotation></semantics></math></span><span aria-hidden=\"true\" class=\"katex-html\"><span class=\"base\"><span class=\"strut\" style=\"height: 1em; vertical-align: -0.25em;\"></span><span class=\"mord\">1000</span><span class=\"mopen\">(</span><span class=\"mord mathnormal\" style=\"margin-right: 0.02778em;\">or</span><span class=\"mord mathnormal\">an</span><span class=\"mord mathnormal\">yo</span><span class=\"mord mathnormal\">t</span><span class=\"mord mathnormal\">h</span><span class=\"mord mathnormal\" style=\"margin-right: 0.02778em;\">er</span><span class=\"mord mathnormal\">am</span><span class=\"mord mathnormal\">o</span><span class=\"mord mathnormal\">u</span><span class=\"mord mathnormal\">n</span><span class=\"mord mathnormal\">t</span><span class=\"mord mathnormal\">o</span><span class=\"mord mathnormal\" style=\"margin-right: 0.10764em;\">f</span><span class=\"mord mathnormal\">c</span><span class=\"mord mathnormal\">a</span><span class=\"mord mathnormal\">p</span><span class=\"mord mathnormal\">i</span><span class=\"mord mathnormal\">t</span><span class=\"mord mathnormal\">a</span><span class=\"mord mathnormal\" style=\"margin-right: 0.01968em;\">l</span><span class=\"mord mathnormal\">yo</span><span class=\"mord mathnormal\">u</span><span class=\"mord mathnormal\">ha</span><span class=\"mord mathnormal\" style=\"margin-right: 0.03588em;\">v</span><span class=\"mord mathnormal\">e</span><span class=\"mclose\">)</span><span class=\"mord mathnormal\">m</span><span class=\"mord mathnormal\">u</span><span class=\"mord mathnormal\">s</span><span class=\"mord mathnormal\">t</span><span class=\"mord mathnormal\">b</span><span class=\"mord mathnormal\">e</span><span class=\"mord mathnormal\">d</span><span class=\"mord mathnormal\">i</span><span class=\"mord mathnormal\" style=\"margin-right: 0.03588em;\">v</span><span class=\"mord mathnormal\">i</span><span class=\"mord mathnormal\">d</span><span class=\"mord mathnormal\">e</span><span class=\"mord mathnormal\">d</span><span class=\"mord mathnormal\">b</span><span class=\"mord mathnormal\">e</span><span class=\"mord mathnormal\" style=\"margin-right: 0.02691em;\">tw</span><span class=\"mord mathnormal\">ee</span><span class=\"mord mathnormal\">n</span><span class=\"mord mathnormal\">t</span><span class=\"mord mathnormal\">h</span><span class=\"mord mathnormal\">e</span><span class=\"mord mathnormal\">ma</span><span class=\"mord mathnormal\" style=\"margin-right: 0.02778em;\">r</span><span class=\"mord mathnormal\" style=\"margin-right: 0.03148em;\">k</span><span class=\"mord mathnormal\">e</span><span class=\"mord mathnormal\">t</span><span class=\"mord mathnormal\">s</span><span class=\"mspace\" style=\"margin-right: 0.2222em;\"></span><span class=\"mbin\">−</span><span class=\"mspace\" style=\"margin-right: 0.2222em;\"></span></span><span class=\"base\"><span class=\"strut\" style=\"height: 0.9463em; vertical-align: -0.1944em;\"></span><span class=\"mord mathnormal\">yo</span><span class=\"mord mathnormal\">u</span><span class=\"mord mathnormal\">c</span><span class=\"mord mathnormal\">a</span><span class=\"mord\"><span class=\"mord mathnormal\">n</span><span class=\"msupsub\"><span class=\"vlist-t\"><span class=\"vlist-r\"><span class=\"vlist\" style=\"height: 0.7519em;\"><span style=\"top: -3.063em; margin-right: 0.05em;\"><span class=\"pstrut\" style=\"height: 2.7em;\"></span><span class=\"sizing reset-size6 size3 mtight\"><span class=\"mord mtight\"><span class=\"mord mtight\">′</span></span></span></span></span></span></span></span></span><span class=\"mord mathnormal\">t</span><span class=\"mord mathnormal\" style=\"margin-right: 0.03588em;\">g</span><span class=\"mord mathnormal\">o</span><span class=\"mord mathnormal\">t</span><span class=\"mord mathnormal\">o</span><span class=\"mord mathnormal\" style=\"margin-right: 0.02691em;\">tw</span><span class=\"mord mathnormal\">o</span><span class=\"mord mathnormal\">ma</span><span class=\"mord mathnormal\" style=\"margin-right: 0.02778em;\">r</span><span class=\"mord mathnormal\" style=\"margin-right: 0.03148em;\">k</span><span class=\"mord mathnormal\">e</span><span class=\"mord mathnormal\">t</span><span class=\"mord mathnormal\">s</span><span class=\"mord mathnormal\">a</span><span class=\"mord mathnormal\">tt</span><span class=\"mord mathnormal\">h</span><span class=\"mord mathnormal\">es</span><span class=\"mord mathnormal\">am</span><span class=\"mord mathnormal\">e</span><span class=\"mord mathnormal\">t</span><span class=\"mord mathnormal\">im</span><span class=\"mord mathnormal\">e</span><span class=\"mord mathnormal\" style=\"margin-right: 0.02691em;\">w</span><span class=\"mord mathnormal\">i</span><span class=\"mord mathnormal\">t</span><span class=\"mord mathnormal\">h</span></span></span></span></span>1000 and make the same money buying and selling, with two markets you have to divide it by $500;</li>\n",
    "</ol></div>"
   ]
  },
  {
   "cell_type": "markdown",
   "id": "8e944234",
   "metadata": {},
   "source": [
    "## **Data:**"
   ]
  },
  {
   "cell_type": "code",
   "execution_count": null,
   "id": "2ed739a2",
   "metadata": {},
   "outputs": [],
   "source": []
  },
  {
   "cell_type": "markdown",
   "id": "81134d5d",
   "metadata": {},
   "source": [
    "## **Solution:**"
   ]
  },
  {
   "cell_type": "code",
   "execution_count": null,
   "id": "b4b1c23d",
   "metadata": {},
   "outputs": [],
   "source": []
  }
 ],
 "metadata": {},
 "nbformat": 4,
 "nbformat_minor": 5
}
