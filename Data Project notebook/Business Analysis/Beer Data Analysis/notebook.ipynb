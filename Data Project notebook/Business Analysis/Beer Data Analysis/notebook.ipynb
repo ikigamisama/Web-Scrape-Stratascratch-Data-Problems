{
 "cells": [
  {
   "cell_type": "markdown",
   "id": "9dcd280f",
   "metadata": {},
   "source": [
    "### **Link:** https://platform.stratascratch.com/data-projects/beer-data-analysis"
   ]
  },
  {
   "cell_type": "markdown",
   "id": "81659262",
   "metadata": {},
   "source": [
    "### **Difficulty:** Easy"
   ]
  },
  {
   "cell_type": "markdown",
   "id": "040f55a6",
   "metadata": {},
   "source": [
    "# Beer Data Analysis"
   ]
  },
  {
   "cell_type": "markdown",
   "id": "f54d64b9",
   "metadata": {},
   "source": [
    "<div><p><em>This data project has been used as a take-home assignment in the recruitment process for the data science positions at Evolent Health.</em></p>\n",
    "<h2>Assignment</h2>\n",
    "<p>In this assignment you will work with a beer data set. Please provide an answer to the questions below. Answer as many questions as possible:</p>\n",
    "<ol>\n",
    "<li>Rank the top 3 breweries which produce the strongest beers.</li>\n",
    "<li>Which year did beers enjoy the highest ratings?</li>\n",
    "<li>Based on the users' ratings, which factors are important among taste, aroma,\n",
    "appearance, and palette?</li>\n",
    "<li>If you were to recommend 3 beers to your friends based on this data, which\n",
    "ones would you recommend?</li>\n",
    "<li>Which beer style seems to be the favourite based on the reviews written by users?\n",
    "How does written reviews compare to overall review score for the beer style?</li>\n",
    "</ol>\n",
    "<h2>Data Description</h2>\n",
    "<p>The provided compressed file <code>BeerDataScienceProject.tar.bz2</code> contains data about beers and their reviews. It has the following columns:</p>\n",
    "<ul>\n",
    "<li><code>beer_ABV</code> - alcohol by volume</li>\n",
    "<li><code>beer_beerId</code> - beer ID</li>\n",
    "<li><code>beer_brewerId</code> - beer brewer ID</li>\n",
    "<li><code>beer_name</code> - beer name</li>\n",
    "<li><code>beer_style</code> - beer style</li>\n",
    "<li><code>review_appearance</code> - review on the beer's appearance</li>\n",
    "<li><code>review_palette</code> - review on the beer's palette (colours)</li>\n",
    "<li><code>review_overall</code> - overall beer review</li>\n",
    "<li><code>review_taste</code> - review on the beer's taste</li>\n",
    "<li><code>review_profileName</code> - profile name of the reviewer</li>\n",
    "<li><code>review_aroma</code> - review on the beer's aroma</li>\n",
    "<li><code>review_text</code> - the full text of the review</li>\n",
    "<li><code>review_time</code> - timestamp when the review was made</li>\n",
    "</ul>\n",
    "<h3>Hint</h3>\n",
    "<p>The provided <code>.tar.bz2</code> file is a compressed CSV file. Its contents can be loaded to a Pandas DataFrame using the <code>read_csv()</code> method from the Pandas library as follows:</p>\n",
    "<pre><code>df = pd.read_csv(\"BeerDataScienceProject.tar.bz2\", compression=\"bz2\")\n",
    "</code></pre>\n",
    "<h2>Practicalities</h2>\n",
    "<p>You will need to provide a Jupyter Notebook that describes your approach as a result of this task. When you submit your answers, please also include the code you used to answer the questions  with proper commenting and documentation. It should be clear how one can reproduce your results. Make sure that you include all plots you created to complete the project and explain your results.</p></div>"
   ]
  },
  {
   "cell_type": "markdown",
   "id": "b480962c",
   "metadata": {},
   "source": [
    "## **Data:**"
   ]
  },
  {
   "cell_type": "code",
   "execution_count": null,
   "id": "503513a2",
   "metadata": {},
   "outputs": [],
   "source": []
  },
  {
   "cell_type": "markdown",
   "id": "02566710",
   "metadata": {},
   "source": [
    "## **Solution:**"
   ]
  },
  {
   "cell_type": "code",
   "execution_count": null,
   "id": "8c385354",
   "metadata": {},
   "outputs": [],
   "source": []
  }
 ],
 "metadata": {},
 "nbformat": 4,
 "nbformat_minor": 5
}
