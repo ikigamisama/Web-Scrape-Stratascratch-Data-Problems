{
 "cells": [
  {
   "cell_type": "markdown",
   "id": "46d1c306",
   "metadata": {},
   "source": [
    "### **Link:** https://platform.stratascratch.com/data-projects/delivery-market-modeling"
   ]
  },
  {
   "cell_type": "markdown",
   "id": "55856ab4",
   "metadata": {},
   "source": [
    "### **Difficulty:** Medium"
   ]
  },
  {
   "cell_type": "markdown",
   "id": "d854e32f",
   "metadata": {},
   "source": [
    "# Delivery Market Modeling"
   ]
  },
  {
   "cell_type": "markdown",
   "id": "73035b09",
   "metadata": {},
   "source": [
    "<div><p><em>This data project has been used as a take-home assignment in the recruitment process for the data science positions at Delhivery.</em></p>\n",
    "<p>Delhivery is the largest and fastest-growing fully integrated player in India by revenue in Fiscal 2021. They aim to build the operating system for commerce, through a combination of world-class infrastructure, logistics operations of the highest quality, and cutting-edge engineering and technology capabilities.</p>\n",
    "<h2>Assignment</h2>\n",
    "<p>The Data team builds intelligence and capabilities using this data that helps them to widen the gap between the quality, efficiency, and profitability of their business versus their competitors.</p>\n",
    "<p>The company wants to understand and process the data coming out of data engineering pipelines:</p>\n",
    "<ul>\n",
    "<li>Clean, sanitize and manipulate data to get useful features out of raw fields;</li>\n",
    "<li>Make sense of the raw data and help the data science team to build forecasting models on it.</li>\n",
    "</ul>\n",
    "<h2>Data Description</h2>\n",
    "<p><code>delhivery_data.csv</code> contains records of deliveries prepared by the data engineering department for modeling and has the following columns:</p>\n",
    "<ul>\n",
    "<li><code>data</code> – tells whether the data is testing or training data</li>\n",
    "<li><code>trip_creation_time</code> – Timestamp of trip creation</li>\n",
    "<li><code>route_schedule_uuid</code> – unique Id for a particular route schedule</li>\n",
    "<li><code>route_type</code> – transportation type:\n",
    "<ul>\n",
    "<li><code>FTL</code> – Full Truck Load: FTL shipments get to the destination sooner, as the truck is making no other pickups or drop-offs along the way</li>\n",
    "<li><code>Carting</code> – handling system consisting of small vehicles (carts)</li>\n",
    "</ul>\n",
    "</li>\n",
    "<li><code>trip_uuid</code> - unique ID given to a particular trip (A trip may include different source and destination centers)</li>\n",
    "<li><code>source_center</code> – ID of a trip origin point</li>\n",
    "<li><code>source_name</code> – the name of a trip origin point</li>\n",
    "<li><code>destination_center</code> – destination ID</li>\n",
    "<li><code>destination_name</code> – destination Name</li>\n",
    "<li><code>od_start_time</code> – trip start time</li>\n",
    "<li><code>od_end_time</code> – trip end time</li>\n",
    "<li><code>start_scan_to_end_scan</code> – time taken to deliver from source to destination</li>\n",
    "<li><code>is_cutoff</code> – unknown field</li>\n",
    "<li><code>cutoff_factor</code> – unknown field</li>\n",
    "<li><code>cutoff_timestamp</code> – unknown field</li>\n",
    "<li><code>actual_distance_to_destination</code> – the distance in kilometers between the source and destination</li>\n",
    "<li><code>actual_time</code> – actual time taken to complete the delivery (cumulative)</li>\n",
    "<li><code>osrm_time</code> – an open-source routing engine time calculator which computes the shortest path between points in a given map (given usual traffic) and gives the time estimate (cumulative)</li>\n",
    "<li><code>osrm_distance</code> – an open-source routing engine that computes the distance of the shortest path between points in a given map (cumulative)</li>\n",
    "<li><code>factor</code> – unknown field</li>\n",
    "<li><code>segment_actual_time</code> – time taken by a segment of the package delivery</li>\n",
    "<li><code>segment_osrm_time</code> – the OSRM segment time</li>\n",
    "<li><code>segment_osrm_distance</code> – the OSRM distance for a segment</li>\n",
    "<li><code>segment_factor</code> – unknown field</li>\n",
    "</ul>\n",
    "<h2>Practicalities</h2>\n",
    "<p>Analyze the provided data and provide insights to the best of your abilities. Use statistical tests to support your claims. Include the relevant tables/graphs/visualization to explain what you have learned about the market. Make sure that the solution reflects your entire thought process including the preparation of data - it is more important how the code is structured rather than just the final result or plot.</p></div>"
   ]
  },
  {
   "cell_type": "markdown",
   "id": "d0fa1280",
   "metadata": {},
   "source": [
    "## **Data:**"
   ]
  },
  {
   "cell_type": "code",
   "execution_count": null,
   "id": "888aff77",
   "metadata": {},
   "outputs": [],
   "source": []
  },
  {
   "cell_type": "markdown",
   "id": "abe2079e",
   "metadata": {},
   "source": [
    "## **Solution:**"
   ]
  },
  {
   "cell_type": "code",
   "execution_count": null,
   "id": "72b43d86",
   "metadata": {},
   "outputs": [],
   "source": []
  }
 ],
 "metadata": {},
 "nbformat": 4,
 "nbformat_minor": 5
}
