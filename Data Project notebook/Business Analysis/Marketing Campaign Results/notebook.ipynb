{
 "cells": [
  {
   "cell_type": "markdown",
   "id": "dc839eb9",
   "metadata": {},
   "source": [
    "### **Link:** https://platform.stratascratch.com/data-projects/marketing-campaign-results"
   ]
  },
  {
   "cell_type": "markdown",
   "id": "adcd94ce",
   "metadata": {},
   "source": [
    "### **Difficulty:** Medium"
   ]
  },
  {
   "cell_type": "markdown",
   "id": "658b7c43",
   "metadata": {},
   "source": [
    "# Marketing Campaign Results"
   ]
  },
  {
   "cell_type": "markdown",
   "id": "d86b8033",
   "metadata": {},
   "source": [
    "<div><p><em>This data project has been used as a take-home assignment in the recruitment process for the data science positions at Freedom Debt Relief.</em></p>\n",
    "<p>Freedom Debt Relief’s customers are people who have a substantial amount of debt and because of an unexpected hardship, are no longer able to make their minimum monthly payments. Upon enrolling in Freedom’s Debt Relief program, customers cease making payments to their creditors and instead make deposits they can afford into a new dedicated bank account with Freedom. Freedom uses these funds to negotiate with each of the client’s creditors to settle the debt, typically at only a fraction of what was originally owed. Once a settlement has been agreed upon for an individual account, Freedom facilitates payments from the dedicated bank account to the creditor based on the terms of the settlement agreement. Freedom then collects fees from the client for the individual account that was settled. Freedom earns fees for each account it successfully negotiates a settlement agreement. The number of settlement agreements Freedom can negotiate is proportional to the monthly deposited amount. Assume industry statistics for any analysis input that you would want to use that is not provided here, including but not limited to fee percentage Freedom would collect along with ongoing cost per client between initial enrollment and program graduation.</p>\n",
    "<h2>Assignment</h2>\n",
    "<p>Imagine that Freedom ran a recent marketing campaign to promote the value proposition of how the debt relief program helps people achieve financial freedom. Assume the cost of this campaign was $5 million. There are five months of data in the datasets provided. Let’s say campaign took place over the course of the third month. You now want to show the marketing, sales and operations teams just how successful this campaign was.</p>\n",
    "<p>Using the three datasets given:</p>\n",
    "<ol>\n",
    "<li>Provide a quantitative assessment of whether the marketing campaign was successful. How and why did you choose your specific success metric(s)?</li>\n",
    "<li>Based on the provided data, how would you recommend campaign strategy be adjusted in the future to improve performance?</li>\n",
    "<li>How do you think campaign performance would have changed if we did not run the campaign in Month 3, but instead postponed it until month 6? Provide an incremental number versus your result in Question #1.</li>\n",
    "</ol>\n",
    "<h2>Data Description</h2>\n",
    "<p>Attached you will find three files with the data you will need to complete the analysis.</p>\n",
    "<p><code>client_data.csv</code>: You will find data specific to fictional clients</p>\n",
    "<ul>\n",
    "<li><code>client_id</code>: Randomly generated unique surrogate identifier for a client</li>\n",
    "<li><code>client_geographical_region</code>: Client geographical location in relation to U.S. Census definitions</li>\n",
    "<li><code>client_residence_status</code>: Client residence status in relation to whether they rent or own</li>\n",
    "<li><code>client_age</code>: Client age in relation to date of birth</li>\n",
    "</ul>\n",
    "<p><code>deposit_data.csv</code>: You will find data specific to the client deposit behavior</p>\n",
    "<ul>\n",
    "<li><code>client_id</code>: Randomly generated unique surrogate identifier for a client</li>\n",
    "<li><code>deposit_type</code>: Delineates whether a client deposit is the scheduled record or actual record</li>\n",
    "<li><code>deposit_amount</code>: Client deposit amount to the dedicated bank account with Freedom</li>\n",
    "<li><code>deposit_cadence</code>: Timing and pattern of client deposit activity</li>\n",
    "<li><code>deposit_date</code>: Deposit date for deposit type</li>\n",
    "</ul>\n",
    "<p><code>calendar_data.csv</code>:  This is a calendar reference table</p>\n",
    "<ul>\n",
    "<li><code>gregorian_date</code>: This date aligns with the Gregorian calendar</li>\n",
    "<li><code>month_name</code>: These are the designated months in the case study\n",
    "<ul>\n",
    "<li>Month 1 and 2 are pre-campaign</li>\n",
    "<li>Month 3 is the campaign</li>\n",
    "<li>Month 4 and 5 are post-campaign</li>\n",
    "</ul>\n",
    "</li>\n",
    "</ul>\n",
    "<p><em>Note:  These datasets were created for this analytical exercise and are only intended to be used to assess the critical thinking and technical abilities of interview candidates.  This data purposely does not reflect actual client or deposit information.  No inferences should be made from this information in regard to Freedom’s client base, deposit activity, company size or company growth trajectory.</em></p>\n",
    "<h2>Practicalities</h2>\n",
    "<p>You are free to use any tool or means you would like to highlight your abilities, but we would like to see something more advanced than Excel pivot tables, for example. Not only your ability to provide the correct results is important, but also how you decide to visualize and explain your results.</p>\n",
    "<p>Assume the following:</p>\n",
    "<ul>\n",
    "<li>There is no seasonality in the results, and the campaign spend was distributed evenly across Month 3 (i.e., spend on the first day is the same as spend on the last day).</li>\n",
    "<li>Channel mix, targeting, and efficiency are outside the scope of this exercise, but you may address it after answering the 3 questions.</li>\n",
    "<li>There may be data provided that is not useful in your analysis.</li>\n",
    "</ul>\n",
    "<h2>Resources</h2>\n",
    "<ul>\n",
    "<li><a href=\"https://youtu.be/sVdNVgtpkD4\">Video walkthrough of the solution</a></li>\n",
    "</ul></div>"
   ]
  },
  {
   "cell_type": "markdown",
   "id": "e7e78a69",
   "metadata": {},
   "source": [
    "## **Data:**"
   ]
  },
  {
   "cell_type": "code",
   "execution_count": null,
   "id": "5d1dac58",
   "metadata": {},
   "outputs": [],
   "source": []
  },
  {
   "cell_type": "markdown",
   "id": "015c70da",
   "metadata": {},
   "source": [
    "## **Solution:**"
   ]
  },
  {
   "cell_type": "code",
   "execution_count": null,
   "id": "b29051a3",
   "metadata": {},
   "outputs": [],
   "source": []
  }
 ],
 "metadata": {},
 "nbformat": 4,
 "nbformat_minor": 5
}
