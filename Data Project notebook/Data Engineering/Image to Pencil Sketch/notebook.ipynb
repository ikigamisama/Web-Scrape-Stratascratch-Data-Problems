{
 "cells": [
  {
   "cell_type": "markdown",
   "id": "546b893c",
   "metadata": {},
   "source": [
    "### **Link:** https://platform.stratascratch.com/data-projects/image-pencil-sketch"
   ]
  },
  {
   "cell_type": "markdown",
   "id": "08cc4dc9",
   "metadata": {},
   "source": [
    "### **Difficulty:** Easy"
   ]
  },
  {
   "cell_type": "markdown",
   "id": "895d18c6",
   "metadata": {},
   "source": [
    "# Image to Pencil Sketch"
   ]
  },
  {
   "cell_type": "markdown",
   "id": "4237c351",
   "metadata": {},
   "source": [
    "<div><p><em>This data project has been used as an assignment during the LGM Data Science Virtual Internship.</em></p>\n",
    "<h2>Assignment</h2>\n",
    "<p>Select an image in RGB format and use the <code>OpenCV</code> Python library to transform it so that it resembles a pencil sketch.</p>\n",
    "<p><strong>Tips</strong></p>\n",
    "<ol>\n",
    "<li>Convert the RGB image to grayscale - this will turn the image into a classic black-and-white photo;</li>\n",
    "<li>Invert the grayscale image - this is sometimes referred to as a negative image and can be used to enhance details;</li>\n",
    "<li>Mix the grayscale image with the inverted blurry image - this can be done by dividing the pixel values of the grayscale image by the pixel values of the inverted blurry image; the result should resemble a pencil sketch;</li>\n",
    "<li>Experiment by applying other transformations offered by the <code>OpenCV</code> library to improve the effect;</li>\n",
    "</ol>\n",
    "<h2>Data Description</h2>\n",
    "<p>We are providing you with a sample image of a dog, however, you can choose any colored image you want to complete this project.</p>\n",
    "<h2>Practicalities</h2>\n",
    "<p>Make sure that the solution reflects your entire thought process - it is more important how the code is structured rather than the final files.</p></div>"
   ]
  },
  {
   "cell_type": "markdown",
   "id": "d0bbf6e7",
   "metadata": {},
   "source": [
    "## **Data:**"
   ]
  },
  {
   "cell_type": "code",
   "execution_count": null,
   "id": "3a0a539d",
   "metadata": {},
   "outputs": [],
   "source": []
  },
  {
   "cell_type": "markdown",
   "id": "e7111112",
   "metadata": {},
   "source": [
    "## **Solution:**"
   ]
  },
  {
   "cell_type": "code",
   "execution_count": null,
   "id": "60f7e419",
   "metadata": {},
   "outputs": [],
   "source": []
  }
 ],
 "metadata": {},
 "nbformat": 4,
 "nbformat_minor": 5
}
