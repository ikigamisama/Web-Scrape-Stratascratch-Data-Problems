{
 "cells": [
  {
   "cell_type": "markdown",
   "id": "3174a8a5",
   "metadata": {},
   "source": [
    "### **Link:** https://platform.stratascratch.com/data-projects/outliers-detection"
   ]
  },
  {
   "cell_type": "markdown",
   "id": "171a24f0",
   "metadata": {},
   "source": [
    "### **Difficulty:** Medium"
   ]
  },
  {
   "cell_type": "markdown",
   "id": "083715da",
   "metadata": {},
   "source": [
    "# Outliers Detection"
   ]
  },
  {
   "cell_type": "markdown",
   "id": "23c0c102",
   "metadata": {},
   "source": [
    "<div><p><em>This data project has been used as a take-home assignment in the recruitment process for the data science positions at Physician Partners.</em></p>\n",
    "<h2>Assignment</h2>\n",
    "<p>In this exercise, we are providing you with an example of financial data (all numbers are fictional).</p>\n",
    "<p>You need to create an algorithm that can find outliers in this data by one column / several columns. E.g. some members have extremely high costs in the current month and your solution should be able to detect such records. Think about features and how you would explain them to business people.</p>\n",
    "<h2>Data Description</h2>\n",
    "<p>The dataset <code>sfr_test.csv</code> contains fictional financial information about customers of the company.</p>\n",
    "<p>Below is the description of the selected columns from this dataset:</p>\n",
    "<ul>\n",
    "<li><code>member_unique_id</code> - member's ID</li>\n",
    "<li><code>gender</code> - member's gender</li>\n",
    "<li><code>dob</code> - member's date of birth</li>\n",
    "<li><code>eligible_year</code> - year</li>\n",
    "<li><code>eligible_month</code> - month</li>\n",
    "<li><code>affiliation_type</code> - doctor's type</li>\n",
    "<li><code>pbp_group</code> - health plan group</li>\n",
    "<li><code>plan_name</code> - health plan name</li>\n",
    "<li><code>npi</code> - doctor's ID</li>\n",
    "<li><code>line_of_business</code> - health plan type</li>\n",
    "<li><code>esrd</code> - True if patient is on dialysis</li>\n",
    "<li><code>hospice</code> - True if patient is in hospice</li>\n",
    "</ul>\n",
    "<p>The remaining columns contain various financial indicators. <strong>All values in these financial columns contain a $ sign.</strong></p>\n",
    "<h2>Practicalities</h2>\n",
    "<p>Please provide a Jupyter notebook describing your approach as a result of this task.</p>\n",
    "<p>Since it is an open-ended task, your solution will need to include your thought process, including data exploration, outlier detection approaches, results, and interpretation. Your code must be well-structured, and all outputs (numerical and visual) are properly documented and easily readable. Always keep in mind that the final document would be read by someone with a business background, so be sure to clearly explain any technical terms and metrics. You should spend no more than 2-3 hours on this task.</p></div>"
   ]
  },
  {
   "cell_type": "markdown",
   "id": "676d4ade",
   "metadata": {},
   "source": [
    "## **Data:**"
   ]
  },
  {
   "cell_type": "code",
   "execution_count": null,
   "id": "34febf78",
   "metadata": {},
   "outputs": [],
   "source": []
  },
  {
   "cell_type": "markdown",
   "id": "04904125",
   "metadata": {},
   "source": [
    "## **Solution:**"
   ]
  },
  {
   "cell_type": "code",
   "execution_count": null,
   "id": "bd9c1c95",
   "metadata": {},
   "outputs": [],
   "source": []
  }
 ],
 "metadata": {},
 "nbformat": 4,
 "nbformat_minor": 5
}
