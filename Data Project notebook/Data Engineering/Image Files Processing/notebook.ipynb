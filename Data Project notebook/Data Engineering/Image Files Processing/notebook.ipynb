{
 "cells": [
  {
   "cell_type": "markdown",
   "id": "d658be34",
   "metadata": {},
   "source": [
    "### **Link:** https://platform.stratascratch.com/data-projects/image-files-processing"
   ]
  },
  {
   "cell_type": "markdown",
   "id": "7654bfcc",
   "metadata": {},
   "source": [
    "### **Difficulty:** Easy"
   ]
  },
  {
   "cell_type": "markdown",
   "id": "1d291474",
   "metadata": {},
   "source": [
    "# Image Files Processing"
   ]
  },
  {
   "cell_type": "markdown",
   "id": "e1ca1e27",
   "metadata": {},
   "source": [
    "<div><p><em>This data project has been used as a take-home assignment in the recruitment process for the data science positions at Amazon.</em></p>\n",
    "<h2>Assignment</h2>\n",
    "<p><strong>1. Data frame</strong></p>\n",
    "<p>The purpose of the task is to test your ability to process image files and your knowledge of data-framing methods in a programming language of your choice. Based on the loaded photos, you need to create a data frame (e.g. Pandas DataFrame) with the following columns:</p>\n",
    "<ul>\n",
    "<li>File name</li>\n",
    "<li>Description of the photo content (the separator <code>-</code> should be replaced with a space)</li>\n",
    "<li>Image ID</li>\n",
    "<li>Width</li>\n",
    "<li>Height</li>\n",
    "<li>Average color</li>\n",
    "<li>Median brightness after conversion to shades of gray</li>\n",
    "<li>Horizontal coordinate of the brightest pixel after converting to grayscale*</li>\n",
    "<li>Vertical coordinate of brightest pixel after converting to grayscale*</li>\n",
    "</ul>\n",
    "<p>*The upper left corner of the image corresponds to the coordinates (0,0). If there are many brightest pixels, we choose the one closest according to the Euclidean norm to (0,0).</p>\n",
    "<p>After creating the data frame, save it to <code>images.csv</code> file.</p>\n",
    "<p><strong>2. Aggregation of images</strong></p>\n",
    "<p>The second task is to sort the photos into subfolders. You need to sort the images by median brightness, divide them into bins of count 4, and save the images into subfolders with the naming scheme - <code>[bin number]-images</code>, numbering the bins from 1.</p>\n",
    "<h2>Data Description</h2>\n",
    "<p>Attached to the task is a directory <code>images</code>, which contains image files with the following file naming scheme - <code>stock-photo-[image content description]-[image id].jpg</code>. The images should be loaded into any programming environment in the RGB color model.</p>\n",
    "<h2>Practicalities</h2>\n",
    "<p>Make sure that the solution reflects your entire thought process - it is more important how the code is structured rather than the final files.</p></div>"
   ]
  },
  {
   "cell_type": "markdown",
   "id": "2c0360f7",
   "metadata": {},
   "source": [
    "## **Data:**"
   ]
  },
  {
   "cell_type": "code",
   "execution_count": null,
   "id": "535b0063",
   "metadata": {},
   "outputs": [],
   "source": []
  },
  {
   "cell_type": "markdown",
   "id": "a8e5cbe7",
   "metadata": {},
   "source": [
    "## **Solution:**"
   ]
  },
  {
   "cell_type": "code",
   "execution_count": null,
   "id": "a5e30b04",
   "metadata": {},
   "outputs": [],
   "source": []
  }
 ],
 "metadata": {},
 "nbformat": 4,
 "nbformat_minor": 5
}
