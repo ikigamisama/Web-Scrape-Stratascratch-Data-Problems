{
 "cells": [
  {
   "cell_type": "markdown",
   "id": "b2adf969",
   "metadata": {},
   "source": [
    "### **Link:** https://platform.stratascratch.com/data-projects/driver-lifetime-value"
   ]
  },
  {
   "cell_type": "markdown",
   "id": "70518b26",
   "metadata": {},
   "source": [
    "### **Difficulty:** Easy"
   ]
  },
  {
   "cell_type": "markdown",
   "id": "4f6d638d",
   "metadata": {},
   "source": [
    "# Driver Lifetime Value"
   ]
  },
  {
   "cell_type": "markdown",
   "id": "9814081e",
   "metadata": {},
   "source": [
    "<div><p><em>This data project has been used as a take-home assignment in the recruitment process for the data science positions at Lyft.</em></p>\n",
    "<h2>Assignment</h2>\n",
    "<p>After exploring and analyzing the data, please:</p>\n",
    "<ol>\n",
    "<li>Recommend a Driver's Lifetime Value (i.e., the value of a driver to Lyft over the entire projected lifetime of a driver).</li>\n",
    "<li>Please answer the following questions:\n",
    "<ul>\n",
    "<li>What are the main factors that affect a driver's lifetime value?</li>\n",
    "<li>What is the average projected lifetime of a driver? That is, once a driver is onboarded, how long do they typically continue driving with Lyft?</li>\n",
    "<li>Do all drivers act alike? Are there specific segments of drivers that generate more value for Lyft than the average driver?</li>\n",
    "<li>What actionable recommendations are there for the business?</li>\n",
    "</ul>\n",
    "</li>\n",
    "<li>Prepare and submit a writeup of your findings for consumption by a cross-functional\n",
    "audience.</li>\n",
    "</ol>\n",
    "<p>You can make the following assumptions about the Lyft rate card:</p>\n",
    "<ul>\n",
    "<li>Base Fare $2.00</li>\n",
    "<li>Cost per Mile $1.15</li>\n",
    "<li>Cost per Minute $0.22</li>\n",
    "<li>Service Fee $1.75</li>\n",
    "<li>Minimum Fare $5.00</li>\n",
    "<li>Maximum Fare $400.00</li>\n",
    "</ul>\n",
    "<h2>Data Description</h2>\n",
    "<p>You'll find three CSV files attached with the following data:</p>\n",
    "<p><strong>driver_ids.csv</strong></p>\n",
    "<ul>\n",
    "<li><code>driver_id</code> Unique identifier for a driver</li>\n",
    "<li><code>driver_onboard_date</code> Date on which driver was on-boarded</li>\n",
    "</ul>\n",
    "<p><strong>ride_ids.csv</strong></p>\n",
    "<ul>\n",
    "<li><code>driver_id</code> Unique identifier for a driver</li>\n",
    "<li><code>ride_id</code> Unique identifier for a ride that was completed by the driver</li>\n",
    "<li><code>ride_distance</code> Ride distance in meters</li>\n",
    "<li><code>ride_duration</code> Ride duration in seconds</li>\n",
    "<li><code>ride_prime_time</code> Prime Time applied on the ride</li>\n",
    "</ul>\n",
    "<p><strong>ride_timestamps.csv</strong></p>\n",
    "<ul>\n",
    "<li><code>ride_id</code> Unique identifier for a ride</li>\n",
    "<li><code>event</code> describes the type of event; this variable takes the following values:\n",
    "<ul>\n",
    "<li><em>requested_at</em> - passenger requested a ride</li>\n",
    "<li><em>accepted_at</em> - driver accepted a passenger request</li>\n",
    "<li><em>arrived_at</em> - driver arrived at pickup point</li>\n",
    "<li><em>picked_up_at</em> - driver picked up the passenger</li>\n",
    "<li><em>dropped_off_at</em> - driver dropped off a passenger at destination</li>\n",
    "</ul>\n",
    "</li>\n",
    "<li><code>timestamp</code> Time of event</li>\n",
    "</ul>\n",
    "<p>You can assume that:</p>\n",
    "<ul>\n",
    "<li>All rides in the data set occurred in San Francisco</li>\n",
    "<li>All timestamps in the data set are in UTC</li>\n",
    "</ul>\n",
    "<h2>Practicalities</h2>\n",
    "<p>Please work on the questions in the displayed order. Make sure that the solution reflects your entire thought process - it is more important how the code is structured rather than the final answers. You are expected to spend no more than 2 hours solving this project.</p></div>"
   ]
  },
  {
   "cell_type": "markdown",
   "id": "ee463efd",
   "metadata": {},
   "source": [
    "## **Data:**"
   ]
  },
  {
   "cell_type": "code",
   "execution_count": null,
   "id": "e64841e9",
   "metadata": {},
   "outputs": [],
   "source": []
  },
  {
   "cell_type": "markdown",
   "id": "a3a9cb25",
   "metadata": {},
   "source": [
    "## **Solution:**"
   ]
  },
  {
   "cell_type": "code",
   "execution_count": null,
   "id": "d27e7b60",
   "metadata": {},
   "outputs": [],
   "source": []
  }
 ],
 "metadata": {},
 "nbformat": 4,
 "nbformat_minor": 5
}
