{
 "cells": [
  {
   "cell_type": "markdown",
   "id": "8fd3bfdc",
   "metadata": {},
   "source": [
    "### **Link:** https://platform.stratascratch.com/data-projects/predicting-price"
   ]
  },
  {
   "cell_type": "markdown",
   "id": "fb0fcddc",
   "metadata": {},
   "source": [
    "### **Difficulty:** Easy"
   ]
  },
  {
   "cell_type": "markdown",
   "id": "92aac17a",
   "metadata": {},
   "source": [
    "# Predicting Price"
   ]
  },
  {
   "cell_type": "markdown",
   "id": "af4be48a",
   "metadata": {},
   "source": [
    "<div><p><em>This data project has been used as a take-home assignment in the recruitment process for the data science positions at Haensel AMS.</em></p>\n",
    "<h2>Assignment</h2>\n",
    "<p>The target variable is <code>price</code>. You have 7 attributes and obviously we want you to build some initial ML model which predicts the prices.</p>\n",
    "<ol>\n",
    "<li>Make some initial data analysis, which will hint to some stuctures in the data and how attributes are connected.</li>\n",
    "<li>Fit some ML model(s) and explain briefly your choices.</li>\n",
    "<li>Show with some X-validation the power of your model and comment the results.</li>\n",
    "<li>Present us the results and the steps you have taken and also with some critical thinking and next steps.</li>\n",
    "</ol>\n",
    "<h2>Data Description</h2>\n",
    "<p>The data are provided in the <code>sample.csv</code> file.</p>\n",
    "<h2>Practicalities</h2>\n",
    "<p>Define, train and evaluate a predictive model that takes as the input the data provided. You may want to split the data into training, testing and validation sets, according to your discretion. Do not use external data for this project. You may use any algorithm of your choice or compare multiple models.</p>\n",
    "<p>Make sure that the solution reflects your entire thought process - it is more important how the code is structured rather than the final metrics. You are expected to spend no more than 4 hours working on this project.</p></div>"
   ]
  },
  {
   "cell_type": "markdown",
   "id": "17fefb7a",
   "metadata": {},
   "source": [
    "## **Data:**"
   ]
  },
  {
   "cell_type": "code",
   "execution_count": null,
   "id": "97920f40",
   "metadata": {},
   "outputs": [],
   "source": []
  },
  {
   "cell_type": "markdown",
   "id": "a0076f12",
   "metadata": {},
   "source": [
    "## **Solution:**"
   ]
  },
  {
   "cell_type": "code",
   "execution_count": null,
   "id": "b756ebf1",
   "metadata": {},
   "outputs": [],
   "source": []
  }
 ],
 "metadata": {},
 "nbformat": 4,
 "nbformat_minor": 5
}
