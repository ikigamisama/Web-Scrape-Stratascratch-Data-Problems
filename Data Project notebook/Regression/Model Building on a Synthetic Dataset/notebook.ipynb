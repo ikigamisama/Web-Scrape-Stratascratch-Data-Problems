{
 "cells": [
  {
   "cell_type": "markdown",
   "id": "9600b833",
   "metadata": {},
   "source": [
    "### **Link:** https://platform.stratascratch.com/data-projects/model-building-synthetic-dataset"
   ]
  },
  {
   "cell_type": "markdown",
   "id": "30515698",
   "metadata": {},
   "source": [
    "### **Difficulty:** Easy"
   ]
  },
  {
   "cell_type": "markdown",
   "id": "5ec0d381",
   "metadata": {},
   "source": [
    "# Model Building on a Synthetic Dataset "
   ]
  },
  {
   "cell_type": "markdown",
   "id": "dedeb6b0",
   "metadata": {},
   "source": [
    "<div><p><em>This data project has been used as a take-home assignment in the recruitment process for the data science positions at Capital One.</em></p>\n",
    "<h2>Assignment</h2>\n",
    "<p>The two synthetic datasets were generated using the same underlying data  model. Your goal is to build a predictive model using the data in the training  dataset to predict the withheld target values from the test set.</p>\n",
    "<p>You may use any tools available to you for this task. Ultimately, we will assess predictive accuracy on the test set using the mean squared error metric. You should produce the following:</p>\n",
    "<ul>\n",
    "<li>A 1,000 x 1 text file containing 1 prediction per line for each record in the test dataset.</li>\n",
    "<li>A brief writeup describing the techniques you used to generate the predictions. Details such as important features and your estimates of predictive performance are helpful here, though not strictly necessary.</li>\n",
    "<li>(Optional) An implementable version of your model. What this would look like largely depends on the methods you used, but could include things like source code, a pickled Python object, a PMML file, etc. Please do not include any compiled executables.</li>\n",
    "</ul>\n",
    "<h2>Data Description</h2>\n",
    "<p>We have provided two tab-delimited files along with these instructions:</p>\n",
    "<ul>\n",
    "<li><code>codetest_train.txt</code>: 5,000 records x 254 features + 1 target (~7.8MB)</li>\n",
    "<li><code>codetest_test.txt</code> : 1,000 records x 254 features            (~1.5MB)</li>\n",
    "</ul>\n",
    "<h2>Practicalities</h2>\n",
    "<p>The purpose of this test is to test your ability to write software to collect,  normalize, store, analyze and visualize “real world” data. The test is designed  to take about two hours.</p>\n",
    "<p>You may also use any tools or software on your computer, or that are freely  available on the Internet. We prefer that you use simpler tools to more complex  ones and that you are “lazy” in the sense of using third party APIs and libraries as much as possible. We encourage the reuse of code when appropriate. If you include code directly in your submission that was written by someone else  other than commonly imported modules, please be sure to provide proper  attribution, including a URL, text, author, etc. or other available information in the code comments.</p>\n",
    "<p>Do as much as you can, as well as you can. Prefer efficient, elegant solutions. Prefer scripted analysis to unrepeatable use of GUI tools. For data security and transfer time reasons, you have been given a relatively small data file. Prefer solutions that do not require the full data set to be stored in memory.</p>\n",
    "<p>There is certainly no requirement that you have previous experience working on these kinds of problems. Rather, we are looking for an ability to research and select the appropriate tools for an open-ended problem and implement something meaningful. We are also interested in your ability to work on a team, which means considering how to package and deliver your results in a way that makes it easy for others to review them. Undocumented code and data dumps are virtually useless; commented code and a clear writeup with elegant visuals are ideal.</p></div>"
   ]
  },
  {
   "cell_type": "markdown",
   "id": "9567775f",
   "metadata": {},
   "source": [
    "## **Data:**"
   ]
  },
  {
   "cell_type": "code",
   "execution_count": null,
   "id": "94561ceb",
   "metadata": {},
   "outputs": [],
   "source": []
  },
  {
   "cell_type": "markdown",
   "id": "49b37cec",
   "metadata": {},
   "source": [
    "## **Solution:**"
   ]
  },
  {
   "cell_type": "code",
   "execution_count": null,
   "id": "4f4eb62e",
   "metadata": {},
   "outputs": [],
   "source": []
  }
 ],
 "metadata": {},
 "nbformat": 4,
 "nbformat_minor": 5
}
