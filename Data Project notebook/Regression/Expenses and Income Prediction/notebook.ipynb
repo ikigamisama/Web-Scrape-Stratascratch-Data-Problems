{
 "cells": [
  {
   "cell_type": "markdown",
   "id": "b8a002de",
   "metadata": {},
   "source": [
    "### **Link:** https://platform.stratascratch.com/data-projects/expenses-and-income-prediction"
   ]
  },
  {
   "cell_type": "markdown",
   "id": "e7c1609a",
   "metadata": {},
   "source": [
    "### **Difficulty:** Medium"
   ]
  },
  {
   "cell_type": "markdown",
   "id": "c4a72071",
   "metadata": {},
   "source": [
    "# Expenses and Income Prediction"
   ]
  },
  {
   "cell_type": "markdown",
   "id": "e0e86fda",
   "metadata": {},
   "source": [
    "<div><p><em>This data project has been used as a take-home assignment in the recruitment process for the data science positions at N26.</em></p>\n",
    "<h2>Assignment</h2>\n",
    "<p>Given the data set of transactions of 10k users, define regression models for predicting what are the total expenses and the income of a user.</p>\n",
    "<h2>Data Description</h2>\n",
    "<p>The file <code>transactions_data_training.csv</code> contains records of transactions. The other two files, <code>transaction_types.csv</code> and <code>mcc_group_definition.csv</code> are dictionaries providing explanations about values in <code>transaction_type</code> and <code>mcc_group</code> columns from the main dataset respectively.</p>\n",
    "<p>Each transaction, depending on its type, may represent money flowing either into or from a user's account. Before defining the model, you should therefore extract the target variables: the total expenses and total income of each user based on the combination of <code>amount_n26_currency</code> and <code>transaction_type</code> columns.</p>\n",
    "<h2>Practicalities</h2>\n",
    "<p>Define, train and evaluate predictive models that take as the input the data provided. You may want to split the data into training, testing and validation sets, according to your discretion. Do not use external data for this project. You may use any algorithm of your choice or compare multiple models.</p>\n",
    "<p>Make sure that the solution reflects your entire thought process - it is more important how the code is structured rather than the final metrics. You are expected to spend no more than 3 hours working on this project.</p></div>"
   ]
  },
  {
   "cell_type": "markdown",
   "id": "a3f72c79",
   "metadata": {},
   "source": [
    "## **Data:**"
   ]
  },
  {
   "cell_type": "code",
   "execution_count": null,
   "id": "f216585a",
   "metadata": {},
   "outputs": [],
   "source": []
  },
  {
   "cell_type": "markdown",
   "id": "237d1c9c",
   "metadata": {},
   "source": [
    "## **Solution:**"
   ]
  },
  {
   "cell_type": "code",
   "execution_count": null,
   "id": "4cd16caa",
   "metadata": {},
   "outputs": [],
   "source": []
  }
 ],
 "metadata": {},
 "nbformat": 4,
 "nbformat_minor": 5
}
