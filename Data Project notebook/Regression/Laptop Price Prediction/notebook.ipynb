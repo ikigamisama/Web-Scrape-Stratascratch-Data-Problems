{
 "cells": [
  {
   "cell_type": "markdown",
   "id": "d4e52f8c",
   "metadata": {},
   "source": [
    "### **Link:** https://platform.stratascratch.com/data-projects/laptop-price-prediction"
   ]
  },
  {
   "cell_type": "markdown",
   "id": "0c4e983b",
   "metadata": {},
   "source": [
    "### **Difficulty:** Hard"
   ]
  },
  {
   "cell_type": "markdown",
   "id": "909b8d49",
   "metadata": {},
   "source": [
    "# Laptop Price Prediction"
   ]
  },
  {
   "cell_type": "markdown",
   "id": "47c2b9b0",
   "metadata": {},
   "source": [
    "<div><p><em>This data project has been used as a take-home assignment in the recruitment process for the data science positions at Allegro.</em></p>\n",
    "<h2>Assignment</h2>\n",
    "<p>Your task is to define and train a machine learning model for predicting the price of a laptop (<code>buynow_price</code> column in the dataset) based on its attributes. When testing and comparing your models, aim to minimize the RMSE measure.</p>\n",
    "<h2>Data Description</h2>\n",
    "<p>The dataset has already been randomly divided into the training, validation and test sets. It is stored in 3 files: <code>train_dataset.json</code>, <code>val_dataset.json</code> and <code>test_dataset.json</code> respectively. Each file is JSON saved in <a href=\"https://pandas.pydata.org/pandas-docs/stable/reference/api/pandas.DataFrame.to_json.html\"><code>orient=’columns’</code> format</a>.</p>\n",
    "<h4>Example how to load the data:</h4>\n",
    "<pre><code>&gt;&gt;&gt; import pandas as pd\n",
    "&gt;&gt;&gt; dataset = pd.read_json(\"public-dataset.json\")\n",
    "&gt;&gt;&gt; dataset.columns\n",
    "Index(['buynow_price', 'graphic card type', 'communications', 'resolution (px)', 'CPU cores', 'RAM size', 'operating system', 'drive type', 'input devices', 'multimedia', 'RAM type', 'CPU clock speed (GHz)', 'CPU model', 'state', 'drive memory size (GB)', 'warranty', 'screen size'], dtype='object')\n",
    "</code></pre>\n",
    "<h2>Practicalities</h2>\n",
    "<p>Prepare a model in Jupyter Notebook using Python. Only use the training data for training the model and check the model's performance on unseen data using the test dataset to make sure it does not overfit.</p>\n",
    "<p>Ensure that the notebook reflects your thought process. It’s better to show all the approaches, not only the final one (e.g. if you tested several models, you can show all of them). The path to obtaining the final model should be clearly shown.</p></div>"
   ]
  },
  {
   "cell_type": "markdown",
   "id": "1371710b",
   "metadata": {},
   "source": [
    "## **Data:**"
   ]
  },
  {
   "cell_type": "code",
   "execution_count": null,
   "id": "95e363eb",
   "metadata": {},
   "outputs": [],
   "source": []
  },
  {
   "cell_type": "markdown",
   "id": "ef16eade",
   "metadata": {},
   "source": [
    "## **Solution:**"
   ]
  },
  {
   "cell_type": "code",
   "execution_count": null,
   "id": "3caf00c9",
   "metadata": {},
   "outputs": [],
   "source": []
  }
 ],
 "metadata": {},
 "nbformat": 4,
 "nbformat_minor": 5
}
