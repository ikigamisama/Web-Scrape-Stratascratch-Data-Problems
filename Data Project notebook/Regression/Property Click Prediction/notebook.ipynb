{
 "cells": [
  {
   "cell_type": "markdown",
   "id": "0fc19853",
   "metadata": {},
   "source": [
    "### **Link:** https://platform.stratascratch.com/data-projects/property-click-prediction"
   ]
  },
  {
   "cell_type": "markdown",
   "id": "5424384e",
   "metadata": {},
   "source": [
    "### **Difficulty:** Hard"
   ]
  },
  {
   "cell_type": "markdown",
   "id": "2ab3edc6",
   "metadata": {},
   "source": [
    "# Property Click Prediction"
   ]
  },
  {
   "cell_type": "markdown",
   "id": "3fb33b5d",
   "metadata": {},
   "source": [
    "<div><p><em>This data project has been used as a take-home assignment in the recruitment process for the data science positions at NoBroker Data Sciences.</em></p>\n",
    "<p>Properties form one of the most important data entity in nobroker data ecosystem. Properties receive interactions on NoBroker. One interaction is defined as one user requesting an owner contact on a property. A property can receive 0 to many interactions. This research will focus on studying and modelling the interactions received by properties.</p>\n",
    "<h2>Assignment</h2>\n",
    "<p>We are interested in studying and statistically modelling property interactions. <strong>We would like to have a predictive model that would say the number of interactions that a property would receive in a period of time.</strong> For simplicity let’s say we would like to predict the number of interactions that a property would receive within 3 days of its activation and 7 days of its activation. However this part is open ended and you could bring your own time intervals into the problem. This is the part of your artistry in data science.\n",
    "In the end we need to profess the number of interaction that a certain kind of property would receive within a given number of days. We cannot do a time series forecasting here considering the limited amount of data that could shared as a part of an assignment. You may clean the data, merge them, do an EDA, visualize and build your model.</p>\n",
    "<h2>Data Description</h2>\n",
    "<p>Unzip the <code>datasets.zip</code> file to find the following 3 data sets:</p>\n",
    "<p><code>property_data_set.csv</code> :</p>\n",
    "<ul>\n",
    "<li>Properties data containing various features like activation_date, BHK type, locality, property size, property age, rent, apartment type etc.</li>\n",
    "<li><code>activation_date</code> is the date property got activated on NoBroker. Fields like lift, gym etc are binary valued - 1 indicating presence and 0 indicating absence. All other fields are self-explanatory.</li>\n",
    "<li>You may use these along with the rest of the data sets to engineer the features that you would use in your study</li>\n",
    "</ul>\n",
    "<p><code>property_photos.tsv</code> :</p>\n",
    "<ul>\n",
    "<li>Data containing photo counts of properties</li>\n",
    "<li><code>photo_urls</code> column contains string values that you have to parse to obtain the number of photos uploaded on a property</li>\n",
    "<li>Each value in the <code>photo_url</code> column is supposed to be a string representation of an array of json [ in python terms a list of dictionaries ] where each json object represents one image. However due to some unforeseen events, these values got corrupted and lost their valid json array representation. You could see this if you observe the data closely. Hint: There is a missing “ before ‘title’ for the first json object in each value. There is also an additional “ at the end of each value. Also you must remove all the <code>\\\\</code> to get a valid json representation.</li>\n",
    "<li>Your objective is to get the number of photos uploaded for a property. For this you should correct the corrupt string and make it a valid json. Once you have a valid json string, you can get the length of this array, which would be the number of photos uploaded on the property.</li>\n",
    "<li>Also note that these are not images, but just names that we use to point to images. You are NOT given the images nor do we expect you to have them. All that you are expected to do it get the number of photos on each property by cleaning up the corrupt invalid json array string.</li>\n",
    "<li>NULL/NaN values indicate absence of photos on the property, ie; photo_count = 0</li>\n",
    "</ul>\n",
    "<p><code>property_interactions.csv</code> :</p>\n",
    "<ul>\n",
    "<li>Data containing the timestamps of interaction on the properties.</li>\n",
    "<li>Each <code>request_date</code> value represents the timestamp of a unique valid interaction on a property (contact owner happened and a user received the owner contact phone number)</li>\n",
    "<li>Therefore if you count the number of times each property has appeared in this table, it tells you the number of interaction received on this property</li>\n",
    "<li>You will use this <code>request_date</code> along with the <code>activation_date</code> in our first table and\n",
    "other features in our study</li>\n",
    "</ul>\n",
    "<h2>Practicalities</h2>\n",
    "<p>Please go through all the instructions and data descriptions carefully before getting on the ground.</p>\n",
    "<p>We DO NOT look just at your final model and its performance, rather we look for the research mindset in you, your curiosity in data, your enthusiasm to collaborate and if your work mindset fit in our DS culture. Therefore we urge you to present whatever you do with standards followed among the data science community. Keep an open ended eye on the problem and feel free to approach the data in whatever way you think suits the problem. We urge you to try out different methodologies and present your results.</p>\n",
    "<p>You should take 72 hours or less on this problem. This is a research assignment and please don’t struggle for a full fledged hurried submission. Quality is what We believe in and We also believe Great things are built small bit at a time. Hence present everything and anything you have done and strive for good quality in them.</p></div>"
   ]
  },
  {
   "cell_type": "markdown",
   "id": "99347c94",
   "metadata": {},
   "source": [
    "## **Data:**"
   ]
  },
  {
   "cell_type": "code",
   "execution_count": null,
   "id": "1481e8da",
   "metadata": {},
   "outputs": [],
   "source": []
  },
  {
   "cell_type": "markdown",
   "id": "42cfa328",
   "metadata": {},
   "source": [
    "## **Solution:**"
   ]
  },
  {
   "cell_type": "code",
   "execution_count": null,
   "id": "edf4e801",
   "metadata": {},
   "outputs": [],
   "source": []
  }
 ],
 "metadata": {},
 "nbformat": 4,
 "nbformat_minor": 5
}
