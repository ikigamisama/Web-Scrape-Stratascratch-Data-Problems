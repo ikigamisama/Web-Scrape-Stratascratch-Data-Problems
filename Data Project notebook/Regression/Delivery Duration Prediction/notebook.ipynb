{
 "cells": [
  {
   "cell_type": "markdown",
   "id": "74b501bb",
   "metadata": {},
   "source": [
    "### **Link:** https://platform.stratascratch.com/data-projects/delivery-duration-prediction"
   ]
  },
  {
   "cell_type": "markdown",
   "id": "943a8e56",
   "metadata": {},
   "source": [
    "### **Difficulty:** Medium"
   ]
  },
  {
   "cell_type": "markdown",
   "id": "b3e55e11",
   "metadata": {},
   "source": [
    "# Delivery Duration Prediction"
   ]
  },
  {
   "cell_type": "markdown",
   "id": "4f72fcdf",
   "metadata": {},
   "source": [
    "<div><p><em>This data project has been used as a take-home assignment in the recruitment process for the data science positions at DoorDash.</em></p>\n",
    "<h2>Assignment</h2>\n",
    "<p>When a consumer places an order on DoorDash, we show the expected time of delivery. It is very important for DoorDash to get this right, as it has a big impact on consumer experience. In this exercise, you will build a model to predict the estimated time taken for a delivery.</p>\n",
    "<p>Concretely, for a given delivery you must predict the total delivery duration seconds , i.e., the time taken from</p>\n",
    "<ul>\n",
    "<li>Start: the time consumer submits the order (<code>created_at</code>) to</li>\n",
    "<li>End: when the order will be delivered to the consumer (<code>actual_delivery_time</code>)</li>\n",
    "</ul>\n",
    "<h2>Data Description</h2>\n",
    "<p>The attached file <code>historical_data.csv</code> contains a subset of deliveries received at DoorDash in early 2015 in a subset of the cities. Each row in this file corresponds to one unique delivery.  We have added noise to the dataset to obfuscate certain business details. Each column corresponds to a feature as explained below. Note all money (dollar) values given in the data are in cents and all time duration values given are in seconds</p>\n",
    "<p>The target value to predict here is the total seconds value between <code>created_at</code> and <code>actual_delivery_time</code>.</p>\n",
    "<h4>Columns in historical_data.csv</h4>\n",
    "<p><strong>Time features</strong></p>\n",
    "<ul>\n",
    "<li><code>market_id</code>: A city/region in which DoorDash operates, e.g., Los Angeles, given in the data as an id</li>\n",
    "<li><code>created_at</code>: Timestamp in UTC when the order was submitted by the consumer to DoorDash. (Note this timestamp is in UTC, but in case you need it, the actual timezone of the region was US/Pacific)</li>\n",
    "<li><code>actual_delivery_time</code>: Timestamp in UTC when the order was delivered to the consumer</li>\n",
    "</ul>\n",
    "<p><strong>Store features</strong></p>\n",
    "<ul>\n",
    "<li><code>store_id</code>: an id representing the restaurant the order was submitted for</li>\n",
    "<li><code>store_primary_category</code>: cuisine category of the restaurant, e.g., italian, asian</li>\n",
    "<li><code>order_protocol</code>: a store can receive orders from DoorDash through many modes. This field represents an id denoting the protocol</li>\n",
    "</ul>\n",
    "<p><strong>Order features</strong></p>\n",
    "<ul>\n",
    "<li><code>total_items</code>: total number of items in the order</li>\n",
    "<li><code>subtotal</code>: total value of the order submitted (in cents)</li>\n",
    "<li><code>num_distinct_items</code>: number of distinct items included in the order</li>\n",
    "<li><code>min_item_price</code>: price of the item with the least cost in the order (in cents)</li>\n",
    "<li><code>max_item_price</code>: price of the item with the highest cost in the order (in cents)</li>\n",
    "</ul>\n",
    "<p><strong>Market features</strong></p>\n",
    "<p>DoorDash being a marketplace, we have information on the state of marketplace when the order is placed, that can be used to estimate delivery time. The following features are values at the time of <code>created_at</code> (order submission time):</p>\n",
    "<ul>\n",
    "<li><code>total_onshift_dashers</code>: Number of available dashers who are within 10 miles of the store at the time of order creation</li>\n",
    "<li><code>total_busy_dashers</code>: Subset of above <code>total_onshift_dashers</code> who are currently working on an order</li>\n",
    "<li><code>total_outstanding_orders</code>: Number of orders within 10 miles of this order that are currently being processed.</li>\n",
    "</ul>\n",
    "<p><strong>Predictions from other models</strong></p>\n",
    "<p>We have predictions from other models for various stages of delivery process that we can use:</p>\n",
    "<ul>\n",
    "<li><code>estimated_order_place_duration</code>: Estimated time for the restaurant to receive the order from DoorDash (in seconds)</li>\n",
    "<li><code>estimated_store_to_consumer_driving_duration</code>: Estimated travel time between store and consumer (in seconds)</li>\n",
    "</ul>\n",
    "<h2>Practicalities</h2>\n",
    "<p>Build a model to predict the total delivery duration seconds (as defined above). Feel free to generate additional features from the given data to improve model performance. Explain:</p>\n",
    "<ul>\n",
    "<li>model(s) used,</li>\n",
    "<li>how you evaluated your model performance on the historical data,</li>\n",
    "<li>any data processing you performed on the data,</li>\n",
    "<li>feature engineering choices you made,</li>\n",
    "<li>other information you would like to share your modeling approach.</li>\n",
    "</ul>\n",
    "<p>We expect the project to take 3-5 hours in total, but feel free to spend as much time as you like on it. Feel free to use any open source packages for the task.</p>\n",
    "<h2>Resources</h2>\n",
    "<ul>\n",
    "<li><a href=\"https://youtu.be/Sf6jn8QZHhc\">Video walkthrough (data preparation)</a></li>\n",
    "<li><a href=\"https://youtu.be/m3zEV10qvE8\">Video walkthrough (collinearity and removing redundancies)</a></li>\n",
    "<li><a href=\"https://youtu.be/gh5JzALBQvU\">Video walkthrough (handling multicollinearity and feature selection)</a></li>\n",
    "<li><a href=\"https://youtu.be/pqQG_tNXncc\">Video walkthrough (modeling with classical machine learning)</a></li>\n",
    "</ul></div>"
   ]
  },
  {
   "cell_type": "markdown",
   "id": "2adf2044",
   "metadata": {},
   "source": [
    "## **Data:**"
   ]
  },
  {
   "cell_type": "code",
   "execution_count": null,
   "id": "69c8a93c",
   "metadata": {},
   "outputs": [],
   "source": []
  },
  {
   "cell_type": "markdown",
   "id": "7b964a67",
   "metadata": {},
   "source": [
    "## **Solution:**"
   ]
  },
  {
   "cell_type": "code",
   "execution_count": null,
   "id": "32d1fa0f",
   "metadata": {},
   "outputs": [],
   "source": []
  }
 ],
 "metadata": {},
 "nbformat": 4,
 "nbformat_minor": 5
}
