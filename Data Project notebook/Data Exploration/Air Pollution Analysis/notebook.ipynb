{
 "cells": [
  {
   "cell_type": "markdown",
   "id": "3c2b58d3",
   "metadata": {},
   "source": [
    "### **Link:** https://platform.stratascratch.com/data-projects/air-pollution-analysis"
   ]
  },
  {
   "cell_type": "markdown",
   "id": "b9c2cbca",
   "metadata": {},
   "source": [
    "### **Difficulty:** Easy"
   ]
  },
  {
   "cell_type": "markdown",
   "id": "2fbb39bb",
   "metadata": {},
   "source": [
    "# Air Pollution Analysis"
   ]
  },
  {
   "cell_type": "markdown",
   "id": "98050373",
   "metadata": {},
   "source": [
    "<div><p><em>This data project has been used as a take-home assignment in the recruitment process for the data science positions at the World Health Organization.</em></p>\n",
    "<h2>Assignment</h2>\n",
    "<p>Analyze and compare the air pollution data from 2 stations: one in New York City (US) and one in Bogota (Columbia). Extract useful insights and include visualizations that support your findings.</p>\n",
    "<p>You can start by analyzing the data from each station individually. Perform a time series analysis on the pollution levels. When is pollution the highest and the lowest? Can you see any trends or seasonal patterns?</p>\n",
    "<p>Next, you may compare the PM2.5 pollution in both cities. Using a visualization, show at what times is the pollution level in New York higher than in Bogota. Can you see any trends or seasonal patterns? Are the two time series correlated?</p>\n",
    "<p>You are also encouraged to explore the pollution limits set by the World Health Organization (WHO), for example, based on <a href=\"http://apps.who.int/iris/bitstream/handle/10665/69477/WHO_SDE_PHE_OEH_06.02_eng.pdf;jsessionid=B6AFB5E27DBB7AF1C3693F8C0ED40109?sequence=1\">this document</a>. Is the annual mean pollution level in the two cities below the acceptable value defined by the WHO? Write an algorithm that detects the time when the 24-hour mean pollution level exceeds the acceptable value and use a visualization to demark these periods.</p>\n",
    "<p>Above are just suggestions of what you can extract from these data. Still, after analyzing the datasets, feel free to use your imagination and draw additional insightful conclusions!</p>\n",
    "<h2>Data Description</h2>\n",
    "<p>The data are given in the <code>txt</code> format and using <code>|</code> as the column separator. There are two files, one for each station, as described below.</p>\n",
    "<p><code>StationData-NY_QueensCollege.txt</code></p>\n",
    "<ul>\n",
    "<li>Data Source: New York State - Department of Environmental Conservation</li>\n",
    "<li>Parameters: PM2.5</li>\n",
    "<li>Station: Queens College</li>\n",
    "<li>Start Date: 2016-09-01</li>\n",
    "<li>End Date: 2017-04-01</li>\n",
    "<li>Granularity: 1 hour</li>\n",
    "</ul>\n",
    "<p><code>StationData-Bogota_SanCristobal.txt</code></p>\n",
    "<ul>\n",
    "<li>Data Source:  Red de Monitoreo de Calidad del Aire de Bogotá - RMCAB (Bogota Air Quality Monitoring Network)</li>\n",
    "<li>Parameters: PM2.5, PM10</li>\n",
    "<li>Station: San Cristobal</li>\n",
    "<li>Start Date: 2016-09-01</li>\n",
    "<li>End Date: 2017-04-01</li>\n",
    "<li>Granularity: 1 hour</li>\n",
    "</ul>\n",
    "<h2>Practicalities</h2>\n",
    "<p>Analyze the provided data and answer the questions to the best of your abilities. Include the relevant tables/graphs/visualization to explain and support your findings. Make sure that the solution reflects your entire thought process including the preparation of data - it is more important how the code is structured rather than just the final result or plot. You are expected to spend no more than 1-3 hours on this project.</p></div>"
   ]
  },
  {
   "cell_type": "markdown",
   "id": "9fb582d1",
   "metadata": {},
   "source": [
    "## **Data:**"
   ]
  },
  {
   "cell_type": "code",
   "execution_count": null,
   "id": "9cd31f26",
   "metadata": {},
   "outputs": [],
   "source": []
  },
  {
   "cell_type": "markdown",
   "id": "966b995a",
   "metadata": {},
   "source": [
    "## **Solution:**"
   ]
  },
  {
   "cell_type": "code",
   "execution_count": null,
   "id": "a284ca9f",
   "metadata": {},
   "outputs": [],
   "source": []
  }
 ],
 "metadata": {},
 "nbformat": 4,
 "nbformat_minor": 5
}
