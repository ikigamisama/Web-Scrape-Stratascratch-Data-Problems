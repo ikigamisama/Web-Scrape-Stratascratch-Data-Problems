{
 "cells": [
  {
   "cell_type": "markdown",
   "id": "490bcae3",
   "metadata": {},
   "source": [
    "### **Link:** https://platform.stratascratch.com/data-projects/crime-data-analysis"
   ]
  },
  {
   "cell_type": "markdown",
   "id": "ab77ffbc",
   "metadata": {},
   "source": [
    "### **Difficulty:** Medium"
   ]
  },
  {
   "cell_type": "markdown",
   "id": "62164f79",
   "metadata": {},
   "source": [
    "# Crime Data Analysis"
   ]
  },
  {
   "cell_type": "markdown",
   "id": "94f0c1d4",
   "metadata": {},
   "source": [
    "<div><p><em>This data project has been used as a take-home assignment in the recruitment process for the data science positions at the City of Montreal.</em></p>\n",
    "<h2>Assignment</h2>\n",
    "<p>Analyze the data and draw conclusions on the distribution and nature of crime in Montreal City. In your analysis, include maps that visualize the location of different incidents globally and in relation to police districts. Your analysis may also provide answers to the following questions:</p>\n",
    "<ol>\n",
    "<li>What are the top 3 prevalent crimes or offenses committed in Montreal City?</li>\n",
    "<li>What part of the day did most crime incidents occur?</li>\n",
    "<li>Which top 5 police precincts (PDQ) got the most crime complaints?</li>\n",
    "<li>Which are the top 3 PDQs that got the least crime complaints?</li>\n",
    "<li>Which neighborhoods recorded the highest crime incidents and what are the crime types in these neighborhoods?</li>\n",
    "<li>Which neighborhood has the most cases of murder?</li>\n",
    "</ol>\n",
    "<p>You may consider all provided data or a selected timeframe. You are also free to explore the data further and extract additional insights other than the questions above.</p>\n",
    "<h2>Data Description</h2>\n",
    "<p>The file <code>actes-criminels.csv</code> contains the list of criminal acts recorded by the Service de police de la Ville de Montréal (SPVM). Description of columns and translation of values:</p>\n",
    "<ul>\n",
    "<li><code>CATEGORIE</code> (list of values) : Nature of the event:\n",
    "<ul>\n",
    "<li><strong>Introduction</strong> (eng. breaking and entering): breaking and entering a public establishment or private residence, theft of a firearm from a residence;</li>\n",
    "<li><strong>Vol dans / sur véhicule à moteur</strong> (eng. theft from/to a motor vehicle): theft of the contents of a motor vehicle (car, truck, motorbike, etc.) or of a vehicle part (wheel, bumper, etc.)</li>\n",
    "<li><strong>Vol de véhicule à moteur</strong> (eng. theft of a motor vehicle): theft of a car, truck, motorbike, snowmobile with or without a trailer, construction or farm vehicle, all-terrain vehicle</li>\n",
    "<li><strong>Méfait</strong> (eng. mischief): graffiti and damage to religious property, vehicle or general damage and all other types of mischief</li>\n",
    "<li><strong>Vol qualifié</strong> (eng. robbery) : robbery with the violence of business, financial institution, person, purse, armored car, vehicle, firearm, and all other types of robbery</li>\n",
    "<li><strong>Infraction entraînant la mort</strong> (eng. murder resulting in death): first-degree murder, second-degree murder, manslaughter, infanticide, criminal negligence, and all other types of offenses resulting in death;</li>\n",
    "</ul>\n",
    "</li>\n",
    "<li><code>DATE</code> (date) : Date the event was reported to the SPVM in YYYY-MM-DD format;</li>\n",
    "<li><code>QUART</code> (list of values): Time of day the event was reported to the SPVM:\n",
    "<ul>\n",
    "<li><strong>jour</strong> (eng. day): Between 8:01 a.m. and 4:00 p.m.</li>\n",
    "<li><strong>soir</strong> (eng. evening) : Between 4:01 pm and midnight</li>\n",
    "<li><strong>nuit</strong> (eng. night) : Between 00:01 and 8:00 a.m.;</li>\n",
    "</ul>\n",
    "</li>\n",
    "<li><code>PDQ</code> (numeric) : Number of the police precinct covering the territory where the event took place;</li>\n",
    "<li><code>X</code> (spatial coordinates): Geospatial position in MTM8 projection (SRID 2950);</li>\n",
    "<li><code>Y</code> (spatial coordinates): Geospatial position in MTM8 projection (SRID 2950);</li>\n",
    "<li><code>LATITUDE</code> (spatial coordinates): geographical position of the event after obfuscation to an intersection according to the WGS84 geodetic reference frame;</li>\n",
    "<li><code>LONGITUDE</code> (spatial coordinates): geographical position of the event after obfuscation at an intersection according to the WGS84 geodetic reference frame;</li>\n",
    "</ul>\n",
    "<p>The file <code>limitespdq.geojson</code> contains the area covered by each SPVM (police) precinct. Description of columns:</p>\n",
    "<ul>\n",
    "<li><code>PDQ</code> (numeric): precinct number (corresponds to the field <code>PDQ</code> in the first dataset);</li>\n",
    "<li><code>Nom_PDQ</code> (text): Name of the precinct;</li>\n",
    "<li><code>WKT</code> (text): Geometry in \"well-known text\" format of the multiple polygon corresponding to the territory of the precinct;</li>\n",
    "</ul>\n",
    "<p>For some analysis, you may want to extract the name of the neighborhood or an address from the geographic coordinates. To do this, you are encouraged to use a geocoding API such as <a href=\"https://nominatim.org/\">Nomatim</a>.</p>\n",
    "<h2>Practicalities</h2>\n",
    "<p>Analyze the provided data and answer the questions to the best of your abilities. Include the relevant tables/graphs/visualization to explain and support your findings. Make sure that the solution reflects your entire thought process including the preparation of data - it is more important how the code is structured rather than just the final result or plot. You are expected to spend no more than 3-6 hours on this project.</p></div>"
   ]
  },
  {
   "cell_type": "markdown",
   "id": "58dc3083",
   "metadata": {},
   "source": [
    "## **Data:**"
   ]
  },
  {
   "cell_type": "code",
   "execution_count": null,
   "id": "7d95b886",
   "metadata": {},
   "outputs": [],
   "source": []
  },
  {
   "cell_type": "markdown",
   "id": "e6de965e",
   "metadata": {},
   "source": [
    "## **Solution:**"
   ]
  },
  {
   "cell_type": "code",
   "execution_count": null,
   "id": "4b14bd6e",
   "metadata": {},
   "outputs": [],
   "source": []
  }
 ],
 "metadata": {},
 "nbformat": 4,
 "nbformat_minor": 5
}
