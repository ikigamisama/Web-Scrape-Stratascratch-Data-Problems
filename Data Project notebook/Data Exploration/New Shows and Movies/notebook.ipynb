{
 "cells": [
  {
   "cell_type": "markdown",
   "id": "005a249a",
   "metadata": {},
   "source": [
    "### **Link:** https://platform.stratascratch.com/data-projects/new-shows-and-movies"
   ]
  },
  {
   "cell_type": "markdown",
   "id": "9a0bbde6",
   "metadata": {},
   "source": [
    "### **Difficulty:** Easy"
   ]
  },
  {
   "cell_type": "markdown",
   "id": "8bfb380b",
   "metadata": {},
   "source": [
    "# New Shows and Movies"
   ]
  },
  {
   "cell_type": "markdown",
   "id": "7b443fba",
   "metadata": {},
   "source": [
    "<div><p><em>This data project has been used as a take-home assignment in the recruitment process for the data science positions at Netflix.</em></p>\n",
    "<h2>Assignment</h2>\n",
    "<p>Analyze the data and generate insights that could help Netflix in deciding which type of shows/movies to produce and how they can grow the business in different countries.</p>\n",
    "<p>You can start by exploring a few questions:</p>\n",
    "<ol>\n",
    "<li>What type of content is available in different countries?</li>\n",
    "<li>How has the number of movies released per year changed over the last 20-30 years?</li>\n",
    "<li>Comparison of tv shows vs. movies.</li>\n",
    "<li>What is the best time to launch a TV show?</li>\n",
    "<li>Analysis of actors/directors of different types of shows/movies.</li>\n",
    "<li>Does Netflix has more focus on TV Shows than movies in recent years?</li>\n",
    "<li>Understanding what content is available in different countries.</li>\n",
    "</ol>\n",
    "<h2>Data Description</h2>\n",
    "<p>The dataset provided to you in <code>netflix_data.csv</code> consists of a list of all the TV shows/movies available on Netflix.</p>\n",
    "<ul>\n",
    "<li><code>show_id</code> - a unique ID for every movie/show</li>\n",
    "<li><code>type</code> - identifier: a movie or TV show</li>\n",
    "<li><code>title</code> - the title of the movie/show</li>\n",
    "<li><code>director</code> - the name of the director of the movie/show</li>\n",
    "<li><code>cast</code> - actors involved in the movie/show</li>\n",
    "<li><code>country</code> - a country where the movie/show was produced</li>\n",
    "<li><code>date_added</code> - date it was added on Netflix</li>\n",
    "<li><code>release_year</code> - the actual release year of the movie/show</li>\n",
    "<li><code>rating</code> - TV rating of the movie/show</li>\n",
    "<li><code>duration</code> - total duration in minutes or number of seasons</li>\n",
    "<li><code>listed_in</code> - genre</li>\n",
    "<li><code>description</code> - the summary description</li>\n",
    "</ul>\n",
    "<h2>Practicalities</h2>\n",
    "<p>The exploration should have a goal. As you explore the data, keep in mind that you want to answer which type of shows to produce and how to grow the business. Ensure each recommendation is backed by data. The company is looking for data-driven insights, not personal opinions or anecdotes. Assume that you are presenting your findings to business executives who have only a basic understanding of data science. Avoid unnecessary technical jargon.</p></div>"
   ]
  },
  {
   "cell_type": "markdown",
   "id": "31ce7aca",
   "metadata": {},
   "source": [
    "## **Data:**"
   ]
  },
  {
   "cell_type": "code",
   "execution_count": null,
   "id": "ce475ff3",
   "metadata": {},
   "outputs": [],
   "source": []
  },
  {
   "cell_type": "markdown",
   "id": "f75a2cfd",
   "metadata": {},
   "source": [
    "## **Solution:**"
   ]
  },
  {
   "cell_type": "code",
   "execution_count": null,
   "id": "d2172fd8",
   "metadata": {},
   "outputs": [],
   "source": []
  }
 ],
 "metadata": {},
 "nbformat": 4,
 "nbformat_minor": 5
}
