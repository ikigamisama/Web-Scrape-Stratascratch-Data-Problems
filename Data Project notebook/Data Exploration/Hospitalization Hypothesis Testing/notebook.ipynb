{
 "cells": [
  {
   "cell_type": "markdown",
   "id": "b10e1105",
   "metadata": {},
   "source": [
    "### **Link:** https://platform.stratascratch.com/data-projects/hospitalization-hypothesis-testing"
   ]
  },
  {
   "cell_type": "markdown",
   "id": "002f72f7",
   "metadata": {},
   "source": [
    "### **Difficulty:** Easy"
   ]
  },
  {
   "cell_type": "markdown",
   "id": "3443933e",
   "metadata": {},
   "source": [
    "# Hospitalization Hypothesis Testing"
   ]
  },
  {
   "cell_type": "markdown",
   "id": "63bb365e",
   "metadata": {},
   "source": [
    "<div><p><em>This data project has been used as a take-home assignment in the recruitment process for the data science positions at Apollo Hospitals.</em></p>\n",
    "<p>Apollo Hospitals was established in 1983, renowned as the architect of modern healthcare in India. As the nation's first corporate hospital, Apollo Hospitals is acclaimed for pioneering the private healthcare revolution in the country.</p>\n",
    "<h2>Assignment</h2>\n",
    "<p>As a data scientist working at Apollo, the ultimate goal is to tease out meaningful and actionable insights from Patient-level collected data. You can help Apollo hospitals to be more efficient, influence diagnostic and treatment processes, and to map the spread of a pandemic.</p>\n",
    "<p>One of the best examples of data scientists making a meaningful difference at a global level is in the response to the COVID-19 pandemic, where they have improved information collection, provided ongoing and accurate estimates of infection spread and health system demand, and assessed the effectiveness of government policies.</p>\n",
    "<p><strong>The company wants to know:</strong></p>\n",
    "<ul>\n",
    "<li>Which variables are significant in predicting the reason for hospitalization for different regions;</li>\n",
    "<li>How well some variables like viral load, smoking, and severity level describe the hospitalization charges;</li>\n",
    "</ul>\n",
    "<h2>Data Description</h2>\n",
    "<p>The file <code>apollo_data.csv</code> contains anonymized data of COVID-19 hospital patients and contains the following variables:</p>\n",
    "<ul>\n",
    "<li><code>age</code> - an integer indicating the age of the primary beneficiary (excluding those above 64 years, since they are generally covered by the government)</li>\n",
    "<li><code>sex</code> - the policy holder's gender, either male or female</li>\n",
    "<li><code>smoker</code> - 'yes' or 'no' depending on whether the insured regularly smokes tobacco</li>\n",
    "<li><code>region</code> - beneficiary's place of residence in Delhi, divided into four geographic regions - northeast, southeast, southwest, or northwest</li>\n",
    "<li><code>viral load</code> - the amount of virus in an infected person's blood</li>\n",
    "<li><code>severity level</code> - an integer indicating how severe the patient is</li>\n",
    "<li><code>hospitalization charges</code> - individual medical costs billed to health insurance</li>\n",
    "</ul>\n",
    "<h2>Practicalities</h2>\n",
    "<p>Analyze the provided data and provide insights to the best of your abilities. Use statistical tests to support your claims. Include the relevant tables/graphs/visualization to explain what you have learned. Make sure that the solution reflects your entire thought process including the preparation of data - it is more important how the code is structured rather than just the final result or plot.</p></div>"
   ]
  },
  {
   "cell_type": "markdown",
   "id": "99f089b0",
   "metadata": {},
   "source": [
    "## **Data:**"
   ]
  },
  {
   "cell_type": "code",
   "execution_count": null,
   "id": "473ea546",
   "metadata": {},
   "outputs": [],
   "source": []
  },
  {
   "cell_type": "markdown",
   "id": "72f6cd39",
   "metadata": {},
   "source": [
    "## **Solution:**"
   ]
  },
  {
   "cell_type": "code",
   "execution_count": null,
   "id": "04115fde",
   "metadata": {},
   "outputs": [],
   "source": []
  }
 ],
 "metadata": {},
 "nbformat": 4,
 "nbformat_minor": 5
}
