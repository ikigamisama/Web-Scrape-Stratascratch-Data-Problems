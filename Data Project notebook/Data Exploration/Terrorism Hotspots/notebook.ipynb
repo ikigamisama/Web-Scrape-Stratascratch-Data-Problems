{
 "cells": [
  {
   "cell_type": "markdown",
   "id": "9bb99001",
   "metadata": {},
   "source": [
    "### **Link:** https://platform.stratascratch.com/data-projects/terrorism-hotspots"
   ]
  },
  {
   "cell_type": "markdown",
   "id": "f127ae01",
   "metadata": {},
   "source": [
    "### **Difficulty:** Medium"
   ]
  },
  {
   "cell_type": "markdown",
   "id": "b0dc906b",
   "metadata": {},
   "source": [
    "# Terrorism Hotspots"
   ]
  },
  {
   "cell_type": "markdown",
   "id": "134a9abb",
   "metadata": {},
   "source": [
    "<div><p><em>This data project has been used as an assignment during the LGM Data Science Virtual Internship.</em></p>\n",
    "<h2>Assignment</h2>\n",
    "<p>Imagine you are a security or defense analyst. Analyze the data and draw conclusions on the distribution and nature of terrorist incidents recorded around the world. In your analysis, include maps that visualize the location of different incidents. Your analysis may also provide answers to the following questions:</p>\n",
    "<ol>\n",
    "<li>How has the number of terrorist activities changed over the years? Are there certain regions where this trend is different from the global averages?</li>\n",
    "<li>Is the number of incidents and the number of casualties correlated? Can you spot any irregularities or outliers?</li>\n",
    "<li>What are the most common methods of attacks? Does it differ in various regions or in time?</li>\n",
    "<li>Plot the locations of attacks on a map to visualize their regional spread;</li>\n",
    "</ol>\n",
    "<p>You are also free to explore the data further and extract additional insights other than the questions above.</p>\n",
    "<h2>Data Description</h2>\n",
    "<p>The provided compressed file <code>globalterrorismdb_0718dist.tar.bz2</code> is an extract from the Global Terrorism Database (GTD) - an open-source database including information on terrorist attacks around the world from 1970 through 2017. The GTD includes systematic data on domestic as well as international terrorist incidents that have occurred during this time period and now includes more than 180,000 attacks. The database is maintained by researchers at the National Consortium for the Study of Terrorism and Responses to Terrorism (START), headquartered at the University of Maryland.</p>\n",
    "<p>Since the number of variables and instances is very large, for this project, feel free to select a subset of columns or a specific timeframe.</p>\n",
    "<p><strong>Explanation of selected columns:</strong></p>\n",
    "<ul>\n",
    "<li><code>success</code> - Success of a terrorist strike</li>\n",
    "<li><code>suicide</code> - 1 = \"Yes\" The incident was a suicide attack. 0 = \"No\" There is no indication that the incident was a suicide</li>\n",
    "<li><code>attacktype1</code> - The general method of attack</li>\n",
    "<li><code>attacktype1_txt</code> - The general method of attack and broad class of tactics used.</li>\n",
    "<li><code>targtype1_txt</code> - The general type of target/victim</li>\n",
    "<li><code>targsubtype1_txt</code> - The more specific target category</li>\n",
    "<li><code>target1</code> - The specific person, building, installation that was targeted and/or victimized</li>\n",
    "<li><code>natlty1_txt</code> - The nationality of the target that was attacked</li>\n",
    "<li><code>gname</code> - The name of the group that carried out the attack</li>\n",
    "<li><code>gsubname</code> - Additional details about group that carried out the attack like fractions</li>\n",
    "<li><code>nperps</code> - The total number of terrorists participating in the incident</li>\n",
    "<li><code>weaptype1_txt</code> - General type of weapon used in the incident</li>\n",
    "<li><code>weapsubtype1_txt</code> - More specific value for most of the Weapon Types</li>\n",
    "<li><code>nkill</code> - The number of total confirmed fatalities for the incident</li>\n",
    "<li><code>nkillus</code> - The number of U.S. citizens who died as a result of the incident</li>\n",
    "</ul>\n",
    "<p><strong>Hint</strong>\n",
    "The provided <code>.tar.bz2</code> file is a compressed CSV file. Its contents can be loaded to a Pandas DataFrame using the <code>read_csv()</code> method from the Pandas library as follows:</p>\n",
    "<pre><code>df = pd.read_csv(\"globalterrorismdb_0718dist.tar.bz2\", compression=\"bz2\")\n",
    "</code></pre>\n",
    "<h2>Practicalities</h2>\n",
    "<p>Analyze the provided data and answer the questions to the best of your abilities. Include the relevant tables/graphs/visualization to explain and support your findings. Make sure that the solution reflects your entire thought process including the preparation of data - it is more important how the code is structured rather than just the final result or plot. You are expected to spend no more than 1-3 hours on this project.</p></div>"
   ]
  },
  {
   "cell_type": "markdown",
   "id": "9c477a80",
   "metadata": {},
   "source": [
    "## **Data:**"
   ]
  },
  {
   "cell_type": "code",
   "execution_count": null,
   "id": "6c46e26e",
   "metadata": {},
   "outputs": [],
   "source": []
  },
  {
   "cell_type": "markdown",
   "id": "2326b899",
   "metadata": {},
   "source": [
    "## **Solution:**"
   ]
  },
  {
   "cell_type": "code",
   "execution_count": null,
   "id": "025672f1",
   "metadata": {},
   "outputs": [],
   "source": []
  }
 ],
 "metadata": {},
 "nbformat": 4,
 "nbformat_minor": 5
}
