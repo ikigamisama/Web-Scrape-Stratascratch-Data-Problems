{
 "cells": [
  {
   "cell_type": "markdown",
   "id": "a66b26ee",
   "metadata": {},
   "source": [
    "### **Link:** https://platform.stratascratch.com/data-projects/fraudsters-detection"
   ]
  },
  {
   "cell_type": "markdown",
   "id": "e2621403",
   "metadata": {},
   "source": [
    "### **Difficulty:** Medium"
   ]
  },
  {
   "cell_type": "markdown",
   "id": "7925850a",
   "metadata": {},
   "source": [
    "# Fraudsters Detection"
   ]
  },
  {
   "cell_type": "markdown",
   "id": "bbe08fc4",
   "metadata": {},
   "source": [
    "<div><p><em>This data project has been used as a take-home assignment in the recruitment process for the data science positions at Revolut.</em></p>\n",
    "<h2>Assignment</h2>\n",
    "<p>Explore the data for identified fraudsters and other users. What are your preliminary observations?\n",
    "Utilizing your findings from and some creativity, create some features. Explain your reasoning behind the features.\n",
    "Create an ML model which identifies fraudsters. Assess the quality of your model and explain.</p>\n",
    "<h2>Data Description</h2>\n",
    "<p>The file <code>users.csv</code> contains data on a subset of fictional banking users. The abbreviation 'KYC' stands for 'Know Your Customer' - a process of identifying and verifying the client's identity when opening an account and periodically over time. The variable <code>IS_FRAUDSTER</code> from this dataset is your target variable. The file <code>transactions.csv</code> contains details of fictional transactions of these users.</p>\n",
    "<p>The files <code>countries.csv</code> and <code>currency_details.csv</code> are dictionaries that provide explanations of abbreviations used in columns <code>COUNTRY</code> of the users dataset and <code>CURRENCY</code> of the transactions dataset respectively. These dictionaries may be useful but you don't need to use them when solving this task.</p>\n",
    "<h2>Practicalities</h2>\n",
    "<p>Define, train and evaluate predictive models that take as the input the data provided. You may want to split the data into training, testing and validation sets, according to your discretion. Do not use external data for this project. You may use any algorithm of your choice or compare multiple models.</p>\n",
    "<p>Make sure that the solution reflects your entire thought process - it is more important how the code is structured rather than the final metrics. You are expected to spend no more than 3 hours working on this project.</p></div>"
   ]
  },
  {
   "cell_type": "markdown",
   "id": "45b077c5",
   "metadata": {},
   "source": [
    "## **Data:**"
   ]
  },
  {
   "cell_type": "code",
   "execution_count": null,
   "id": "420f67bd",
   "metadata": {},
   "outputs": [],
   "source": []
  },
  {
   "cell_type": "markdown",
   "id": "9061ecf7",
   "metadata": {},
   "source": [
    "## **Solution:**"
   ]
  },
  {
   "cell_type": "code",
   "execution_count": null,
   "id": "3665b824",
   "metadata": {},
   "outputs": [],
   "source": []
  }
 ],
 "metadata": {},
 "nbformat": 4,
 "nbformat_minor": 5
}
