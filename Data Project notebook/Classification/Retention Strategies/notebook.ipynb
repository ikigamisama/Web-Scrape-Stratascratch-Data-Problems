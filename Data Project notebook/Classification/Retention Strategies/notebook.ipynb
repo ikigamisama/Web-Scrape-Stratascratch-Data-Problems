{
 "cells": [
  {
   "cell_type": "markdown",
   "id": "d7ab03f0",
   "metadata": {},
   "source": [
    "### **Link:** https://platform.stratascratch.com/data-projects/retention-strategies"
   ]
  },
  {
   "cell_type": "markdown",
   "id": "ff55784c",
   "metadata": {},
   "source": [
    "### **Difficulty:** Medium"
   ]
  },
  {
   "cell_type": "markdown",
   "id": "c1780f26",
   "metadata": {},
   "source": [
    "# Retention Strategies"
   ]
  },
  {
   "cell_type": "markdown",
   "id": "56c701b3",
   "metadata": {},
   "source": [
    "<div><p><em>This data project has been used as a take-home assignment in the recruitment process for the data science positions at Telco.</em></p>\n",
    "<h2>Assignment</h2>\n",
    "<p>Start by defining and training a classification model to predict the churn of customers of a telecommunication company. Based on the data analysis, and possibly, the feature importance analysis in the model, suggest strategies that can be used to retain the customers. Simulate your strategies by altering the data and confirm their effectiveness using the model.</p>\n",
    "<h2>Data Description</h2>\n",
    "<p>The customer churn data is given in the file <code>Telco-Customer-Churn.json</code>. Each row represents a customer, each column contains customer’s attributes described on the column Metadata.</p>\n",
    "<p>The data set includes information about:</p>\n",
    "<ul>\n",
    "<li>Customers who left within the last month – the column is called Churn;</li>\n",
    "<li>Services that each customer has signed up for – phone, multiple lines, internet, online security, online backup, device protection, tech support, and streaming TV and movies;</li>\n",
    "<li>Customer account information – how long they’ve been a customer, contract, payment method, paperless billing, monthly charges, and total charges;</li>\n",
    "<li>Demographic info about customers – gender, age range, and if they have partners and dependents.</li>\n",
    "</ul>\n",
    "<h2>Practicalities</h2>\n",
    "<p>Define, train and evaluate a predictive model that takes as the input the data provided. You may want to split the data into training, testing and validation sets, according to your discretion. Do not use external data for this project. You may use any algorithm of your choice or compare multiple models.</p>\n",
    "<p>Make sure that the solution reflects your entire thought process - it is more important how the code is structured rather than the final metrics. You are expected to spend no more than 4 hours working on this project.</p></div>"
   ]
  },
  {
   "cell_type": "markdown",
   "id": "b85c78f4",
   "metadata": {},
   "source": [
    "## **Data:**"
   ]
  },
  {
   "cell_type": "code",
   "execution_count": null,
   "id": "4fa78a9a",
   "metadata": {},
   "outputs": [],
   "source": []
  },
  {
   "cell_type": "markdown",
   "id": "a758ea05",
   "metadata": {},
   "source": [
    "## **Solution:**"
   ]
  },
  {
   "cell_type": "code",
   "execution_count": null,
   "id": "42f8de17",
   "metadata": {},
   "outputs": [],
   "source": []
  }
 ],
 "metadata": {},
 "nbformat": 4,
 "nbformat_minor": 5
}
