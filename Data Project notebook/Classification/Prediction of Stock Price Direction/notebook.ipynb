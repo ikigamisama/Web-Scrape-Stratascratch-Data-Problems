{
 "cells": [
  {
   "cell_type": "markdown",
   "id": "3afd6212",
   "metadata": {},
   "source": [
    "### **Link:** https://platform.stratascratch.com/data-projects/prediction-stock-price-direction"
   ]
  },
  {
   "cell_type": "markdown",
   "id": "d73d1fa4",
   "metadata": {},
   "source": [
    "### **Difficulty:** Hard"
   ]
  },
  {
   "cell_type": "markdown",
   "id": "1005ed71",
   "metadata": {},
   "source": [
    "# Prediction of Stock Price Direction"
   ]
  },
  {
   "cell_type": "markdown",
   "id": "eb51aa6b",
   "metadata": {},
   "source": [
    "<div><p><em>This data project has been used as a take-home assignment in the recruitment process for the data science positions at NeuroTrade.</em></p>\n",
    "<h2>Assignment</h2>\n",
    "<p>The task is to predict the day price direction of Amazon.com, Inc. (AMZN) stock.</p>\n",
    "<p>The stock market is very complex and highly volatile. In order to be profitable, we do not need to predict the correct price, but rather, the price direction: whether it will be higher or lower than the price that is today. If we predict it to be higher, we might as well buy some stocks, else, we should probably sell.</p>\n",
    "<p>Therefore, the target would be a binary classification whether the next day closing price will be higher than the opening price.</p>\n",
    "<h2>Data Description</h2>\n",
    "<p>We have data for the period from <code>1997</code> up to year <code>2020</code> that we have split that into training (<code>1997-2016</code>), validation (<code>2016-2018</code>) and testing (<code>2018-2020</code>) periods. The data is available in the <code>AMZN_train.csv</code>, <code>AMZN_val.csv</code> and <code>AMZN_test.csv</code> files, respectively.</p>\n",
    "<p>Each dataset has the same format with the following 7 columns:</p>\n",
    "<ul>\n",
    "<li><code>Date</code> - in format <code>YYYY-MM-DD</code></li>\n",
    "<li><code>Open</code> - stock price upon opening of an exchange</li>\n",
    "<li><code>High</code> - the highest stock price on a given day</li>\n",
    "<li><code>Low</code> - the lowest stock price on a given day</li>\n",
    "<li><code>Close</code> - stock price at the end of a trading day</li>\n",
    "<li><code>Adj Close</code> - <a href=\"https://www.investopedia.com/terms/a/adjusted_closing_price.asp\">adjusted closing price</a> that takes into account corporate actions</li>\n",
    "<li><code>Volume</code> - the amount of shares traded over the course of a trading day</li>\n",
    "</ul>\n",
    "<h2>Practicalities</h2>\n",
    "<p>Define, train and evaluate a predictive model that takes as the input the data provided. Do not use external data for this project. You may use any algorithm of your choice or compare multiple models.</p>\n",
    "<p>Make sure that the solution reflects your entire thought process - it is more important how the code is structured rather than the final metrics. You may assume that any model resulting in AUC &gt; 0.515 will be enough. You are expected to spend no more than 3 hours working on this project.</p></div>"
   ]
  },
  {
   "cell_type": "markdown",
   "id": "d8abacf1",
   "metadata": {},
   "source": [
    "## **Data:**"
   ]
  },
  {
   "cell_type": "code",
   "execution_count": null,
   "id": "4a2a4c82",
   "metadata": {},
   "outputs": [],
   "source": []
  },
  {
   "cell_type": "markdown",
   "id": "5fdfa28e",
   "metadata": {},
   "source": [
    "## **Solution:**"
   ]
  },
  {
   "cell_type": "code",
   "execution_count": null,
   "id": "07f7e93c",
   "metadata": {},
   "outputs": [],
   "source": []
  }
 ],
 "metadata": {},
 "nbformat": 4,
 "nbformat_minor": 5
}
