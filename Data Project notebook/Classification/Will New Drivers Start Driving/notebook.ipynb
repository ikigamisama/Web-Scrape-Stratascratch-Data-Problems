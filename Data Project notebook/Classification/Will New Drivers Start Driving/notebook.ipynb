{
 "cells": [
  {
   "cell_type": "markdown",
   "id": "90341904",
   "metadata": {},
   "source": [
    "### **Link:** https://platform.stratascratch.com/data-projects/will-new-drivers-start-driving"
   ]
  },
  {
   "cell_type": "markdown",
   "id": "a87ad9ad",
   "metadata": {},
   "source": [
    "### **Difficulty:** Medium"
   ]
  },
  {
   "cell_type": "markdown",
   "id": "704d4228",
   "metadata": {},
   "source": [
    "# Will New Drivers Start Driving?"
   ]
  },
  {
   "cell_type": "markdown",
   "id": "fd135ef6",
   "metadata": {},
   "source": [
    "<div><p><em>This data project has been used as a take-home assignment in the recruitment process for the data science positions at Uber.</em></p>\n",
    "<h2>Assignment</h2>\n",
    "<p>Uber’s Driver team is interested in predicting which driver signups are most likely to start driving. To help explore this question, we have provided a sample dataset of a cohort of driver signups in January 2016.The data was pulled a few months after they signed up to include the result of whether they actually completed their first trip. It also includes several pieces of background information gather about the driver and their car.</p>\n",
    "<p>We would like you to use this data set to help understand what factors are best at predicting whether a signup will start to drive, and offer suggestions to operationalize those insights to help Uber.</p>\n",
    "<p>See below for a detailed description of the dataset. Please include any code you wrote for the analysis and delete the dataset when you have finished with the challenge. Please also call out any data related assumptions or issues that you encounter.</p>\n",
    "<ol>\n",
    "<li>Perform any cleaning, exploratory analysis, and/or visualizations to use the provided data for this analysis (a few sentences/plots describing your approach will suffice). What fraction of the driver signups took a first trip?</li>\n",
    "<li>Build a predictive model to help Uber determine whether or not a driver signup will start driving. Discuss why you chose your approach, what alternatives you considered, and any concerns you have. How valid is your model? Include any key indicators of model performance.</li>\n",
    "<li>Briefly discuss how Uber might leverage the insights gained from the model to generate more first trips (again, a few ideas/sentences will suffice).</li>\n",
    "</ol>\n",
    "<h2>Data Description</h2>\n",
    "<ul>\n",
    "<li><code>id</code>: driver_id</li>\n",
    "<li><code>city_id</code>: city_id this user signed up in</li>\n",
    "<li><code>signup_os</code>: signup device of the user (“android”, “ios”, “website”, “other”)</li>\n",
    "<li><code>signup_channel</code>: what channel did the driver sign up from (“offline”, “paid”, “organic”, “referral”)</li>\n",
    "<li><code>signup_timestamp</code>: timestamp of account creation; local time in the form ‘YYYY MM DD’</li>\n",
    "<li><code>bgc_date</code>: date of background check consent; in the form ‘YYYY MM DD’</li>\n",
    "<li><code>vehicle_added_date</code>: date when driver’s vehicle information was uploaded; in the form ‘YYYY MM DD’</li>\n",
    "<li><code>first_trip_date</code>: date of the first trip as a driver; in the form ‘YYYY MM DD’</li>\n",
    "<li><code>vehicle_make</code>: make of vehicle uploaded (i.e. Honda, Ford, Kia)</li>\n",
    "<li><code>vehicle_model</code>: model of vehicle uploaded (i.e. Accord, Prius, 350z)</li>\n",
    "<li><code>vehicle_year</code>: year that the car was made; in the form ‘YYYY’</li>\n",
    "</ul>\n",
    "<h2>Practicalities</h2>\n",
    "<p>Please work on the questions in the displayed order. Define, train and evaluate predictive models that takes as the input the data provided. You may want to split the data into training, testing and validation sets, according to your discretion.</p>\n",
    "<p>Make sure that the solution reflects your entire thought process - it is more important how the code is structured rather than the final metrics. You are expected to spend no more than 3 hours working on this project.</p></div>"
   ]
  },
  {
   "cell_type": "markdown",
   "id": "a9070da2",
   "metadata": {},
   "source": [
    "## **Data:**"
   ]
  },
  {
   "cell_type": "code",
   "execution_count": null,
   "id": "c5033f3d",
   "metadata": {},
   "outputs": [],
   "source": []
  },
  {
   "cell_type": "markdown",
   "id": "0f76930b",
   "metadata": {},
   "source": [
    "## **Solution:**"
   ]
  },
  {
   "cell_type": "code",
   "execution_count": null,
   "id": "64db2c35",
   "metadata": {},
   "outputs": [],
   "source": []
  }
 ],
 "metadata": {},
 "nbformat": 4,
 "nbformat_minor": 5
}
