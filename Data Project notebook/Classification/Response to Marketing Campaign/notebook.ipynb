{
 "cells": [
  {
   "cell_type": "markdown",
   "id": "ec03f966",
   "metadata": {},
   "source": [
    "### **Link:** https://platform.stratascratch.com/data-projects/response-marketing-campaign"
   ]
  },
  {
   "cell_type": "markdown",
   "id": "609c73f7",
   "metadata": {},
   "source": [
    "### **Difficulty:** Easy"
   ]
  },
  {
   "cell_type": "markdown",
   "id": "5f33e629",
   "metadata": {},
   "source": [
    "# Response to Marketing Campaign"
   ]
  },
  {
   "cell_type": "markdown",
   "id": "5b6b2321",
   "metadata": {},
   "source": [
    "<div><p><em>This data project has been used as a take-home assignment in the recruitment process for the data science positions at SparkCognition.</em></p>\n",
    "<h2>Assignment</h2>\n",
    "<p>You are working for SparkCognition as a Data Scientist. SparkCognition has been commissioned by an insurance company to develop a tool to optimize their marketing efforts. They have given us a data set as a result of an email marketing campaign. The data set includes customer information, described below, as a well as whether the customer responded to the marketing campaign or not.</p>\n",
    "<p>Design a model that will be able to predict whether a customer will respond to the marketing campaign based on his/her information. In other words, predict the <code>responded</code> target variable described above based on all the input variables provided.</p>\n",
    "<p>Briefly answer the following questions:</p>\n",
    "<ul>\n",
    "<li>Describe your model and why did you choose this model over other types of models?</li>\n",
    "<li>Describe any other models you have tried and why do you think this model preforms better?</li>\n",
    "<li>How did you handle missing data?</li>\n",
    "<li>How did you handle categorical (string) data?</li>\n",
    "<li>How did you handle unbalanced data?</li>\n",
    "<li>How did you test your model?</li>\n",
    "</ul>\n",
    "<h2>Data Description</h2>\n",
    "<p><strong>Files:</strong></p>\n",
    "<ul>\n",
    "<li><code>marketing_training.csv</code> - contains the training set that you will use to build the\n",
    "model. The target variable is <code>responded</code>.</li>\n",
    "<li><code>marketing_test.csv</code> – contains testing data where the input variables are provided\n",
    "but not the <code>responded</code> target column.</li>\n",
    "</ul>\n",
    "<p><strong>Descriptions of each column:</strong></p>\n",
    "<table><thead><tr><th>Type</th><th>Name</th><th>Description</th></tr></thead><tbody><tr><td>Input Variables</td><td>custAge</td><td>The age of the customer (in years)</td></tr><tr><td>Input Variables</td><td>profession</td><td>Type of job</td></tr><tr><td>Input Variables</td><td>marital</td><td>Marital status</td></tr><tr><td>Input Variables</td><td>schooling</td><td>Education level</td></tr><tr><td>Input Variables</td><td>default</td><td>Has a previous defaulted account?</td></tr><tr><td>Input Variables</td><td>housing</td><td>Has a housing loan?</td></tr><tr><td>Input Variables</td><td>contact</td><td>Preferred contact type</td></tr><tr><td>Input Variables</td><td>month</td><td>Last contact month</td></tr><tr><td>Input Variables</td><td>day_of_week</td><td>Last contact day of week</td></tr><tr><td>Input Variables</td><td>campaign</td><td>Number of times the customer was contacted</td></tr><tr><td>Input Variables</td><td>pdays</td><td>Number of days that passed by after the client was last contacted from a previous campaign (numeric; 999 means client was not previous contacted)</td></tr><tr><td>Input Variables</td><td>previous</td><td>Number of contacts performed before this campaign for this client</td></tr><tr><td>Input Variables</td><td>poutcome</td><td>Outcome of the previous marketing campaign</td></tr><tr><td>Input Variables</td><td>emp.var.rate</td><td>Employment variation rate - quartlerly indicator</td></tr><tr><td>Input Variables</td><td>cons.price.idx</td><td>Consumer price index - monthly indicator</td></tr><tr><td>Input Variables</td><td>cons.conf.idx</td><td>Consumer confidence index - monthly indicator</td></tr><tr><td>Input Variables</td><td>euribor3m</td><td>Euribor 3 months rate - daily indicator</td></tr><tr><td>Input Variables</td><td>nr.employed</td><td>Number of employees - quarterly indicator</td></tr><tr><td>Input Variables</td><td>pmonths</td><td>Number of months that passed by after the client was last contacted from a previous campaign (numeric; 999 means client was not previous contacted)</td></tr><tr><td>Input Variables</td><td>pastEmail</td><td>Number of previous emails sent to this user</td></tr><tr><td><strong>Target Variables</strong></td><td>responded</td><td>Did the customer respond to the marketing campaign and purchase a policy?</td></tr></tbody></table>\n",
    "<h2>Practicalities</h2>\n",
    "<p>Provide the following:</p>\n",
    "<ul>\n",
    "<li>The source code you used to build the model and make predictions. (You are free to use any language and any open-source package/library)</li>\n",
    "<li>A <code>.csv</code> file containing the predictions of the test data. You can add the target column (<code>responded</code>) to the test data or simply provide it alone with the <code>id</code> column.</li>\n",
    "</ul></div>"
   ]
  },
  {
   "cell_type": "markdown",
   "id": "8340f666",
   "metadata": {},
   "source": [
    "## **Data:**"
   ]
  },
  {
   "cell_type": "code",
   "execution_count": null,
   "id": "b574a784",
   "metadata": {},
   "outputs": [],
   "source": []
  },
  {
   "cell_type": "markdown",
   "id": "bf293309",
   "metadata": {},
   "source": [
    "## **Solution:**"
   ]
  },
  {
   "cell_type": "code",
   "execution_count": null,
   "id": "50cbc442",
   "metadata": {},
   "outputs": [],
   "source": []
  }
 ],
 "metadata": {},
 "nbformat": 4,
 "nbformat_minor": 5
}
