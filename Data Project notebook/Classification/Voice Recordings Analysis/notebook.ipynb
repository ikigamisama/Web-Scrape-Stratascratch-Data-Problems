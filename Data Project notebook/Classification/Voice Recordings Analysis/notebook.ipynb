{
 "cells": [
  {
   "cell_type": "markdown",
   "id": "c1a44ea5",
   "metadata": {},
   "source": [
    "### **Link:** https://platform.stratascratch.com/data-projects/voice-recordings-analysis"
   ]
  },
  {
   "cell_type": "markdown",
   "id": "5b07f160",
   "metadata": {},
   "source": [
    "### **Difficulty:** Hard"
   ]
  },
  {
   "cell_type": "markdown",
   "id": "97a15493",
   "metadata": {},
   "source": [
    "# Voice Recordings Analysis"
   ]
  },
  {
   "cell_type": "markdown",
   "id": "b87a9a5b",
   "metadata": {},
   "source": [
    "<div><p><em>This data project has been used as a take-home assignment in the recruitment process for the data science positions at Sandvik.</em></p>\n",
    "<h2>Assignment</h2>\n",
    "<p>The following assignment will let you extract, explore and analyze audio data from English speaking male and females, and <strong>build learning models aimed to predict a given person's gender using vocal features, such as mean frequency, spectral entropy or mode frequency.</strong></p>\n",
    "<p>Contrary to most online communities that share datasets for data science, machine learning and artificial intelligence applications, readymade datasets rarely exist out in the wild, and you will have to explore one or more ways of downloading and extracting meaningful features from a raw dataset containing thousands of individual audio files.</p>\n",
    "<p><strong>Question Set</strong>\n",
    "The following are reference points that should be taken into account in the submission. Please use them to guide the reasoning behind the feature extraction, exploration, analysis and model building, rather than answer them point blank.</p>\n",
    "<ol>\n",
    "<li>How did you go about extracting features from the raw data?</li>\n",
    "<li>Which features do you believe contain relevant information?\n",
    "<ol>\n",
    "<li>How did you decide which features matter most?</li>\n",
    "<li>Do any features contain similar information content?</li>\n",
    "<li>Are there any insights about the features that you didn't expect? If so, what are they?</li>\n",
    "<li>Are there any other (potential) issues with the features you've chosen? If so, what are they?</li>\n",
    "</ol>\n",
    "</li>\n",
    "<li>Which goodness of fit metrics have you chosen, and what do they tell you about the model(s) performance?\n",
    "<ol>\n",
    "<li>Which model performs best?</li>\n",
    "<li>How would you decide between using a more sophisticated model versus a less complicated one?</li>\n",
    "</ol>\n",
    "</li>\n",
    "<li>What kind of benefits do you think your model(s) could have as part of an enterprise application or service?</li>\n",
    "</ol>\n",
    "<h2>Data Description</h2>\n",
    "<p>The provided dataset (when clicking the 'Download Datasets' button on this page) is a small extract from a repository of voice recordings. The raw data is compressed using <code>.tgz</code> files. The extract contains 100 such files with 1000 voice samples in total. Each sample is a recording of a short English sentence spoken by either a male or a female speaker. The format of a sample is <code>.wav</code> with a sampling rate of 16kHz and a bit depth of 16-bit.</p>\n",
    "<p>Each <code>.tgz</code> compressed file contains the following directory structure and files:</p>\n",
    "<ul>\n",
    "<li><code>&lt;file&gt;/</code>\n",
    "<ul>\n",
    "<li><code>etc/</code>\n",
    "<ul>\n",
    "<li><code>GPL_license.txt</code></li>\n",
    "<li><code>HDMan_log</code></li>\n",
    "<li><code>HVite_log</code></li>\n",
    "<li><code>Julius_log</code></li>\n",
    "<li><code>PROMPTS</code></li>\n",
    "<li><code>prompts-original</code></li>\n",
    "<li><code>README</code></li>\n",
    "</ul>\n",
    "</li>\n",
    "<li><code>LICENSE</code></li>\n",
    "<li><code>wav/</code>\n",
    "<ul>\n",
    "<li>10 unique <code>.wav</code> audio files</li>\n",
    "</ul>\n",
    "</li>\n",
    "</ul>\n",
    "</li>\n",
    "</ul>\n",
    "<p>However, to increase the performance of a model, you may fetch the data directly from the original repository that can be found <strong><a href=\"http://www.repository.voxforge1.org/downloads/SpeechCorpus/Trunk/Audio/Main/16kHz_16bit/\">here</a></strong>. This repository consists of over 100,000 audio samples. The total size of the raw dataset is approximately 12.5 GB once it has been uncompressed.</p>\n",
    "<h2>Practicalities</h2>\n",
    "<p>This assignment should be completed within 10 days. You should present your work in a way that clearly and succinctly walks us through your approach to extracting features, exploring them, uncovering any potential constraints or issues with the data in its provided form, your choice of predictive models and your analysis of the models' performance. Try to keep it concise.</p>\n",
    "<p>A good presentation presents potential caveats, findings and insights about the dataset and an analysis of the goodness of fit metrics, including benchmarking on the performance of different learning models.</p>\n",
    "<p>A great presentation tells a visual, potentially even interactive, story about the data and how specific insights can be used to guide our product development so that non-technical colleagues can understand and act upon them.</p>\n",
    "<h3>Tips</h3>\n",
    "<p>We recommend considering the following for your data pre-processing:</p>\n",
    "<ol>\n",
    "<li>Automate the raw data download using web scraping techniques</li>\n",
    "<li>Pre-process data using audio signal processing packages such as <a href=\"https://cran.r-project.org/web/packages/warbleR/vignettes/warbleR_workflow.html\">WarbleR</a>, <a href=\"https://cran.r-project.org/web/packages/tuneR/index.html\">TuneR</a>, <a href=\"https://cran.r-project.org/web/packages/seewave/index.html\">seewave</a> for R, or similar packages for other programming languages</li>\n",
    "<li>Consider, in particular, the <a href=\"https://en.wikipedia.org/wiki/Voice_frequency#Fundamental_frequency\">human vocal range</a>, which typically resides within the range of <strong>0Hz-280Hz</strong></li>\n",
    "<li>To help you on your way to identify potentially interesting features, consider the following (non-exhaustive) list:\n",
    "<ul>\n",
    "<li>Mean frequency (in kHz)</li>\n",
    "<li>Standard deviation of frequency</li>\n",
    "<li>Median frequency (in kHz)</li>\n",
    "<li>First quantile (in kHz)</li>\n",
    "<li>Third quantile (in kHz)</li>\n",
    "<li>Inter-quantile range (in kHz)</li>\n",
    "<li>Skewness</li>\n",
    "<li>Kurtosis</li>\n",
    "<li>Mode frequency</li>\n",
    "<li>Peak frequency</li>\n",
    "</ul>\n",
    "</li>\n",
    "<li>Make sure to check out all of the files in the raw data, you might find valuable data in files beyond the audio ones</li>\n",
    "</ol>\n",
    "<h3>Frequently Asked Questions</h3>\n",
    "<ol>\n",
    "<li>\n",
    "<p><strong>Can I use &lt;Insert SDK or Framework here&gt; for the take home assignment?</strong></p>\n",
    "<blockquote>\n",
    "<p><strong>Answer:</strong> Yes, you are free to make use of the tools that you are most comfortable working with. We work with a mix of frameworks, and try to use the one best fit for the task at hand.</p>\n",
    "</blockquote>\n",
    "</li>\n",
    "<li>\n",
    "<p><strong>The raw data is too large to fit in memory, what do I do?</strong></p>\n",
    "<blockquote>\n",
    "<p><strong>Answer:</strong> This is part of the challenge, and the dataset is by design larger than can fit in memory for a normal computer. You will have to come up with a solution that enables processing of the data in a batch-like, or streaming, fashion, to extract meaningful features.</p>\n",
    "</blockquote>\n",
    "</li>\n",
    "</ol></div>"
   ]
  },
  {
   "cell_type": "markdown",
   "id": "032ccb4d",
   "metadata": {},
   "source": [
    "## **Data:**"
   ]
  },
  {
   "cell_type": "code",
   "execution_count": null,
   "id": "4c20649a",
   "metadata": {},
   "outputs": [],
   "source": []
  },
  {
   "cell_type": "markdown",
   "id": "c263674a",
   "metadata": {},
   "source": [
    "## **Solution:**"
   ]
  },
  {
   "cell_type": "code",
   "execution_count": null,
   "id": "6ff1c227",
   "metadata": {},
   "outputs": [],
   "source": []
  }
 ],
 "metadata": {},
 "nbformat": 4,
 "nbformat_minor": 5
}
