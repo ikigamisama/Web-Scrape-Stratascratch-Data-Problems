{
 "cells": [
  {
   "cell_type": "markdown",
   "id": "c96afbad",
   "metadata": {},
   "source": [
    "### **Link:** https://platform.stratascratch.com/data-projects/flagging-loans"
   ]
  },
  {
   "cell_type": "markdown",
   "id": "b799b3e2",
   "metadata": {},
   "source": [
    "### **Difficulty:** Hard"
   ]
  },
  {
   "cell_type": "markdown",
   "id": "694bd519",
   "metadata": {},
   "source": [
    "# Flagging Loans"
   ]
  },
  {
   "cell_type": "markdown",
   "id": "25f5be93",
   "metadata": {},
   "source": [
    "<div><p><em>This data project has been used as a take-home assignment in the recruitment process for the data science positions at Mokka.</em></p>\n",
    "<h2>Assignment</h2>\n",
    "<p>Using the available dataset, build a model that will predict the value of the target variable <code>bad_flag</code>. Prepare a  presentation, as a Jupyter notebook, where you will train and test different models, argue for the choice for the best  model and show the expected default rate at different approval levels.</p>\n",
    "<h2>Data Description</h2>\n",
    "<p>The provided CSV file (<code>test_task.csv</code>) contains data on repeated loans from current clients.</p>\n",
    "<h2>Practicalities</h2>\n",
    "<p>You will need to provide a Jupyter Notebook that describes your approach as a result of this task.</p>\n",
    "<p>Since it is an open-ended task, your solution will need to include your thought process, including data exploration,  model training, evaluation, and selection procedures, results, and interpretation. The assignment explicitly mentions  model selection as an important part, so make sure that is reflected in your solution.</p>\n",
    "<p>It is important that your code is well-structured, and all output (numerical and visual) are properly documented and  easily readable. Always keep in mind that the final document would be read by someone with a business background,  so be sure to clearly explain any technical terms and metrics. You should spend no more than 3-4 hours on this task.</p></div>"
   ]
  },
  {
   "cell_type": "markdown",
   "id": "0a1360ae",
   "metadata": {},
   "source": [
    "## **Data:**"
   ]
  },
  {
   "cell_type": "code",
   "execution_count": null,
   "id": "b4fa51cd",
   "metadata": {},
   "outputs": [],
   "source": []
  },
  {
   "cell_type": "markdown",
   "id": "87682f38",
   "metadata": {},
   "source": [
    "## **Solution:**"
   ]
  },
  {
   "cell_type": "code",
   "execution_count": null,
   "id": "30a8879a",
   "metadata": {},
   "outputs": [],
   "source": []
  }
 ],
 "metadata": {},
 "nbformat": 4,
 "nbformat_minor": 5
}
