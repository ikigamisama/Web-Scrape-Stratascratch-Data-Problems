{
 "cells": [
  {
   "cell_type": "markdown",
   "id": "6af73381",
   "metadata": {},
   "source": [
    "### **Link:** https://platform.stratascratch.com/data-projects/rotten-tomatoes-movies-rating-prediction"
   ]
  },
  {
   "cell_type": "markdown",
   "id": "f73ef178",
   "metadata": {},
   "source": [
    "### **Difficulty:** Medium"
   ]
  },
  {
   "cell_type": "markdown",
   "id": "392e7b23",
   "metadata": {},
   "source": [
    "# Rotten Tomatoes Movies Rating Prediction"
   ]
  },
  {
   "cell_type": "markdown",
   "id": "e0733017",
   "metadata": {},
   "source": [
    "<div><p><em>This data project has been used as a take-home assignment in the recruitment process for the data science positions at Meta (Facebook).</em></p>\n",
    "<h2>Assignment</h2>\n",
    "<p>In this project, you are given large datasets from <a href=\"https://www.rottentomatoes.com/\">Rotten Tomatoes</a> - a popular online review aggregator for film and television. Your task is to build a high performing classification algorithm to predict whether a particular movie on Rotten Tomatoes is labeled as 'Rotten', 'Fresh', or 'Certified-Fresh'.</p>\n",
    "<h2>Data Description</h2>\n",
    "<p>There are 2 datasets</p>\n",
    "<ol>\n",
    "<li><code>rotten_tomatoes_movies.csv</code> - contains basic information about each movie listed on Rotten Tomatoes; each row represents one movie;</li>\n",
    "<li><code>rotten_tomatoes_critic_reviews_50k.tsv</code> - contains 50.000 individual reviews by Rotten Tomatoes critics; each row represents one review corresponding to a movie;</li>\n",
    "</ol>\n",
    "<p><code>rotten_tomatoes_movies</code> dataset contains the following columns:</p>\n",
    "<ul>\n",
    "<li><code>rotten_tomatoes_link</code> - movie ID</li>\n",
    "<li><code>movie_title</code> - title of the movie as displayed on the Rotten Tomatoes website</li>\n",
    "<li><code>movie_info</code> - brief description of the movie</li>\n",
    "<li><code>critics_consensus</code> - comment from Rotten Tomatoes</li>\n",
    "<li><code>content_rating</code> - category based on the movie suitability for audience</li>\n",
    "<li><code>genres</code> - movie genres separated by commes, if multiple</li>\n",
    "<li><code>directors</code> - name of director(s)</li>\n",
    "<li><code>authors</code> - name of author(s)</li>\n",
    "<li><code>actors</code> - name of actors</li>\n",
    "<li><code>original_release_date</code> - date in which the movie has been released in theatres, in YYY-MM-DD format</li>\n",
    "<li><code>streaming_release_date</code> - date in which the movie has been released on streaming platforms, in YYY-MM-DD format</li>\n",
    "<li><code>runtime</code> - duration of the movie in minutes</li>\n",
    "<li><code>production_company</code> - name of a studio/company that produced the movie</li>\n",
    "<li><code>tomatometer_status</code> - a label assgined by Rotten Tomatoes: \"Fresh\", \"Certified-Fresh\" or \"Rotten\"; <strong>this is the target variables in this challenge</strong></li>\n",
    "<li><code>tomatometer_rating</code> - percentage of positive critic ratings</li>\n",
    "<li><code>tomatometer_count</code> - critic ratings counted for the calculation of the tomatomer status</li>\n",
    "<li><code>audience_status</code> - a label assgined based on user ratings: \"Spilled\" or \"Upright\"</li>\n",
    "<li><code>audience_rating</code> - percentage of positive user ratings</li>\n",
    "<li><code>audience_count</code> - user ratings counted for the calculation of the audience status</li>\n",
    "<li><code>tomatometer_top_critics_count</code> - number of ratings by top critics</li>\n",
    "<li><code>tomatometer_fresh_critics_count</code> - number of critic ratings labeled \"Fresh\"</li>\n",
    "<li><code>tomatometer_rotten_critics_count</code> - - number of critic ratings labeled \"Rotten\"</li>\n",
    "</ul>\n",
    "<p><code>rotten_tomatoes_critic_reviews_50k</code> dataset contains the following columns:</p>\n",
    "<ul>\n",
    "<li><code>rotten_tomatoes_link</code> - movie ID</li>\n",
    "<li><code>critic_name</code> - name of critic who rated the movie</li>\n",
    "<li><code>top_critic</code> - boolean value that clarifies whether the critic is a top critic or not</li>\n",
    "<li><code>publisher_name</code> - name of the publisher for which the critic works</li>\n",
    "<li><code>review_type</code> - was the review labeled \"Fresh\" or \"Rotten\"?</li>\n",
    "<li><code>review_score</code> - review score provided by the critic</li>\n",
    "<li><code>review_date</code> - date of the review in YYYY-MM-DD format</li>\n",
    "<li><code>review_content</code> - text of the review</li>\n",
    "</ul>\n",
    "<h2>Practicalities</h2>\n",
    "<p>Define, train and evaluate a predictive model that takes as the input the data provided. You may want to split the data into training, testing and validation sets, according to your discretion. Do not use external data for this project. You may use any algorithm of your choice or compare multiple models.</p>\n",
    "<p>Make sure that the solution reflects your entire thought process - it is more important how the code is structured rather than the final metrics. You are expected to spend no more than 3 hours working on this project.</p></div>"
   ]
  },
  {
   "cell_type": "markdown",
   "id": "f226437a",
   "metadata": {},
   "source": [
    "## **Data:**"
   ]
  },
  {
   "cell_type": "code",
   "execution_count": null,
   "id": "acf0575e",
   "metadata": {},
   "outputs": [],
   "source": []
  },
  {
   "cell_type": "markdown",
   "id": "b19f002a",
   "metadata": {},
   "source": [
    "## **Solution:**"
   ]
  },
  {
   "cell_type": "code",
   "execution_count": null,
   "id": "0c575687",
   "metadata": {},
   "outputs": [],
   "source": []
  }
 ],
 "metadata": {},
 "nbformat": 4,
 "nbformat_minor": 5
}
