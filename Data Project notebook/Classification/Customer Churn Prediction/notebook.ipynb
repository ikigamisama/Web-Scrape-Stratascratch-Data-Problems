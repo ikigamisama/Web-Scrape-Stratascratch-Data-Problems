{
 "cells": [
  {
   "cell_type": "markdown",
   "id": "f1d36375",
   "metadata": {},
   "source": [
    "### **Link:** https://platform.stratascratch.com/data-projects/customer-churn-prediction"
   ]
  },
  {
   "cell_type": "markdown",
   "id": "99681c3e",
   "metadata": {},
   "source": [
    "### **Difficulty:** Medium"
   ]
  },
  {
   "cell_type": "markdown",
   "id": "d2402671",
   "metadata": {},
   "source": [
    "# Customer Churn Prediction"
   ]
  },
  {
   "cell_type": "markdown",
   "id": "2edcd730",
   "metadata": {},
   "source": [
    "<div><p><em>This data project has been used as a take-home assignment in the recruitment process for the data science positions at Sony Research.</em></p>\n",
    "<h2>Assignment</h2>\n",
    "<p>You are provided with a sample dataset of a telecom company’s customers and it's expected to done the following tasks:</p>\n",
    "<ul>\n",
    "<li>Perform exploratory analysis and extract insights from the dataset.</li>\n",
    "<li>Split the dataset into train/test sets and explain your reasoning.</li>\n",
    "<li>Build a predictive model to predict which customers are going to churn and discuss the reason why you choose a particular algorithm.</li>\n",
    "<li>Establish metrics to evaluate model performance.</li>\n",
    "<li>Discuss the potential issues with deploying the model into production.</li>\n",
    "</ul>\n",
    "<h2>Data Description</h2>\n",
    "<p>The customer churn data is given in the file <code>Data_Science_Challenge.csv</code>. The detailed explanation is as follows:</p>\n",
    "<table><thead><tr><th style=\"text-align: left;\">Column Name</th><th style=\"text-align: left;\">Column Type</th><th style=\"text-align: left;\">Column Description</th></tr></thead><tbody><tr><td style=\"text-align: left;\">State</td><td style=\"text-align: left;\">String</td><td style=\"text-align: left;\">The state where a customer comes from</td></tr><tr><td style=\"text-align: left;\">Account length</td><td style=\"text-align: left;\">Integer</td><td style=\"text-align: left;\">Number of days a customer has been using services</td></tr><tr><td style=\"text-align: left;\">Area code</td><td style=\"text-align: left;\">Integer</td><td style=\"text-align: left;\">The area where a customer comes from</td></tr><tr><td style=\"text-align: left;\">Phone number</td><td style=\"text-align: left;\">Alphanumeric</td><td style=\"text-align: left;\">The phone number of a customer</td></tr><tr><td style=\"text-align: left;\">International plan</td><td style=\"text-align: left;\">String</td><td style=\"text-align: left;\">The status of customer international plan</td></tr><tr><td style=\"text-align: left;\">Voicemail plan</td><td style=\"text-align: left;\">String</td><td style=\"text-align: left;\">The status of customer voicemail plan</td></tr><tr><td style=\"text-align: left;\">No. vmail msgs</td><td style=\"text-align: left;\">Integer</td><td style=\"text-align: left;\">Number of voicemail message sent by a customer</td></tr><tr><td style=\"text-align: left;\">Total day minutes</td><td style=\"text-align: left;\">Float</td><td style=\"text-align: left;\">Total call minutes spent by a customer during day time</td></tr><tr><td style=\"text-align: left;\">Total day calls</td><td style=\"text-align: left;\">Integer</td><td style=\"text-align: left;\">Total number of calls made by a customer during day time</td></tr><tr><td style=\"text-align: left;\">Total day charge</td><td style=\"text-align: left;\">Float</td><td style=\"text-align: left;\">Total amount charged to a customer during day time</td></tr><tr><td style=\"text-align: left;\">Total eve minutes</td><td style=\"text-align: left;\">Float</td><td style=\"text-align: left;\">Total call minutes spent by a customer during evening time</td></tr><tr><td style=\"text-align: left;\">Total eve calls</td><td style=\"text-align: left;\">Integer</td><td style=\"text-align: left;\">Total number of calls made by a customer during evening time</td></tr><tr><td style=\"text-align: left;\">Total eve charge</td><td style=\"text-align: left;\">Float</td><td style=\"text-align: left;\">Total amount charged to a customer during evening time</td></tr><tr><td style=\"text-align: left;\">Total night minutes</td><td style=\"text-align: left;\">Float</td><td style=\"text-align: left;\">Total call minutes spent by a customer during night time</td></tr><tr><td style=\"text-align: left;\">Total night calls</td><td style=\"text-align: left;\">Integer</td><td style=\"text-align: left;\">Total number of calls made by a customer during night time</td></tr><tr><td style=\"text-align: left;\">Total night charge</td><td style=\"text-align: left;\">Float</td><td style=\"text-align: left;\">Total amount charged to a customer during night time</td></tr><tr><td style=\"text-align: left;\">Total intl minutes</td><td style=\"text-align: left;\">Float</td><td style=\"text-align: left;\">Total international call minutes spent by a customer</td></tr><tr><td style=\"text-align: left;\">Total intl calls</td><td style=\"text-align: left;\">Integer</td><td style=\"text-align: left;\">Total number of international calls made by a customer</td></tr><tr><td style=\"text-align: left;\">Total int charge</td><td style=\"text-align: left;\">Float</td><td style=\"text-align: left;\">Total international call amount charged to a customer</td></tr><tr><td style=\"text-align: left;\">Customer service calls</td><td style=\"text-align: left;\">Integer</td><td style=\"text-align: left;\">Total number of customer service calls made by a customer</td></tr><tr><td style=\"text-align: left;\">Churn</td><td style=\"text-align: left;\">Boolean</td><td style=\"text-align: left;\">Whether a customer is churned or not</td></tr></tbody></table>\n",
    "<h2>Practicalities</h2>\n",
    "<p>You’re free to use any programming language (Python, R, Julia) that you’re familiar with and include the code together with your analysis.</p></div>"
   ]
  },
  {
   "cell_type": "markdown",
   "id": "4b228ab1",
   "metadata": {},
   "source": [
    "## **Data:**"
   ]
  },
  {
   "cell_type": "code",
   "execution_count": null,
   "id": "edf26a1b",
   "metadata": {},
   "outputs": [],
   "source": []
  },
  {
   "cell_type": "markdown",
   "id": "80e3497b",
   "metadata": {},
   "source": [
    "## **Solution:**"
   ]
  },
  {
   "cell_type": "code",
   "execution_count": null,
   "id": "dea57bd2",
   "metadata": {},
   "outputs": [],
   "source": []
  }
 ],
 "metadata": {},
 "nbformat": 4,
 "nbformat_minor": 5
}
